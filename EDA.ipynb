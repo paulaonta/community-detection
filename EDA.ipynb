{
 "cells": [
  {
   "cell_type": "code",
   "execution_count": 1,
   "id": "bb90a898",
   "metadata": {},
   "outputs": [
    {
     "name": "stdout",
     "output_type": "stream",
     "text": [
      "Autore kopurua grafoan: 1843\n",
      "Elkarlan kopurua grafoan: 3211\n",
      "Autore kopurua grafoan: 1843\n",
      "Elkarlan kopurua grafoan: 3211\n",
      "Autore kopurua grafoan: 1843\n",
      "Elkarlan kopurua grafoan: 3211\n",
      "Autore kopurua grafoan: 1843\n",
      "Elkarlan kopurua grafoan: 3211\n"
     ]
    }
   ],
   "source": [
    "from itertools import product\n",
    "from ipynb.fs.defs.CDP_Sarrera_Ikasle import sortu_grafoa \n",
    "from ipynb.fs.defs.CDP_Sarrera_Ikasle import bistaratu_grafoa\n",
    "from ipynb.fs.defs.CDP_1_fasea_Ikasle import kalkulatuHasierakoMAT\n",
    "from ipynb.fs.defs.CDP_1_fasea_Ikasle import modularitatea1OPT\n",
    "import random as rm\n",
    "import copy as cp\n",
    "from pdb import set_trace\n",
    "\n"
   ]
  },
  {
   "cell_type": "code",
   "execution_count": 2,
   "id": "868a98b1",
   "metadata": {},
   "outputs": [
    {
     "name": "stdout",
     "output_type": "stream",
     "text": [
      "Autore kopurua grafoan: 1843\n",
      "Elkarlan kopurua grafoan: 3211\n"
     ]
    }
   ],
   "source": [
    "G = sortu_grafoa()\n",
    "m = G.size(weight='weight')\n",
    "AK,_,_ = kalkulatuHasierakoMAT(G)"
   ]
  },
  {
   "cell_type": "code",
   "execution_count": 6,
   "id": "83ca0263",
   "metadata": {},
   "outputs": [
    {
     "name": "stdout",
     "output_type": "stream",
     "text": [
      "ITERAZIOA: 0\n",
      "POPULAZIOAREN BALIO HOBERENA: 0.00995184647227449\n",
      "ITERAZIOA: 10\n",
      "POPULAZIOAREN BALIO HOBERENA: 0.01019803676856785\n",
      "ITERAZIOA: 20\n",
      "POPULAZIOAREN BALIO HOBERENA: 0.013256104421710416\n",
      "ITERAZIOA: 30\n",
      "POPULAZIOAREN BALIO HOBERENA: 0.014980583281373019\n",
      "ITERAZIOA: 40\n",
      "POPULAZIOAREN BALIO HOBERENA: 0.014980583281373019\n",
      "ITERAZIOA: 50\n",
      "POPULAZIOAREN BALIO HOBERENA: 0.014980583281373019\n",
      "ITERAZIOA: 60\n",
      "POPULAZIOAREN BALIO HOBERENA: 0.014980583281373019\n",
      "ITERAZIOA: 70\n",
      "POPULAZIOAREN BALIO HOBERENA: 0.014980583281373019\n"
     ]
    },
    {
     "ename": "TypeError",
     "evalue": "modularitatea1OPT() missing 1 required positional argument: 'AK'",
     "output_type": "error",
     "traceback": [
      "\u001b[0;31m---------------------------------------------------------------------------\u001b[0m",
      "\u001b[0;31mTypeError\u001b[0m                                 Traceback (most recent call last)",
      "Input \u001b[0;32mIn [6]\u001b[0m, in \u001b[0;36m<cell line: 72>\u001b[0;34m()\u001b[0m\n\u001b[1;32m     70\u001b[0m \u001b[38;5;66;03m#aukera = EDA(G,200,1000,1000) 0.011657931788842184\u001b[39;00m\n\u001b[1;32m     71\u001b[0m aukera \u001b[38;5;241m=\u001b[39m EDA(G,\u001b[38;5;241m200\u001b[39m,\u001b[38;5;241m1000\u001b[39m,\u001b[38;5;241m0.10\u001b[39m,\u001b[38;5;241m0.95\u001b[39m,\u001b[38;5;241m50\u001b[39m,\u001b[38;5;241m500\u001b[39m)\n\u001b[0;32m---> 72\u001b[0m \u001b[38;5;28mprint\u001b[39m(\u001b[43mmodularitatea1OPT\u001b[49m\u001b[43m(\u001b[49m\u001b[43mG\u001b[49m\u001b[43m,\u001b[49m\u001b[43maukera\u001b[49m\u001b[43m)\u001b[49m)\n",
      "\u001b[0;31mTypeError\u001b[0m: modularitatea1OPT() missing 1 required positional argument: 'AK'"
     ]
    }
   ],
   "source": [
    "def EDA(G,k,poplen,Ppop,Pmut,g,iterkop):\n",
    "    populazioa = [hasieratu(G,k) for i in range(poplen)]\n",
    "    iterazio = 0\n",
    "    hoberena = -1\n",
    "    ezAldatu = 0\n",
    "    while iterazio < iterkop and ezAldatu < g:\n",
    "        populazioa = sorted(populazioa, key=lambda x: modularitatea1OPT(G,x,AK), reverse=True)\n",
    "        if hoberena == populazioa[0]:\n",
    "            ezAldatu+=1\n",
    "        else:\n",
    "            ezAldatu = 0\n",
    "        popOpt = tournament(populazioa,k//2,Ppop) #Ensi tournament biño itteko\n",
    "        probVec = probabilitateVec(G,k,popOpt)\n",
    "        if iterazio % 10 == 0:\n",
    "            print(\"ITERAZIOA: \" + str(iterazio))\n",
    "            print(\"POPULAZIOAREN BALIO HOBERENA: \"+ str(modularitatea1OPT(G,populazioa[0],AK)))\n",
    "        for i in range(k//2,poplen):\n",
    "            for j in range(k):\n",
    "                aukera = rm.random()\n",
    "                zenbat = 0\n",
    "                for node in G:\n",
    "                    zenbat+=probVec[j][node]\n",
    "                    if zenbat >= aukera:\n",
    "                        populazioa[i][node] = j\n",
    "                        break\n",
    "        for i in range(k//2,poplen):\n",
    "            mutatu = rm.random()\n",
    "            if mutatu >= Pmut:\n",
    "                populazioa[i] = mutazioa(G,k,populazioa[i])\n",
    "        iterazio += 1\n",
    "        hoberena = cp.deepcopy(populazioa[0])\n",
    "    populazioa = sorted(populazioa, key=lambda x: modularitatea1OPT(G,x,AK), reverse=True)\n",
    "    return populazioa[0]\n",
    "\n",
    "def probabilitateVec(G,k,populazioa):\n",
    "    dicHuts = {}\n",
    "    for node in G:\n",
    "        dicHuts[node]=0\n",
    "    probMat = [cp.deepcopy(dicHuts) for j in range(k)]\n",
    "    for i in range(len(populazioa)):\n",
    "        for node in G:\n",
    "            probMat[populazioa[i][node]][node] += 1/len(populazioa) \n",
    "    return probMat\n",
    "def mutazioa(G,k,partizio):\n",
    "    aukeratutakoa = rm.choice([node for node in G])\n",
    "    aldatu = rm.randrange(k)\n",
    "    partizio[aukeratutakoa] = aldatu\n",
    "    return partizio\n",
    "    \n",
    "\n",
    "def hasieratu(G, k):\n",
    "    partizioaAusaz = {}\n",
    "    for node in G:\n",
    "        partizioaAusaz[node]=rm.randrange(k)\n",
    "    return partizioaAusaz\n",
    "\n",
    "\n",
    "def tournament(populazioa,luzera,Ppop):\n",
    "    emaitza = []\n",
    "    while len(emaitza)<luzera:\n",
    "        for i in range(len(populazioa)):\n",
    "            prob = rm.random()\n",
    "            if Ppop <= prob and populazioa[i] not in emaitza:\n",
    "                emaitza.append(populazioa[i])\n",
    "            if len(emaitza)==luzera:\n",
    "                break\n",
    "    return emaitza\n",
    "\n",
    "\n",
    "#aukera = EDA(G,200,1000,1000) 0.011657931788842184\n",
    "aukera = EDA(G,200,1000,0.10,0.95,50,500)\n",
    "print(modularitatea1OPT(G,aukera,AK))\n",
    "\n",
    "\n",
    "        \n",
    "        \n"
   ]
  },
  {
   "cell_type": "code",
   "execution_count": null,
   "id": "b38cf794",
   "metadata": {},
   "outputs": [],
   "source": [
    "def randomSearch(G,k,iterazioak):\n",
    "    maxB = -float('inf')\n",
    "    maxP = []\n",
    "    for iterazio in range(iterazioak):\n",
    "        partizioa = hasieratu(G,k)\n",
    "        partizioaB = modularitatea1OPT(G,partizioa,AK)\n",
    "        if maxB < partizioaB:\n",
    "            maxP = cp.deepcopy(partizioa)\n",
    "            maxB = partizioaB\n",
    "        if iterazio % 100 == 0:\n",
    "            print(iterazio)\n",
    "    print(maxB)\n",
    "    return maxP\n",
    "\n",
    "\n",
    "randomSearch(G,200,50000) \n",
    "            "
   ]
  }
 ],
 "metadata": {
  "kernelspec": {
   "display_name": "Python 3 (ipykernel)",
   "language": "python",
   "name": "python3"
  },
  "language_info": {
   "codemirror_mode": {
    "name": "ipython",
    "version": 3
   },
   "file_extension": ".py",
   "mimetype": "text/x-python",
   "name": "python",
   "nbconvert_exporter": "python",
   "pygments_lexer": "ipython3",
   "version": "3.9.12"
  }
 },
 "nbformat": 4,
 "nbformat_minor": 5
}

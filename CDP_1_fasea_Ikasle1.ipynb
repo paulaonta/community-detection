{
 "cells": [
  {
   "cell_type": "markdown",
   "metadata": {},
   "source": [
    "# 1. Fasea: Problema formalizatzen"
   ]
  },
  {
   "cell_type": "markdown",
   "metadata": {},
   "source": [
    "#### [Ikasle]\n",
    "\n",
    "Community Detection proiektuaren 1. fasean problema formalizatuko dugu. Dagoeneko klasean ikusi dugu, optimizazio problema bat formalizatzeak zer dakarren. Gogoratze aldera:\n",
    "<ul>\n",
    "  <li> soluzio bideragarrien espazioa definitzea,\n",
    "  <li> soluzioak errepresentatzeko modu egoki bat asmatzea eta\n",
    "  <li> helburu-funtzioa definitzea.\n",
    "</ul>\n",
    "\n",
    "\n",
    "#### Entregablea\n",
    "\n",
    "Lehenengo fasea ebaluatu ahal izateko, notebook hau bera igo beharko duzue eGelara eskatzen diren atazak egoki erantzunda. eGelan zehazten dira <b>egun eta orduan</b>. Garaiz ez entregatzeak, 0 bat suposatuko du ebaluagarria den proiektuaren zati horretan. Adi! Ez dute balio aitzakiek, denbora soberan duzue aurretiaz egiteko, eGelara igotzeko eta aseguratzeko entregatuta geratu dela. <b>Ez dut onartuko atzerapenik</b>.\n"
   ]
  },
  {
   "cell_type": "markdown",
   "metadata": {},
   "source": [
    "https://www.sciencedirect.com/science/article/pii/S0370157309002841?via%3Dihub"
   ]
  },
  {
   "cell_type": "markdown",
   "metadata": {},
   "source": [
    "### Soluzio bideragarrien espazioa\n",
    "\n",
    "Proiektuan, aipatu dugun bezela, elkarlan komunitate desberdinak detektatu nahi ditugu. Horretarako, lehenenik eta behin erantzun beharreko galdera hurrengoa da: <i> Zer da komunitate bat?</i> Sarreran sortu dugun grafoan pentsatuz gero, <i> Nola adieraziko genituzte komunitateak grafoan?</i>\n",
    "Optimizazio konbinatorioko bibliografia begiratzea proposatzen dizuet (Google Scholar, Scopus, Web of Science...). Problema honek, berria ematen duen arren, hamarkada asko atzera aztertu zen lehenengo aldiz.\n",
    "\n",
    "Jarrian dagoen eremuan, 400 hitzetan, azaldu zer den Community Detection problema, eta eman aurreko galderei erantzuna. Behar izanez gero, gehitu irudiak. Garrantzitsua, erabilitako erreferentzia bibliografikoak testuan zuzenean adierazi beharko dituzue."
   ]
  },
  {
   "cell_type": "markdown",
   "metadata": {
    "collapsed": true
   },
   "source": [
    "#### Zer da komunitate bat?\n",
    "Komunitate bat nodoen multzo bat da. Zeina elkarlan handia egin duten nodoek osatzen duten. \n",
    "### BETEEEEEE\n"
   ]
  },
  {
   "cell_type": "markdown",
   "metadata": {},
   "source": [
    "#### Nola adieraziko genituzte komunitateak grafoan? \n",
    "Komunitateak adierazteko izango dugu bektore bat non posizio bakoitza nodo bati dagokio eta posizio horretan dagoen zenbakia komunitate zenbakia izango da."
   ]
  },
  {
   "cell_type": "markdown",
   "metadata": {},
   "source": [
    "### Soluzioen errepresentazioa\n",
    "\n",
    "Behin aurreko galderak erantzun ditugula, eta badakigula nola adierazi komunitate bat, soluzioak errepresentatzeko kodeketa bat aukeratu behar dugu. Klasean hainbat kodeketa ikusi ditugu, horietako bat aproposa izan daiteke komunitateak identifikatzeko. Jarraian, proposatu soluzio batzuk esku artean dugun problemarentzako. <i>Nola kodetuko dugu komunitateen identifikazio bat?</i> Pentsatu..."
   ]
  },
  {
   "cell_type": "code",
   "execution_count": 2,
   "metadata": {},
   "outputs": [
    {
     "name": "stdout",
     "output_type": "stream",
     "text": [
      "1. soluzioa: [0, 1, 2, 3, 4, 5, 6, 7, 8, 9, 10, 11, 12, 13, 14, 15, 16, 17, 18, 19, 20, 21, 22, 23, 24, 25, 26, 27, 28, 29, 30, 31, 32, 33, 34, 35, 36, 37, 38, 39, 40, 41, 42, 43, 44, 45, 46, 47, 48, 49, 50, 20, 24, 10, 21, 41, 1, 0, 18, 27, 33, 42, 30, 12, 32, 33, 45, 37, 27, 39, 46, 14, 33, 8, 50, 20, 7, 22, 32, 34, 0, 12, 6, 22, 28, 19, 47, 40, 26, 3, 22, 50, 38, 6, 31, 41, 28, 40, 39, 32, 45, 31, 22, 32, 6, 43, 46, 36, 29, 4, 6, 30, 14, 10, 29, 39, 30, 19, 38, 47, 30, 40, 8, 8, 48, 38, 29, 47, 33, 29, 4, 45, 13, 32, 16, 33, 0, 33, 30, 26, 25, 9, 3, 45, 32, 10, 5, 17, 48, 9, 46, 18, 14, 36, 26, 14, 19, 20, 6, 22, 36, 5, 14, 1, 43, 27, 15, 1, 15, 11, 30, 37, 21, 20, 15, 0, 25, 35, 17, 13, 23, 3, 21, 4, 14, 44, 32, 34, 5, 27, 15, 39, 42, 35, 14, 25, 39, 19, 28, 0, 45, 30, 33, 43, 10, 32, 32, 14, 33, 48, 19, 28, 34, 20, 42, 17, 46, 18, 44, 22, 8, 38, 31, 9, 11, 41, 16, 17, 49, 6, 46, 42, 23, 21, 46, 18, 1, 14, 17, 28, 19, 33, 48, 44, 15, 41, 7, 42, 9, 11, 22, 32, 32, 11, 18, 12, 11, 49, 30, 40, 27, 23, 14, 14, 21, 46, 5, 38, 36, 46, 14, 21, 36, 33, 46, 47, 28, 39, 5, 0, 37, 34, 10, 14, 41, 2, 36, 18, 22, 42, 44, 43, 14, 19, 38, 9, 16, 30, 22, 32, 4, 0, 6, 10, 23, 16, 39, 32, 46, 28, 7, 34, 36, 13, 24, 13, 38, 18, 50, 24, 10, 49, 46, 10, 15, 41, 31, 3, 20, 50, 21, 2, 15, 44, 36, 44, 5, 36, 41, 13, 5, 3, 38, 45, 49, 13, 24, 11, 41, 47, 46, 26, 4, 1, 40, 15, 27, 23, 43, 13, 6, 33, 28, 3, 15, 14, 49, 17, 6, 31, 1, 32, 29, 4, 4, 5, 29, 46, 18, 47, 18, 36, 36, 50, 5, 28, 35, 48, 4, 13, 46, 38, 21, 25, 41, 29, 37, 8, 19, 44, 20, 29, 42, 9, 9, 26, 6, 15, 39, 11, 8, 41, 22, 2, 24, 7, 48, 8, 41, 4, 36, 20, 47, 3, 23, 31, 42, 37, 9, 39, 20, 10, 25, 47, 5, 36, 32, 33, 18, 14, 0, 36, 5, 12, 49, 37, 48, 22, 28, 31, 28, 22, 0, 31, 34, 50, 9, 8, 11, 29, 25, 29, 33, 16, 39, 47, 33, 2, 47, 48, 11, 26, 42, 32, 19, 50, 11, 5, 9, 13, 39, 38, 46, 41, 1, 46, 33, 45, 5, 40, 3, 38, 26, 36, 46, 10, 0, 18, 6, 24, 39, 10, 29, 32, 47, 9, 15, 46, 8, 37, 18, 9, 16, 16, 13, 1, 19, 38, 13, 48, 16, 5, 7, 40, 9, 36, 17, 27, 48, 14, 50, 21, 31, 33, 39, 23, 33, 38, 37, 13, 30, 45, 11, 20, 14, 2, 19, 8, 37, 31, 0, 37, 1, 11, 23, 5, 49, 19, 12, 1, 44, 4, 48, 27, 0, 32, 30, 1, 38, 8, 24, 8, 23, 2, 12, 43, 16, 17, 6, 30, 10, 23, 12, 35, 15, 26, 31, 38, 20, 12, 7, 32, 44, 9, 6, 16, 10, 9, 18, 8, 8, 6, 49, 9, 27, 14, 10, 31, 47, 18, 31, 38, 49, 0, 38, 31, 29, 48, 21, 24, 23, 10, 20, 17, 7, 12, 37, 28, 50, 33, 31, 38, 9, 19, 5, 25, 0, 28, 13, 27, 3, 0, 24, 32, 34, 19, 40, 13, 0, 23, 30, 12, 0, 47, 35, 10, 19, 40, 9, 9, 15, 11, 37, 45, 41, 30, 49, 20, 10, 20, 25, 3, 1, 24, 4, 17, 17, 34, 24, 7, 28, 35, 40, 26, 30, 5, 47, 46, 44, 3, 38, 31, 23, 16, 42, 29, 39, 39, 50, 14, 48, 39, 7, 35, 29, 0, 1, 48, 25, 19, 39, 36, 46, 23, 47, 33, 39, 45, 46, 11, 26, 34, 47, 25, 27, 1, 34, 17, 5, 45, 29, 13, 26, 47, 50, 37, 37, 0, 10, 32, 28, 49, 40, 39, 34, 8, 30, 47, 38, 10, 14, 0, 41, 40, 19, 42, 20, 46, 11, 9, 49, 27, 36, 18, 32, 2, 8, 28, 14, 27, 18, 5, 2, 49, 49, 38, 11, 25, 15, 28, 50, 8, 10, 34, 48, 21, 41, 26, 34, 32, 11, 11, 40, 9, 46, 7, 29, 29, 12, 1, 21, 19, 32, 19, 1, 34, 10, 44, 24, 49, 45, 9, 19, 27, 8, 2, 37, 47, 39, 37, 34, 13, 33, 9, 22, 16, 15, 23, 48, 23, 6, 30, 29, 25, 5, 12, 9, 25, 2, 43, 15, 30, 36, 47, 25, 34, 14, 26, 38, 42, 8, 27, 11, 42, 12, 16, 7, 47, 38, 19, 29, 39, 15, 15, 37, 12, 34, 15, 20, 34, 3, 28, 46, 42, 32, 0, 50, 27, 16, 46, 32, 1, 6, 24, 16, 38, 37, 48, 33, 41, 38, 13, 27, 21, 42, 3, 11, 20, 11, 8, 15, 5, 41, 45, 2, 2, 34, 20, 44, 28, 10, 46, 34, 13, 38, 27, 46, 6, 35, 9, 40, 17, 9, 35, 9, 34, 20, 42, 46, 19, 10, 21, 37, 9, 13, 8, 8, 3, 2, 31, 13, 11, 29, 15, 22, 10, 40, 14, 8, 44, 37, 10, 43, 41, 14, 10, 25, 10, 28, 46, 35, 25, 12, 38, 40, 18, 21, 32, 22, 40, 6, 3, 22, 17, 17, 40, 17, 36, 5, 12, 22, 14, 32, 5, 29, 46, 5, 49, 1, 24, 21, 41, 47, 9, 34, 7, 48, 31, 0, 28, 25, 29, 9, 41, 16, 14, 6, 41, 22, 18, 49, 7, 14, 35, 46, 32, 14, 22, 17, 31, 26, 30, 32, 11, 34, 22, 18, 44, 9, 0, 38, 45, 42, 19, 2, 24, 2, 35, 25, 42, 2, 17, 4, 29, 29, 3, 39, 44, 44, 12, 19, 40, 49, 9, 31, 29, 9, 22, 48, 35, 22, 44, 25, 18, 34, 38, 12, 23, 0, 1, 33, 11, 14, 17, 7, 8, 0, 0, 15, 6, 24, 18, 37, 46, 22, 15, 46, 10, 20, 13, 28, 17, 28, 2, 34, 49, 17, 15, 22, 47, 43, 49, 48, 43, 5, 5, 49, 44, 13, 2, 22, 10, 45, 45, 8, 40, 27, 3, 14, 10, 31, 13, 3, 27, 37, 45, 16, 45, 17, 33, 22, 46, 28, 27, 48, 8, 31, 24, 2, 11, 24, 44, 12, 27, 36, 26, 3, 5, 32, 30, 4, 42, 31, 7, 49, 27, 18, 28, 44, 3, 42, 50, 9, 22, 11, 26, 14, 38, 25, 31, 24, 31, 22, 41, 13, 17, 16, 11, 45, 30, 7, 10, 14, 36, 27, 31, 39, 29, 28, 32, 34, 41, 14, 49, 45, 33, 16, 10, 17, 36, 11, 13, 12, 9, 0, 1, 34, 23, 29, 26, 32, 48, 42, 26, 44, 14, 5, 24, 48, 1, 2, 39, 25, 20, 41, 39, 37, 6, 25, 26, 47, 2, 47, 43, 39, 44, 41, 14, 46, 12, 25, 30, 27, 38, 33, 23, 4, 49, 41, 10, 4, 1, 34, 8, 9, 21, 19, 6, 46, 16, 3, 35, 1, 8, 9, 27, 8, 15, 11, 36, 45, 28, 18, 7, 8, 39, 42, 0, 11, 44, 19, 3, 33, 6, 7, 23, 48, 28, 40, 36, 43, 50, 1, 44, 19, 9, 20, 50, 40, 47, 50, 44, 12, 10, 36, 43, 14, 50, 48, 49, 23, 49, 46, 9, 42, 44, 0, 1, 14, 22, 21, 48, 2, 20, 35, 22, 15, 22, 14, 23, 22, 41, 42, 38, 5, 22, 3, 7, 4, 30, 7, 3, 32, 37, 41, 15, 19, 27, 27, 44, 43, 11, 29, 34, 21, 13, 21, 47, 25, 7, 5, 6, 6, 46, 5, 49, 15, 31, 27, 10, 40, 2, 16, 47, 37, 2, 32, 22, 32, 28, 47, 35, 24, 25, 20, 38, 48, 37, 32, 49, 1, 23, 35, 27, 4, 14, 40, 50, 28, 30, 47, 38, 1, 19, 29, 2, 3, 3, 50, 43, 43, 24, 49, 14, 23, 0, 36, 39, 49, 13, 43, 49, 21, 34, 4, 46, 31, 20, 17, 45, 40, 7, 11, 39, 48, 43, 8, 8, 6, 26, 31, 10, 30, 32, 21, 11, 44, 24, 44, 28, 2, 14, 18, 13, 17, 38, 4, 40, 27, 0, 43, 12, 7, 9, 1, 48, 16, 30, 24, 47, 27, 42, 26, 31, 13, 14, 19, 21, 49, 25, 30, 0, 23, 37, 7, 2, 34, 45, 3, 32, 30, 30, 16, 18, 33, 2, 7, 22, 46, 24, 17, 21, 10, 32, 7, 28, 46, 41, 8, 18, 40, 43, 17, 26, 0, 4, 14, 26, 22, 5, 29, 46, 2, 23, 26, 16, 29, 38, 17, 39, 13, 25, 32, 17, 22, 36, 12, 49, 48, 44, 34, 16, 25, 2, 48, 19, 15, 21, 9, 34, 10, 4, 47, 49, 48, 30, 23, 50, 26, 10, 9, 0, 38, 6, 10, 43, 42, 36, 14, 41, 9, 26, 45, 24, 36, 36, 21, 42, 31, 33, 36, 43, 37, 12, 15, 2, 26, 27, 45, 17, 17, 16, 34, 42, 18, 34, 45, 36, 22, 40, 20, 3, 17, 32, 49, 3, 11, 22, 49, 11, 9, 33, 20, 49, 13, 12, 49, 1, 14, 12, 34, 26, 36, 21, 45, 48, 18, 12, 19, 10, 2, 16, 4, 12, 46, 3, 5, 9, 23, 18, 29, 23, 41, 50, 50, 20, 44, 38, 46, 7, 17, 32, 30, 8, 8, 4, 35, 24, 35, 18, 34, 47, 30, 30, 23, 33, 0, 1, 15, 34, 31, 2, 24, 7, 18, 8, 42, 39, 0, 18, 45, 37, 32, 41, 44, 16, 43, 36, 8, 10, 20, 35, 1, 50, 19, 49, 28, 16, 24, 5, 46, 9, 23, 29, 23, 44, 2, 9, 1, 12, 31, 43, 31, 4, 47, 23, 45, 15, 39, 11, 34, 28, 45, 7, 3, 44, 31, 18, 13, 25, 48, 35, 2, 23, 32, 11, 32, 45, 8, 26, 16, 35, 32, 36, 41, 33, 3, 28, 10, 12, 12, 22, 4, 14, 47, 39, 33, 33, 22, 16, 16, 18, 7, 31, 37, 43, 1, 5, 50, 34, 3, 10, 20, 43, 21, 15, 21, 24, 36, 47, 7, 35, 5, 34, 22, 31, 14, 4, 43, 21, 46, 35, 12, 40, 4, 8, 18, 46, 22, 39, 12, 20, 43, 31, 36, 32, 21, 23, 1, 4, 23, 43, 43, 12, 33, 35, 45, 16, 35, 17, 50, 6, 24, 8, 11, 33, 23, 43, 49, 23, 39, 40, 12, 12, 43, 45, 21, 26, 25, 37, 28, 26, 34]\n",
      "\n",
      "*******************************\n",
      "\n",
      "2. soluzioa: [0, 1, 2, 3, 4, 5, 6, 7, 8, 9, 10, 11, 12, 13, 14, 15, 16, 17, 18, 19, 20, 21, 22, 23, 24, 11, 12, 6, 13, 12, 15, 20, 14, 15, 3, 23, 18, 5, 24, 12, 14, 22, 1, 19, 13, 10, 25, 25, 3, 4, 25, 22, 25, 23, 2, 6, 2, 11, 20, 7, 12, 0, 21, 20, 1, 12, 16, 4, 9, 9, 6, 6, 23, 16, 9, 4, 15, 20, 22, 19, 18, 9, 17, 13, 3, 0, 10, 5, 15, 9, 16, 23, 17, 5, 16, 5, 2, 3, 15, 23, 0, 4, 12, 11, 18, 20, 23, 5, 16, 2, 22, 25, 5, 16, 4, 2, 8, 20, 8, 25, 13, 9, 0, 0, 13, 13, 18, 7, 23, 1, 10, 6, 21, 12, 18, 22, 13, 13, 6, 10, 13, 1, 16, 22, 15, 14, 25, 4, 17, 17, 18, 21, 14, 6, 4, 7, 9, 4, 21, 10, 14, 16, 16, 22, 10, 1, 8, 7, 11, 20, 4, 5, 9, 11, 10, 8, 2, 10, 7, 4, 5, 7, 24, 2, 21, 4, 22, 20, 23, 2, 7, 7, 5, 9, 22, 13, 23, 0, 24, 9, 2, 21, 20, 13, 18, 17, 17, 17, 10, 1, 23, 14, 12, 0, 5, 6, 18, 6, 17, 13, 13, 10, 6, 14, 1, 25, 11, 0, 2, 12, 0, 19, 23, 17, 19, 7, 4, 25, 23, 14, 4, 20, 24, 19, 7, 20, 8, 1, 11, 17, 11, 25, 6, 20, 10, 6, 17, 13, 22, 3, 11, 4, 10, 13, 8, 11, 13, 6, 10, 15, 11, 10, 9, 4, 25, 10, 7, 9, 25, 22, 8, 11, 0, 0, 22, 8, 17, 14, 7, 6, 23, 12, 7, 11, 25, 3, 5, 5, 18, 24, 22, 0, 4, 23, 25, 11, 10, 8, 24, 0, 17, 18, 6, 24, 9, 23, 23, 12, 11, 6, 15, 0, 13, 15, 14, 8, 7, 7, 10, 3, 14, 24, 4, 6, 14, 12, 13, 8, 16, 2, 10, 14, 4, 11, 18, 6, 12, 1, 14, 21, 17, 15, 20, 21, 9, 17, 12, 18, 1, 15, 13, 15, 3, 17, 0, 8, 2, 15, 3, 17, 7, 12, 14, 23, 13, 13, 6, 6, 10, 14, 14, 13, 23, 15, 6, 9, 9, 15, 20, 16, 7, 20, 10, 4, 0, 21, 1, 22, 8, 17, 21, 8, 0, 9, 0, 12, 7, 21, 14, 25, 7, 8, 17, 6, 0, 10, 20, 25, 21, 9, 0, 6, 8, 1, 16, 19, 4, 21, 14, 16, 3, 6, 12, 4, 19, 1, 11, 24, 8, 11, 15, 17, 5, 0, 10, 19, 13, 16, 12, 12, 18, 23, 22, 24, 15, 9, 10, 1, 16, 21, 3, 21, 7, 17, 12, 24, 16, 9, 16, 14, 3, 5, 18, 0, 17, 18, 23, 13, 7, 25, 1, 4, 11, 15, 8, 3, 8, 12, 12, 13, 25, 20, 21, 13, 2, 15, 11, 0, 25, 12, 3, 12, 17, 12, 7, 7, 23, 8, 19, 11, 1, 7, 11, 25, 21, 14, 22, 6, 19, 2, 9, 10, 12, 3, 11, 7, 2, 22, 7, 14, 23, 6, 14, 21, 10, 7, 13, 22, 20, 15, 20, 12, 25, 24, 15, 2, 8, 9, 11, 19, 0, 1, 18, 1, 8, 17, 5, 4, 23, 9, 15, 7, 11, 19, 24, 7, 23, 21, 6, 7, 23, 3, 24, 22, 11, 1, 12, 18, 1, 9, 18, 25, 10, 6, 11, 5, 13, 3, 16, 0, 14, 14, 5, 11, 9, 10, 19, 25, 20, 10, 13, 12, 4, 5, 11, 11, 10, 20, 9, 7, 17, 8, 16, 11, 13, 8, 6, 25, 14, 7, 0, 20, 10, 4, 12, 17, 21, 11, 6, 5, 10, 24, 7, 12, 1, 8, 3, 3, 14, 22, 12, 2, 21, 21, 13, 15, 21, 25, 19, 1, 8, 1, 15, 10, 5, 7, 21, 11, 19, 2, 14, 8, 8, 6, 14, 21, 0, 23, 6, 21, 24, 17, 15, 15, 4, 17, 11, 5, 16, 15, 21, 2, 3, 14, 10, 13, 20, 12, 23, 15, 18, 14, 17, 12, 20, 2, 4, 17, 13, 25, 13, 19, 1, 7, 2, 22, 19, 10, 12, 11, 11, 24, 12, 0, 4, 13, 18, 22, 14, 0, 17, 15, 20, 5, 16, 6, 18, 8, 25, 0, 13, 25, 21, 10, 4, 1, 25, 24, 4, 16, 11, 4, 9, 25, 19, 2, 3, 16, 15, 19, 13, 14, 21, 10, 25, 12, 16, 21, 13, 3, 19, 7, 14, 1, 5, 7, 25, 2, 5, 14, 14, 23, 8, 25, 14, 9, 25, 2, 15, 13, 12, 17, 5, 12, 3, 6, 24, 0, 20, 22, 25, 8, 11, 18, 10, 8, 1, 12, 19, 25, 6, 0, 10, 22, 23, 19, 18, 20, 14, 20, 4, 8, 22, 21, 14, 16, 25, 8, 15, 12, 9, 14, 25, 10, 5, 0, 8, 10, 3, 4, 12, 25, 21, 10, 7, 21, 2, 21, 13, 24, 8, 6, 13, 1, 21, 18, 19, 18, 1, 19, 20, 23, 5, 5, 9, 20, 12, 10, 9, 17, 8, 8, 8, 23, 22, 24, 14, 22, 17, 1, 15, 18, 25, 12, 25, 24, 9, 3, 9, 6, 0, 17, 1, 15, 15, 4, 5, 8, 16, 13, 3, 3, 14, 0, 1, 3, 14, 10, 17, 11, 17, 5, 4, 23, 11, 19, 9, 2, 17, 2, 24, 19, 21, 12, 4, 15, 13, 18, 14, 25, 22, 23, 2, 11, 0, 5, 23, 17, 10, 22, 4, 14, 16, 11, 2, 23, 1, 23, 7, 18, 2, 6, 2, 12, 23, 15, 9, 12, 12, 14, 15, 18, 24, 17, 18, 16, 7, 15, 25, 6, 24, 4, 22, 4, 16, 2, 0, 7, 0, 25, 21, 21, 15, 6, 16, 24, 1, 8, 4, 16, 0, 10, 5, 12, 9, 7, 15, 11, 2, 6, 23, 0, 3, 15, 23, 11, 18, 15, 11, 10, 11, 7, 0, 18, 11, 1, 24, 3, 17, 17, 18, 3, 15, 6, 17, 8, 13, 7, 21, 4, 13, 25, 12, 2, 2, 2, 0, 2, 16, 5, 3, 12, 8, 18, 19, 23, 7, 23, 8, 8, 10, 17, 1, 16, 14, 16, 9, 15, 6, 11, 11, 25, 4, 13, 14, 9, 0, 22, 19, 16, 5, 10, 5, 20, 12, 8, 23, 9, 5, 8, 18, 9, 20, 23, 9, 9, 20, 24, 25, 2, 18, 19, 17, 15, 15, 17, 24, 13, 12, 6, 18, 3, 0, 6, 25, 8, 8, 9, 10, 13, 15, 6, 21, 17, 13, 14, 25, 3, 13, 21, 4, 5, 23, 12, 20, 12, 20, 12, 11, 6, 24, 25, 25, 7, 9, 20, 10, 19, 17, 18, 6, 20, 15, 11, 16, 25, 20, 7, 23, 22, 11, 17, 15, 1, 4, 16, 18, 12, 9, 5, 1, 0, 9, 24, 18, 4, 0, 1, 1, 15, 18, 17, 3, 10, 6, 13, 12, 3, 15, 10, 10, 0, 2, 18, 18, 12, 5, 20, 10, 12, 25, 13, 18, 14, 8, 8, 6, 6, 25, 1, 22, 13, 19, 13, 22, 7, 18, 22, 22, 6, 13, 14, 12, 25, 22, 24, 0, 1, 23, 17, 21, 20, 14, 12, 12, 17, 16, 11, 25, 22, 18, 22, 3, 13, 9, 6, 13, 11, 24, 3, 18, 15, 18, 21, 9, 4, 6, 15, 16, 0, 21, 0, 22, 20, 5, 24, 2, 19, 4, 24, 2, 15, 15, 19, 6, 4, 17, 3, 11, 3, 14, 13, 8, 22, 24, 4, 2, 8, 6, 20, 23, 13, 6, 14, 10, 20, 13, 7, 23, 19, 15, 8, 4, 1, 8, 0, 8, 20, 0, 20, 15, 3, 1, 7, 12, 21, 0, 16, 13, 20, 16, 12, 23, 0, 12, 15, 14, 21, 17, 22, 18, 22, 16, 24, 18, 4, 10, 23, 22, 17, 14, 11, 25, 23, 22, 6, 16, 9, 15, 1, 10, 12, 11, 15, 16, 6, 24, 11, 23, 4, 7, 21, 1, 4, 12, 9, 8, 22, 0, 3, 25, 17, 3, 22, 14, 23, 16, 22, 12, 21, 16, 12, 13, 22, 20, 22, 21, 20, 12, 24, 16, 1, 10, 11, 12, 21, 12, 17, 18, 2, 20, 15, 14, 6, 8, 18, 16, 13, 1, 22, 12, 4, 16, 5, 4, 11, 1, 8, 9, 18, 23, 12, 17, 20, 9, 24, 13, 16, 25, 18, 20, 1, 9, 6, 12, 15, 13, 7, 15, 3, 15, 16, 10, 1, 3, 24, 20, 15, 0, 14, 23, 19, 17, 22, 14, 5, 16, 18, 19, 24, 7, 23, 23, 15, 10, 0, 14, 22, 14, 25, 17, 17, 4, 25, 18, 5, 11, 8, 21, 0, 13, 1, 23, 4, 15, 8, 25, 25, 0, 0, 16, 14, 1, 10, 14, 8, 5, 0, 21, 2, 23, 4, 19, 13, 11, 5, 17, 2, 8, 10, 3, 13, 10, 13, 18, 21, 8, 21, 2, 13, 5, 9, 14, 5, 1, 6, 24, 10, 23, 0, 8, 3, 24, 7, 13, 10, 0, 0, 11, 13, 7, 6, 6, 10, 9, 20, 3, 7, 24, 10, 12, 8, 25, 19, 2, 20, 25, 13, 11, 3, 3, 11, 20, 3, 17, 21, 24, 22, 8, 10, 4, 13, 2, 1, 21, 6, 8, 10, 9, 15, 10, 24, 18, 6, 8, 17, 24, 14, 3, 5, 12, 4, 2, 6, 4, 5, 5, 8, 11, 0, 6, 10, 6, 1, 12, 23, 13, 18, 5, 7, 21, 22, 23, 14, 21, 25, 8, 1, 25, 21, 17, 24, 19, 24, 10, 24, 0, 19, 23, 10, 8, 24, 7, 2, 3, 9, 2, 11, 23, 9, 12, 9, 12, 23, 21, 25, 12, 5, 16, 25, 4, 23, 7, 24, 10, 5, 12, 5, 1, 7, 18, 24, 1, 20, 1, 10, 2, 23, 0, 14, 1, 25, 11, 23, 23, 15, 24, 7, 21, 7, 4, 11, 2, 14, 19, 7, 24, 21, 21, 13, 7, 7, 11, 6, 16, 15, 14, 14, 11, 10, 2, 6, 18, 6, 11, 3, 21, 14, 9, 2, 8, 17, 2, 1, 10, 14, 14, 5, 16, 25, 1, 10, 6, 5, 14, 6, 0, 18, 11, 19, 10, 25, 24, 0, 4, 3, 14, 22, 3, 23, 2, 9, 5, 8, 0, 24, 25, 3, 16, 24, 15, 8, 10, 18, 6, 17, 12, 12, 20, 14, 25, 21, 14, 22, 5, 10, 15, 4, 20, 6, 11, 20, 8, 23, 25, 3, 6, 23, 25, 24, 5, 23, 24, 2, 5, 20, 17, 22, 15, 12, 10, 21, 25, 4, 21, 14, 5, 24, 12, 15, 13, 16, 13, 22, 6, 0, 3, 24, 22, 6, 21, 2, 18, 10, 22, 20, 18, 20, 21, 22, 16, 19, 1, 18, 10, 3, 15, 12, 14, 19, 15, 2, 25, 15, 25, 3, 16, 1, 8, 18, 25, 6, 22, 5, 17, 13, 24, 12, 9, 23, 15, 12, 20, 18, 6, 6, 13, 13, 4, 15, 1, 20, 19]\n"
     ]
    }
   ],
   "source": [
    "### Eman soluzioen adibide batzuk\n",
    "import random as rm\n",
    "soluzioa_1 =[i for i in range(50)] + [rm.randint(0,50) for i in range(1843-50)]\n",
    "soluzioa_2 =[i for i in range(25)] + [rm.randint(0,25) for i in range(1843-25)]\n",
    "print(\"1. soluzioa: \" +str(soluzioa_1))\n",
    "print()\n",
    "print(\"*******************************\")\n",
    "print()\n",
    "print(\"2. soluzioa: \" + str(soluzioa_2))"
   ]
  },
  {
   "cell_type": "markdown",
   "metadata": {},
   "source": [
    "### Helburu-funtzioa\n",
    "\n",
    "Dagoeneko badakigu zer den komunitate bat, eta nola adierazi ere. Esan dugu, elkarlanen bitartez identifikatuko ditugula komunitateak. Baina, zerk eragiten du autore bat komunitate baten parte izateak? Adibidez, nahiko al da behin artikulu bat idaztea beste autore batzuekin, komunitatearen parte izateko? Erantzuna, argi dago, ezezkoa dela.\n",
    "\n",
    "Jarraian dagoen erreferentzian oinarrituko gara, helburu-funtzio egoki bat aukeratzeko. Zein aukeratuko zenuke? Pentsatu ondo! Badago bat oso egokia!\n",
    "\n",
    "   <i> Clauset, A.; Newman, M. E. J. \\& Moore, C. Finding community structure in very large networks, Physical Review E 2004, 70, 066111</i>\n",
    "   \n",
    "Jarraian eman 200 hitzetako azalpen bat aukeratu duzun helburu-funtzioaren inguruan. Horrez gain, adierazi ekuazio matematiko bidez, helburu-funtzioa (LaTeX notazioa onartzen du konpiladoreak). Ondoren, inplementatu helburu-funtzioa ere (funtzioaren egitura orokorra planteatzen dizuet). Azkenik helburu-funtzioaren pseudokode orokor bat ere idatzi beharko duzu."
   ]
  },
  {
   "cell_type": "markdown",
   "metadata": {
    "collapsed": true
   },
   "source": [
    "# Idatzi hemen, 200 hitzetako azalpena, ekuazioa eta pseudokodea.\n",
    "\n",
    "$$\\sum_{i=0}^{n} \\sum_{j=0}^{n} w_{ij} (b_{i}- b_{j})^{\\lambda } \\quad non\\quad\n",
    "\\left\\{\\begin{matrix}\n",
    " \\lambda =0 \\quad \\quad baldin \\quad b_{i}\\neq  b_{j} &\\\\ \\lambda =1 \\quad \\quad baldin \\quad b_{i}= b_{j}\n",
    " &\n",
    "\\end{matrix}\\right.$$\n",
    "\n",
    "\n",
    "Non w \n",
    "\n",
    "Paperreko 4. Formula?"
   ]
  },
  {
   "cell_type": "code",
   "execution_count": 28,
   "metadata": {},
   "outputs": [
    {
     "name": "stdout",
     "output_type": "stream",
     "text": [
      "Autore kopurua grafoan: 1843\n",
      "Elkarlan kopurua grafoan: 3215\n"
     ]
    },
    {
     "ename": "KeyError",
     "evalue": "0",
     "output_type": "error",
     "traceback": [
      "\u001b[0;31m---------------------------------------------------------------------------\u001b[0m",
      "\u001b[0;31mKeyError\u001b[0m                                  Traceback (most recent call last)",
      "\u001b[0;32m/tmp/ipykernel_4821/1152094662.py\u001b[0m in \u001b[0;36m<cell line: 28>\u001b[0;34m()\u001b[0m\n\u001b[1;32m     26\u001b[0m \u001b[0mpartition2\u001b[0m\u001b[0;34m=\u001b[0m \u001b[0mdict\u001b[0m\u001b[0;34m(\u001b[0m\u001b[0mzip\u001b[0m\u001b[0;34m(\u001b[0m\u001b[0mG\u001b[0m\u001b[0;34m.\u001b[0m\u001b[0mnodes\u001b[0m\u001b[0;34m,\u001b[0m \u001b[0msoluzioa_2\u001b[0m\u001b[0;34m)\u001b[0m\u001b[0;34m)\u001b[0m\u001b[0;34m\u001b[0m\u001b[0;34m\u001b[0m\u001b[0m\n\u001b[1;32m     27\u001b[0m \u001b[0;34m\u001b[0m\u001b[0m\n\u001b[0;32m---> 28\u001b[0;31m \u001b[0mprint\u001b[0m\u001b[0;34m(\u001b[0m\u001b[0;34m\"1. soluzioaren modularitatea: \"\u001b[0m\u001b[0;34m,\u001b[0m \u001b[0mmodularitatea\u001b[0m\u001b[0;34m(\u001b[0m\u001b[0mG\u001b[0m\u001b[0;34m,\u001b[0m \u001b[0mpartition1\u001b[0m\u001b[0;34m)\u001b[0m\u001b[0;34m)\u001b[0m\u001b[0;34m\u001b[0m\u001b[0;34m\u001b[0m\u001b[0m\n\u001b[0m\u001b[1;32m     29\u001b[0m \u001b[0mprint\u001b[0m\u001b[0;34m(\u001b[0m\u001b[0;34m\"2. soluzioaren modularitatea: \"\u001b[0m\u001b[0;34m,\u001b[0m \u001b[0mmodularitatea\u001b[0m\u001b[0;34m(\u001b[0m\u001b[0mG\u001b[0m\u001b[0;34m,\u001b[0m \u001b[0mpartition2\u001b[0m\u001b[0;34m)\u001b[0m\u001b[0;34m)\u001b[0m\u001b[0;34m\u001b[0m\u001b[0;34m\u001b[0m\u001b[0m\n",
      "\u001b[0;32m/tmp/ipykernel_4821/1152094662.py\u001b[0m in \u001b[0;36mmodularitatea\u001b[0;34m(G, partizioa, weight)\u001b[0m\n\u001b[1;32m     13\u001b[0m     \u001b[0;32mfor\u001b[0m \u001b[0mi\u001b[0m \u001b[0;32min\u001b[0m \u001b[0mrange\u001b[0m\u001b[0;34m(\u001b[0m\u001b[0mlen\u001b[0m\u001b[0;34m(\u001b[0m\u001b[0mG\u001b[0m\u001b[0;34m)\u001b[0m\u001b[0;34m)\u001b[0m\u001b[0;34m:\u001b[0m\u001b[0;34m\u001b[0m\u001b[0;34m\u001b[0m\u001b[0m\n\u001b[1;32m     14\u001b[0m         \u001b[0;32mfor\u001b[0m \u001b[0mj\u001b[0m \u001b[0;32min\u001b[0m \u001b[0mrange\u001b[0m\u001b[0;34m(\u001b[0m\u001b[0mlen\u001b[0m\u001b[0;34m(\u001b[0m\u001b[0mG\u001b[0m\u001b[0;34m)\u001b[0m\u001b[0;34m)\u001b[0m\u001b[0;34m:\u001b[0m\u001b[0;34m\u001b[0m\u001b[0;34m\u001b[0m\u001b[0m\n\u001b[0;32m---> 15\u001b[0;31m             \u001b[0mprint\u001b[0m\u001b[0;34m(\u001b[0m\u001b[0mG\u001b[0m\u001b[0;34m.\u001b[0m\u001b[0mnodes\u001b[0m\u001b[0;34m(\u001b[0m\u001b[0mi\u001b[0m\u001b[0;34m)\u001b[0m\u001b[0;34m[\u001b[0m\u001b[0;36m0\u001b[0m\u001b[0;34m]\u001b[0m\u001b[0;34m)\u001b[0m\u001b[0;34m\u001b[0m\u001b[0;34m\u001b[0m\u001b[0m\n\u001b[0m\u001b[1;32m     16\u001b[0m             \u001b[0;32mif\u001b[0m\u001b[0;34m(\u001b[0m\u001b[0mpartizio\u001b[0m\u001b[0;34m[\u001b[0m\u001b[0mstr\u001b[0m\u001b[0;34m(\u001b[0m\u001b[0mG\u001b[0m\u001b[0;34m.\u001b[0m\u001b[0mnodes\u001b[0m\u001b[0;34m(\u001b[0m\u001b[0mi\u001b[0m\u001b[0;34m)\u001b[0m\u001b[0;34m[\u001b[0m\u001b[0;36m0\u001b[0m\u001b[0;34m]\u001b[0m\u001b[0;34m)\u001b[0m\u001b[0;34m]\u001b[0m \u001b[0;34m==\u001b[0m \u001b[0mpartizioa\u001b[0m\u001b[0;34m[\u001b[0m\u001b[0mstr\u001b[0m\u001b[0;34m(\u001b[0m\u001b[0mG\u001b[0m\u001b[0;34m.\u001b[0m\u001b[0mnodes\u001b[0m\u001b[0;34m(\u001b[0m\u001b[0mj\u001b[0m\u001b[0;34m)\u001b[0m\u001b[0;34m[\u001b[0m\u001b[0;36m0\u001b[0m\u001b[0;34m]\u001b[0m\u001b[0;34m)\u001b[0m\u001b[0;34m]\u001b[0m\u001b[0;34m)\u001b[0m\u001b[0;34m:\u001b[0m\u001b[0;34m\u001b[0m\u001b[0;34m\u001b[0m\u001b[0m\n\u001b[1;32m     17\u001b[0m                 \u001b[0mmodul\u001b[0m \u001b[0;34m+=\u001b[0m \u001b[0mG\u001b[0m\u001b[0;34m[\u001b[0m\u001b[0mi\u001b[0m\u001b[0;34m]\u001b[0m\u001b[0;34m[\u001b[0m\u001b[0mj\u001b[0m\u001b[0;34m]\u001b[0m\u001b[0;34m[\u001b[0m\u001b[0mweight\u001b[0m\u001b[0;34m]\u001b[0m\u001b[0;34m-\u001b[0m\u001b[0;34m(\u001b[0m\u001b[0msum\u001b[0m\u001b[0;34m(\u001b[0m\u001b[0mG\u001b[0m\u001b[0;34m[\u001b[0m\u001b[0mi\u001b[0m\u001b[0;34m]\u001b[0m\u001b[0;34m)\u001b[0m\u001b[0;34m*\u001b[0m\u001b[0msum\u001b[0m\u001b[0;34m(\u001b[0m\u001b[0mG\u001b[0m\u001b[0;34m[\u001b[0m\u001b[0mj\u001b[0m\u001b[0;34m]\u001b[0m\u001b[0;34m)\u001b[0m\u001b[0;34m)\u001b[0m\u001b[0;34m/\u001b[0m\u001b[0;36m2\u001b[0m\u001b[0;34m*\u001b[0m\u001b[0mm\u001b[0m\u001b[0;34m\u001b[0m\u001b[0;34m\u001b[0m\u001b[0m\n",
      "\u001b[0;32m~/.local/lib/python3.10/site-packages/networkx/classes/reportviews.py\u001b[0m in \u001b[0;36m__getitem__\u001b[0;34m(self, n)\u001b[0m\n\u001b[1;32m    358\u001b[0m                 \u001b[0;34mf\"try list(G.nodes.data())[{n.start}:{n.stop}:{n.step}]\"\u001b[0m\u001b[0;34m\u001b[0m\u001b[0;34m\u001b[0m\u001b[0m\n\u001b[1;32m    359\u001b[0m             )\n\u001b[0;32m--> 360\u001b[0;31m         \u001b[0mddict\u001b[0m \u001b[0;34m=\u001b[0m \u001b[0mself\u001b[0m\u001b[0;34m.\u001b[0m\u001b[0m_nodes\u001b[0m\u001b[0;34m[\u001b[0m\u001b[0mn\u001b[0m\u001b[0;34m]\u001b[0m\u001b[0;34m\u001b[0m\u001b[0;34m\u001b[0m\u001b[0m\n\u001b[0m\u001b[1;32m    361\u001b[0m         \u001b[0mdata\u001b[0m \u001b[0;34m=\u001b[0m \u001b[0mself\u001b[0m\u001b[0;34m.\u001b[0m\u001b[0m_data\u001b[0m\u001b[0;34m\u001b[0m\u001b[0;34m\u001b[0m\u001b[0m\n\u001b[1;32m    362\u001b[0m         \u001b[0;32mif\u001b[0m \u001b[0mdata\u001b[0m \u001b[0;32mis\u001b[0m \u001b[0;32mFalse\u001b[0m \u001b[0;32mor\u001b[0m \u001b[0mdata\u001b[0m \u001b[0;32mis\u001b[0m \u001b[0;32mTrue\u001b[0m\u001b[0;34m:\u001b[0m\u001b[0;34m\u001b[0m\u001b[0;34m\u001b[0m\u001b[0m\n",
      "\u001b[0;31mKeyError\u001b[0m: 0"
     ]
    }
   ],
   "source": [
    "# pip install ipynb exekutatu liburutegi hau erabili ahal izateko.\n",
    "from itertools import product\n",
    "from ipynb.fs.full.CDP_Sarrera_Ikasle import sortu_grafoa \n",
    "import community\n",
    "import networkx as nx\n",
    "import numpy as np\n",
    "\n",
    "### Helburu-funtzioa\n",
    "def modularitatea(G, partizioa, weight='weight'):\n",
    "    ### Bete hemen 15-20 lerro\n",
    "    m = len(G)\n",
    "    modul = 0\n",
    "    \n",
    "    for n, nbrs in G.adj.items(): #n = nodoa; nbrs=n-ren auzokideak\n",
    "        for nbr, eattr in nbrs.items(): #nbr = auzokide zehatza; eattr=nbr-ren datuak, adib pisuak\n",
    "            wt = eattr[weight]\n",
    "            if(partizio[n] == partizioa[nbr]):\n",
    "                modul += wt-(sum(G[i])*sum(G[j]))/2*m\n",
    "    modul *= 1/2*m-u\n",
    "    \n",
    "    return modul\n",
    "\n",
    "### Dei orokorrak\n",
    "G=sortu_grafoa()\n",
    "## Gure inplementazioa\n",
    "partition1= dict(zip(G.nodes, soluzioa_1))\n",
    "partition2= dict(zip(G.nodes, soluzioa_2))\n",
    "\n",
    "print(\"1. soluzioaren modularitatea: \", modularitatea(G, partition1))\n",
    "print(\"2. soluzioaren modularitatea: \", modularitatea(G, partition2))"
   ]
  },
  {
   "cell_type": "code",
   "execution_count": null,
   "metadata": {},
   "outputs": [],
   "source": [
    "!pip install ipynb"
   ]
  },
  {
   "cell_type": "code",
   "execution_count": null,
   "metadata": {},
   "outputs": [],
   "source": []
  }
 ],
 "metadata": {
  "kernelspec": {
   "display_name": "Python 3 (ipykernel)",
   "language": "python",
   "name": "python3"
  },
  "language_info": {
   "codemirror_mode": {
    "name": "ipython",
    "version": 3
   },
   "file_extension": ".py",
   "mimetype": "text/x-python",
   "name": "python",
   "nbconvert_exporter": "python",
   "pygments_lexer": "ipython3",
   "version": "3.10.6"
  }
 },
 "nbformat": 4,
 "nbformat_minor": 2
}

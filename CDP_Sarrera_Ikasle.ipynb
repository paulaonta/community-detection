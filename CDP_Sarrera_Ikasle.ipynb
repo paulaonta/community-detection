{
 "cells": [
  {
   "cell_type": "markdown",
   "metadata": {},
   "source": [
    "# Proiektua: Community Detection\n",
    "\n",
    "#### Paula Ontalvilla eta Mikel Zubillaga\n",
    "\n",
    "Adimen Artifiziala modan dago, eta ikerlari asko ari dira egun, gai honetan ikerketzen. Hori dela eta, azken urteetan Machine Learning, Deep Learning, Big Data eta optimizazio metaheuristikoan ikaragarrizko produkzio zientifikoa eman da. Sortzen diren aurrerakuntza guztiak publikatu eta elkarbanatzeko asmotan, ehundaka konferentzia daude munduko herrialde desberdinetan. Hauetan, herrialde desberdinetako ikerlariak euren ikerketak azaltzeaz gain, kolaborazio desberdinak ematen dira.\n",
    "\n",
    "Proiektu honetan, Neural Information Processing Systems (NIPS) kongresuan publikatzen duten autoreen komunitateak aztertu nahiko ditugu. Zehazki, 2014 eta 2015 urteen bitartean, kongresu honetan eman diren elkarlan komunitate desberdinak aurkitu nahi izango ditugu. \n",
    "\n",
    "Era asko daude komunitateak detektatzeko, baina proiektuaren helburua metaheuristikoak erabiltzea da. Horregatik NIPSeko elkarlan grafoa eraikiko dugu, eta komunitate kopuru maximo bat ezarrita, algoritmoak komunitate bakoitzean dauden autoreak (nodoak) zeintzuk diren esan beharko digu.\n",
    "\n",
    "Proiektu honetan ondorengo ataza orokorrak gauzatu beharko ditugu.\n",
    "\n",
    "<ul>\n",
    "    <li> Kargatu NIPS datu baseko elkarlanak eta sortu elkarlan grafoa.\n",
    "    <li> Problema aztertu. Zenbat soluzio daude $n$ nodo eta $k$ komunitate dituen problema batean? Denak bideragarriak dira? Ez badira, zein dira bete behar diren murrizketak?\n",
    "    <li> Soluzioen kodeketa eta helburu-funtzioa. Nola adierazi daiteke problema honetarako soluzio bat? Zein da problemaren helburu-funtzioa?\n",
    "    <li> Algoritmoak. Proposatu gutxienez bi algoritmo problema ebazteko (bat bilaketa lokal erakoa eta bestea algoritmo poblazionalen taldekoa), eta egin dagozkien inplementazioak <b>liburutegirik erabili gabe</b>.\n",
    "    <li> Esperimentazioa. Probatu eta konparatu algoritmoak esku artean dugun problemaren gainean.\n",
    "    <li> Txostena. 4 orritako artikulu zientifiko bat idatzi beharko duzue garatu duzuen lana laburbilduz. Adi! 4 orri ez dira gehiegi. Overleaf-en editatu beharko duzue eta <i>IEEE Journal Paper Template</i> txantiloia erabiliz. Artikulu zientifiko egitura izan beharko du (laburpena, sarrera, problemaren azalpena, proposatutako algoritmoak, esperimentazioa, emaitzen analisia, eta ondorioak).\n",
    "</ul>"
   ]
  },
  {
   "cell_type": "markdown",
   "metadata": {},
   "source": [
    "Dakizuen bezela, proiektua 3 fasetan banatuko dugu, baina, hasi aurretik, behar izango ditugun Python-eko moduluak importatzeko gai garela frogatuko dugu. Notebook honen helburua <i>puesta a punto</i> bat egitea izango da: moduluak instalatu, eta NIPS-eko datuak kargatzeko gai izatea. Azkenik, NIPS-eko datuetatik abiatuta, eta NetworkX eta Community moduluak erabilita, elkarlan grafoa bistaratu nahiko dugu.\n",
    "\n",
    "Importatu ondorengo liburutegiak:"
   ]
  },
  {
   "cell_type": "code",
   "execution_count": 1,
   "metadata": {},
   "outputs": [],
   "source": [
    "# SQL\n",
    "import sqlite3\n",
    "\n",
    "# Pandas\n",
    "import pandas as pd\n",
    "\n",
    "# Graph\n",
    "import community\n",
    "import networkx as nx\n",
    "\n",
    "# Plot\n",
    "import matplotlib.pyplot as plt\n",
    "import seaborn as sns\n",
    "\n",
    "# Combinations\n",
    "import itertools"
   ]
  },
  {
   "cell_type": "markdown",
   "metadata": {},
   "source": [
    "### NIPSeko grafoa eraikitzen\n",
    "\n",
    "Azken hamarkadetan NIPS kongresuan publikatutako datuak <b>database.sqlite</b> fitxategian aurkitzen dira. Ondorengo kodearen bitartez, hiru zutabeko taula batean datuak ateratzeko gai izan beharko ginateke. Zutabeetan, artikuluaren IDa, autorearen IDa eta autorearen izena agertu beharko dira."
   ]
  },
  {
   "cell_type": "code",
   "execution_count": 2,
   "metadata": {},
   "outputs": [
    {
     "ename": "OperationalError",
     "evalue": "unable to open database file",
     "output_type": "error",
     "traceback": [
      "\u001b[0;31m---------------------------------------------------------------------------\u001b[0m",
      "\u001b[0;31mOperationalError\u001b[0m                          Traceback (most recent call last)",
      "Input \u001b[0;32mIn [2]\u001b[0m, in \u001b[0;36m<cell line: 2>\u001b[0;34m()\u001b[0m\n\u001b[1;32m      1\u001b[0m \u001b[38;5;66;03m# Get data\u001b[39;00m\n\u001b[0;32m----> 2\u001b[0m connect \u001b[38;5;241m=\u001b[39m \u001b[43msqlite3\u001b[49m\u001b[38;5;241;43m.\u001b[39;49m\u001b[43mconnect\u001b[49m\u001b[43m(\u001b[49m\u001b[38;5;124;43m'\u001b[39;49m\u001b[38;5;124;43m./nips-papers/database.sqlite\u001b[39;49m\u001b[38;5;124;43m'\u001b[39;49m\u001b[43m)\u001b[49m\n\u001b[1;32m      3\u001b[0m query \u001b[38;5;241m=\u001b[39m \u001b[38;5;124m\"\"\"\u001b[39m\n\u001b[1;32m      4\u001b[0m \u001b[38;5;124mSELECT pa.paper_id, pa.author_id, a.name\u001b[39m\n\u001b[1;32m      5\u001b[0m \u001b[38;5;124mFROM paper_authors AS pa JOIN papers AS p ON pa.paper_id = p.id\u001b[39m\n\u001b[1;32m      6\u001b[0m \u001b[38;5;124mJOIN authors as a ON pa.author_id = a.id\u001b[39m\n\u001b[1;32m      7\u001b[0m \u001b[38;5;124mWHERE p.Year BETWEEN \u001b[39m\u001b[38;5;124m'\u001b[39m\u001b[38;5;124m2014\u001b[39m\u001b[38;5;124m'\u001b[39m\u001b[38;5;124m AND \u001b[39m\u001b[38;5;124m'\u001b[39m\u001b[38;5;124m2015\u001b[39m\u001b[38;5;124m'\u001b[39m\n\u001b[1;32m      8\u001b[0m \u001b[38;5;124m\"\"\"\u001b[39m\n\u001b[1;32m      9\u001b[0m df \u001b[38;5;241m=\u001b[39m pd\u001b[38;5;241m.\u001b[39mread_sql(query, connect)\n",
      "\u001b[0;31mOperationalError\u001b[0m: unable to open database file"
     ]
    }
   ],
   "source": [
    "# Get data\n",
    "connect = sqlite3.connect('./nips-papers/database.sqlite')\n",
    "query = \"\"\"\n",
    "SELECT pa.paper_id, pa.author_id, a.name\n",
    "FROM paper_authors AS pa JOIN papers AS p ON pa.paper_id = p.id\n",
    "JOIN authors as a ON pa.author_id = a.id\n",
    "WHERE p.Year BETWEEN '2014' AND '2015'\n",
    "\"\"\"\n",
    "df = pd.read_sql(query, connect)\n",
    "\n",
    "# Have a look at data\n",
    "df.head(10)"
   ]
  },
  {
   "cell_type": "markdown",
   "metadata": {},
   "source": [
    "Dagoeneko datuak baditugu! Orain elkarlan grafoa eraikiko dugu, horretarako NetworkX modulua erabiliko dugu. Grafo horretan, autore bakoitzeko nodo bat izango dugu, eta bi autoreren artean elkarlana egon bada (artikulu bat batera idatzi badute), orduan dagozkien nodoen artean arku bat egongo da. Baina ez da berdina elkarlan bat egitea, edo 100. Horregatik, arkuek pisu bat izango dute, elkarlan kopurua adieraziko duena. Grafoa ondo sortu duzuela jakiteko, 2014 eta 2015 urteen bitarteko datuekin, 1843 nodo, 3215 arkuko grafoa lortu beharko duzue."
   ]
  },
  {
   "cell_type": "code",
   "execution_count": null,
   "metadata": {},
   "outputs": [],
   "source": [
    "# Initialize graph\n",
    "G = nx.Graph()\n",
    "\n",
    "# Transform\n",
    "# Autorearen IDa erabili beharrean erabili izena.\n",
    "for p, a in df.groupby('paper_id')['name']: \n",
    "    for u, v in itertools.combinations(a, 2):\n",
    "        if G.has_edge(u, v):\n",
    "            G[u][v]['weight'] +=1\n",
    "        else:\n",
    "            G.add_edge(u, v, weight=1)\n",
    "            \n",
    "# Print graph size\n",
    "print('\\nAutore kopurua grafoan:', G.number_of_nodes())\n",
    "print('\\nElkarlan kopurua grafoan:', G.number_of_edges())"
   ]
  },
  {
   "cell_type": "markdown",
   "metadata": {},
   "source": [
    "Azkenik, eraiki dugun grafoa bistaratuko dugu. Horretarako, MatPlotLib modulua erabiliko dugu."
   ]
  },
  {
   "cell_type": "code",
   "execution_count": null,
   "metadata": {},
   "outputs": [],
   "source": [
    "#Draw graph\n",
    "plt.figure(figsize=(13, 9))\n",
    "pos = nx.spring_layout(G)\n",
    "nx.draw_networkx_nodes(G, pos, node_size = 20, node_color='0.75', label=True)\n",
    "nx.draw_networkx_edges(G, pos, alpha=0.5, width=1)\n",
    "plt.show()\n",
    "\n",
    "plt.axis('off')\n",
    "plt.show()"
   ]
  },
  {
   "cell_type": "markdown",
   "metadata": {},
   "source": [
    "Jarraian, sortu goiko kodea erabiliz ondorengo input/output-a duten funtzioak:"
   ]
  },
  {
   "cell_type": "code",
   "execution_count": null,
   "metadata": {},
   "outputs": [],
   "source": [
    "# SQL\n",
    "import sqlite3\n",
    "\n",
    "# Pandas\n",
    "import pandas as pd\n",
    "\n",
    "# Graph\n",
    "import community\n",
    "import networkx as nx\n",
    "\n",
    "# Plot\n",
    "import matplotlib.pyplot as plt\n",
    "import seaborn as sns\n",
    "\n",
    "# Combinations\n",
    "import itertools\n",
    "\n",
    "def sortu_grafoa():\n",
    "\n",
    "    # Datuak irakurri\n",
    "    # Get data\n",
    "    connect = sqlite3.connect('./nips-papers/database.sqlite')\n",
    "    query = \"\"\"\n",
    "    SELECT pa.paper_id, pa.author_id, a.name\n",
    "    FROM paper_authors AS pa JOIN papers AS p ON pa.paper_id = p.id\n",
    "    JOIN authors as a ON pa.author_id = a.id\n",
    "    WHERE p.Year BETWEEN '2014' AND '2015'\n",
    "    \"\"\"\n",
    "    df = pd.read_sql(query, connect)\n",
    "\n",
    "    # Have a look at data\n",
    "    df.head(10)\n",
    "    \n",
    "    # Sortu grafoa\n",
    "    # Initialize graph\n",
    "    G = nx.Graph()\n",
    "\n",
    "    # Transform\n",
    "    # Autorearen IDa erabili beharrean erabili izena.\n",
    "    for p, a in df.groupby('paper_id')['name']: \n",
    "        for u, v in itertools.combinations(a, 2):\n",
    "            if G.has_edge(u, v):\n",
    "                G[u][v]['weight'] +=1\n",
    "            else:\n",
    "                G.add_edge(u, v, weight=1)\n",
    "    # Print graph size\n",
    "    print('Autore kopurua grafoan:', G.number_of_nodes())\n",
    "    print('Elkarlan kopurua grafoan:', G.number_of_edges())\n",
    "    \n",
    "    return G\n",
    "\n",
    "def bistaratu_grafoa(G):\n",
    "    #Draw graph\n",
    "    plt.figure(figsize=(13, 9))\n",
    "    pos = nx.spring_layout(G)\n",
    "    nx.draw_networkx_nodes(G, pos, node_size = 20, node_color='0.75', label=True)\n",
    "    nx.draw_networkx_edges(G, pos, alpha=0.5, width=1)\n",
    "    plt.show()\n",
    "\n",
    "    plt.axis('off')\n",
    "    plt.show()"
   ]
  },
  {
   "cell_type": "code",
   "execution_count": null,
   "metadata": {},
   "outputs": [],
   "source": [
    "G = sortu_grafoa()"
   ]
  },
  {
   "cell_type": "code",
   "execution_count": null,
   "metadata": {},
   "outputs": [],
   "source": [
    "bistaratu_grafoa(G)"
   ]
  },
  {
   "cell_type": "code",
   "execution_count": null,
   "metadata": {},
   "outputs": [],
   "source": []
  }
 ],
 "metadata": {
  "kernelspec": {
   "display_name": "Python 3 (ipykernel)",
   "language": "python",
   "name": "python3"
  },
  "language_info": {
   "codemirror_mode": {
    "name": "ipython",
    "version": 3
   },
   "file_extension": ".py",
   "mimetype": "text/x-python",
   "name": "python",
   "nbconvert_exporter": "python",
   "pygments_lexer": "ipython3",
   "version": "3.10.6"
  }
 },
 "nbformat": 4,
 "nbformat_minor": 2
}

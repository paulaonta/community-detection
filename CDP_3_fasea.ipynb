{
  "cells": [
    {
      "cell_type": "markdown",
      "metadata": {
        "id": "6X3w6mtj4JEb"
      },
      "source": [
        "## 2. Fasea: Algoritmoak diseinatzen"
      ]
    },
    {
      "cell_type": "markdown",
      "metadata": {
        "id": "g7tGoVd14JEf"
      },
      "source": [
        "#### Paula Ontalvilla eta MIkel Zubillaga\n",
        "\n",
        "Community Detection proiektuaren 1. fasea entregatu duzue, eta feedback-a jaso ere. Klasean hainbat algoritmo ikusi ditugu, batzuk soluzio bakarrean oinarritutakoak, beste batzuk aldiz, populazio bat erabiltzen dutenak. Horiez gain, hibridatzeko teknikak ere ikusi ditugu. Bigarrengo fase honetan, hiru algoritmo diseinatu beharko dituzue. Lehenengoa, algoritmo eraikitzaile bat izango da. Bigarrena, soluzio bakarrean oinarritutako heuristiko bat izan beharko du, eta azkenik, hirugarrena algoritmo poblazional bat izango da. Hiru algoritmoak estokastikoak izan beharko dute, eta horietatik, bik, oinarri probabilistikoa izan beharko dute. Adibidez, Simulated Annealing, Estimation of Distribution Algorithms (EDAk) edota Ant Colony Optimization (ACO) implementatu ditzazkezue. Proiektu honen kasuan, algoritmoen helburua, komunitate kopuru jakin bat emanik, modularitatea maximizatzen duen komunitate banaketa (soluzioa) bilatzen saiatzea da.\n",
        "\n",
        "Errepasatu gaitegian zehar ikusi ditugun algoritmo guztiak, eta horiek kontuak izanik, libre zarete nahi dituzuen diseinuak sortzeko, baita ere hibridoak! Adi! Egiten duzuen aukeraketa argudiatu egin beharko duzue.\n",
        "\n",
        "#### Entregablea\n",
        "\n",
        "Bigarrengo fasea ebaluatu ahal izateko, notebook honetan bertan algoritmoen diseinua eta implementazioa proposatu beharko duzue. Gogoratu algoritmo bat azaltzeko modurik errezena fluxu diagrama eta sasikode bat egitea direla. Adi! Atal bakoitzean hartutako erabakiak eta garatutako metodoak egoki argudiatu beharko dituzue. Azalpenak ere nahi ditut. Diagramak ez dira eurak bakarrik azaltzen, beraz testutik erreferentziatu egin beharko dituzue. Saiatu idazkera zientifiko-tekniko batekin idazten (pentsatu publikatuko duzuen lan bat dela). Ez argudiatzeak edo lana garaiz ez entregatzeak penalizazioa jasoko dute ebaluagarria den proiektuaren zati honetan. eGelan zehazten dira notebook-a igotzeko <b>egun eta orduak</b>.\n",
        "\n",
        "Momentuz, ez daukazue algoritmoen exekuzio eta konparaketak egin behar. Hirugarren fasean, esperimentazioaren inguruko baldintzak emango dizkizuet, eta, horrez gain, txostenaren idazketa burutu beharko duzue."
      ]
    },
    {
      "cell_type": "markdown",
      "metadata": {
        "id": "7cisojTZ4JEk"
      },
      "source": [
        "# Import-ak, aldagai eta funtzio orokorrak\n",
        "Lehenik eta behin beharrezkoak diren  import-ak egingo ditugu:\n",
        "\n",
        "Aurreko faseko 3 funtzio erabiliko ditugu:\n",
        "* `sortu_grafoa`: Gure G grafoa sortzen du.\n",
        "* `kalkulatuHasierakoMAT`: modularitatea kalkulatzeko beharrezkoak diren kalkuluak egin eta aldagaietan gordetzen ditu.\n",
        "* `modularitatea2OPT`: modularitatea kalkulatzen du aurreko funtzioko aldagaiak hartuz. Aurreko fasean esan bezala, funtzio hau erabiltzea erabaki dugu eraginkorrenetako bat delako eta *community* moduluko emaitza berdinak lortzen dituelako. Funtzio hau erabiliko da helburu funtzioa kakulatzeko. Gure problemaren helburua modularitatea maximizatzea da."
      ]
    },
    {
      "cell_type": "code",
      "execution_count": null,
      "metadata": {
        "id": "J0ClfpTZ4JEn",
        "outputId": "f84e60ba-3754-4689-b636-8e7a1240f4f4"
      },
      "outputs": [
        {
          "name": "stdout",
          "output_type": "stream",
          "text": [
            "Autore kopurua grafoan: 1843\n",
            "Elkarlan kopurua grafoan: 3211\n",
            "Autore kopurua grafoan: 1843\n",
            "Elkarlan kopurua grafoan: 3211\n",
            "Autore kopurua grafoan: 1843\n",
            "Elkarlan kopurua grafoan: 3211\n"
          ]
        }
      ],
      "source": [
        "from itertools import product\n",
        "from ipynb.fs.defs.CDP_1_fasea_PAMI import sortu_grafoa \n",
        "import community \n",
        "import networkx as nx\n",
        "import numpy as np\n",
        "import random as rm\n",
        "import matplotlib.pyplot as plt\n",
        "import seaborn as sns\n",
        "import itertools \n",
        "import copy\n",
        "import math\n",
        "import networkx as nx\n",
        "import numpy as np\n",
        "import sqlite3\n",
        "import pandas as pd\n",
        "import itertools\n",
        "import time\n",
        "from pdb import set_trace\n",
        "import os\n",
        "from collections import defaultdict"
      ]
    },
    {
      "cell_type": "code",
      "execution_count": null,
      "metadata": {
        "id": "8Q3G56Du4JEq"
      },
      "outputs": [],
      "source": [
        "def kalkulatuHasierakoMAT(G, weight='weight'):\n",
        "    K = [[0 for i in range(len(G))]for j in range(len(G))]\n",
        "    A = [[0 for i in range(len(G))]for j in range(len(G))]\n",
        "    i = 0\n",
        "    m = G.size(weight=weight)\n",
        "    degree = {}\n",
        "    for node in G:\n",
        "        j = 0\n",
        "        degree[node] = G.degree(node, weight=weight)\n",
        "        for nbr, eattr in G[node].items():\n",
        "            K[i][j] = G.degree(node, weight=weight)*G.degree(nbr, weight=weight)\n",
        "            A[i][j] = eattr[weight]\n",
        "            if i == j:\n",
        "                A[i][j] *= 2\n",
        "            j += 1\n",
        "        i += 1\n",
        "    K = np.array(K)/np.array(2*m)\n",
        "    A = np.array(A)\n",
        "    AK = (A-K)/np.array(2*m)\n",
        "    \n",
        "    return AK,m,degree\n",
        "\n",
        "def modularitatea2OPT(G, partizioa, degree, m, weight='weight'):\n",
        "    a = defaultdict(float)\n",
        "    e = defaultdict(float)\n",
        "    modularitatea = 0\n",
        "    \n",
        "    for node in G: #nodo bakoitzeko\n",
        "        c = partizioa[node]\n",
        "        a[c] += degree[node]\n",
        "        for nbr, eattr in G[node].items(): #nbr = auzokide zehatza; eattr=nbr-ren datuak, adib pisuak\n",
        "            if partizioa[nbr] == c:\n",
        "                e[c]  += eattr[weight]\n",
        "        \n",
        "    for i in set(partizioa.values()):\n",
        "        modularitatea += (e[i] / (2 * m)) - (a[i] / (2 * m)) ** 2\n",
        "    \n",
        "    return modularitatea, a ,e    \n"
      ]
    },
    {
      "cell_type": "markdown",
      "metadata": {
        "id": "XPQCl3mM4JEt"
      },
      "source": [
        "Funtzio orokorrak definituko ditugu:\n",
        "\n",
        "`partizioak_irudikatu(G,k, partizioa)`partizio bat eta partizio kopuru bat jasota, partizio bakoitza kolore desberdin batekin adieraziko du.\n",
        "\n",
        "`from_dict_to_list(G, partizio)`Grafoa eta *dictionary* moduan adierazitako partizio bat emanda lista bat itzuliko du.\n",
        "\n",
        "`bistaratu_grafoa(G)`grafoa emanda nodoak eta haien arteko ertzak inprimatzen ditu."
      ]
    },
    {
      "cell_type": "code",
      "execution_count": null,
      "metadata": {
        "id": "NLkGGefj4JEv"
      },
      "outputs": [],
      "source": [
        " def partizioak_irudikatu(G, k, partizioa):\n",
        "    plt.figure(figsize=(13, 9))\n",
        "    pos = nx.spring_layout(G)\n",
        "    nx.draw_networkx_nodes(G, pos, node_size = 20, node_color='0.75', label=True)\n",
        "    nx.draw_networkx_edges(G, pos, alpha=0.5, width=1)\n",
        "\n",
        "    number_of_colors = k\n",
        "    i, color = 0, []\n",
        "    while i < number_of_colors:\n",
        "        color_aux =[rm.choice('0123456789ABCDEF') for j in range(6)]\n",
        "        if color_aux not in color:\n",
        "            color.append(\"#\"+''.join(color_aux))\n",
        "            i += 1\n",
        "             \n",
        "    #kolore desberdinak izan behar dira\n",
        "    assert(len(np.unique(color)) == number_of_colors)\n",
        "\n",
        "    # Draw a subgraph, reusing the same node positions\n",
        "    for i in range(k):\n",
        "        partizioa_elem = [k for k,v in partizioa.items() if v==i] #lortu i. partizioko elementuak\n",
        "        nx.draw(G.subgraph(partizioa_elem),node_size = 20, pos=pos, node_color=color[i])\n",
        "\n",
        "    plt.show()\n",
        "\n",
        "    plt.axis('off')\n",
        "    plt.show()"
      ]
    },
    {
      "cell_type": "code",
      "execution_count": null,
      "metadata": {
        "id": "IKnC37Dx4JEx"
      },
      "outputs": [],
      "source": [
        "def from_dict_to_list(G, partizioa):\n",
        "    solution = []\n",
        "    for autore in G.nodes():\n",
        "        solution.append(partizioa[autore])\n",
        "    return solution\n",
        "        "
      ]
    },
    {
      "cell_type": "code",
      "execution_count": null,
      "metadata": {
        "id": "NnrV84gr4JEy"
      },
      "outputs": [],
      "source": [
        "def bistaratu_grafoa(G):\n",
        "    #Draw graph\n",
        "    plt.figure(figsize=(13, 9))\n",
        "    pos = nx.spring_layout(G)\n",
        "    nx.draw_networkx_nodes(G, pos, node_size = 20, node_color='0.75', label=True)\n",
        "    nx.draw_networkx_edges(G, pos, alpha=0.5, width=1)\n",
        "    plt.show()\n",
        "\n",
        "    plt.axis('off')\n",
        "    plt.show()"
      ]
    },
    {
      "cell_type": "markdown",
      "metadata": {
        "id": "iJrTnNqD4JE1"
      },
      "source": [
        "Aldagai orokorrak hasieratuko ditugu:  \n",
        "\n",
        "Gure hasierako `G` grafoan, autore bakoitzeko nodo bat izango dugu, eta bi autoreren artean elkarlana egon bada (artikulu bat batera idatzi badute), orduan dagozkien nodoen artean arku bat egongo da. Baina ez da berdina elkarlan bat egitea, edo 100. Horregatik, arkuek pisu bat izango dute, elkarlan kopurua adieraziko duena."
      ]
    },
    {
      "cell_type": "code",
      "execution_count": null,
      "metadata": {
        "id": "jRtx-pJv4JE2",
        "outputId": "8ac5c17c-e73e-4a14-cb24-350ec17b4d6b"
      },
      "outputs": [
        {
          "name": "stdout",
          "output_type": "stream",
          "text": [
            "Autore kopurua grafoan: 1843\n",
            "Elkarlan kopurua grafoan: 3211\n"
          ]
        }
      ],
      "source": [
        "G_ = sortu_grafoa()"
      ]
    },
    {
      "cell_type": "markdown",
      "metadata": {
        "id": "pDbQpMIA4JE4"
      },
      "source": [
        "# Aurre-prozesaketa\n",
        "\n",
        "Gure problemak daukan arazo nagusia grafoaren tamaina da 1843 nodo eta 3211 arku ditu, hain zuzen ere. Honek asko zailtzen du soluzio bat aurkitzea. Izan ere, gure kodeketaren bilaketa espazio grafoan ditugun nodo kopuruan menpeko da. Hortaz, bilaketa lokaletan sortuko den ingurunea oso handia da eta konputazio aldetik ezinezkoa. Adibidez, *swap* funtzioa erabiltzen baldin bada $\\binom{1843}{2}$ kandidato desberdin sortu beharko lituzke ingurune funtzioak.  \n",
        "\n",
        "Bestalde, gure grafoari erreparatzen baldin badiogu (1. irudia) ikus daiteke nodo asko ditugula gutxi batzuekin konektatuta edo bakarrik.  Hauek gure helburu funtzioan ez dute eragin handirik izango, hau da, ez dute modularitatea asko aldatuko, hauen arteko elkarlana txikia izango baita beraien arteko ertz kopuru bajuagatik. Nodo hauek, gure probleman erredundantzia sortzen dute.\n",
        "\n",
        "Beraz, arazo honi aurre egiteko erabaki dugu aurre-prozesaketa bat egitea. Nodo erredundate hauek kenduko ditugu, gure problemaren nodo kopurua eta konputazio maila murriztuz. Orain erdiko nodo horien partizioaren optimizazioan zentratuko gara. Hori ebatzi ostean nodo erredundante horiek edozein partizioetan sartuko ditugu ez baitu gure soluzioa aldatuko.\n",
        "\n",
        "![imagen.png](attachment:imagen.png)\n",
        "**1. irudia.** Gure problemaren grafoa\n",
        "\n",
        "## Kodea\n"
      ]
    },
    {
      "cell_type": "code",
      "execution_count": null,
      "metadata": {
        "id": "2oF4zBEh4JE6"
      },
      "outputs": [],
      "source": [
        "def sakonerako_korritzea(G, node, aurkitutakoak):\n",
        "    aurkitutakoak[node] = True\n",
        "    kont = 0\n",
        "    for auz,_ in G[node].items():\n",
        "        if not aurkitutakoak[auz]:\n",
        "            aurkitutakoak[auz] = True\n",
        "            kont += 1 + sakonerako_korritzea(G, auz, aurkitutakoak)\n",
        "    return kont\n",
        "        \n",
        "def aurreprozesaketa(G):\n",
        "    auzokideak = {}\n",
        "    for node in G:\n",
        "        aurkitutakoak = {}\n",
        "        for node2 in G:\n",
        "            aurkitutakoak[node2] = False\n",
        "        auzokideak[node] = sakonerako_korritzea(G, node, aurkitutakoak)\n",
        "    auzokideak = dict(sorted(auzokideak.items(), key=lambda x: x[1], reverse=True))\n",
        "    return auzokideak\n",
        "\n",
        "def grafo_aurreprozesaketa(auzokideak, G):\n",
        "    # Datuak irakurri\n",
        "    # Get data\n",
        "    connect = sqlite3.connect('./nips-papers/database.sqlite')\n",
        "    query = \"\"\"\n",
        "    SELECT pa.paper_id, pa.author_id, a.name\n",
        "    FROM paper_authors AS pa JOIN papers AS p ON pa.paper_id = p.id\n",
        "    JOIN authors as a ON pa.author_id = a.id\n",
        "    WHERE p.Year BETWEEN '2014' AND '2015'\n",
        "    \"\"\"\n",
        "    df = pd.read_sql(query, connect)\n",
        "\n",
        "    # Have a look at data\n",
        "    df.head(10)\n",
        "    G_ = nx.Graph()\n",
        "    kanpokoak = {}\n",
        "    # Transform\n",
        "    # Autorearen IDa erabili beharrean erabili izena.\n",
        "    for p, a in df.groupby('paper_id')['name']: \n",
        "        for u, v in itertools.combinations(a, 2):\n",
        "            if u != v and auzokideak[u]>100 and auzokideak[v]>100:#ez badira nodo berdina\n",
        "                if G_.has_edge(u, v):\n",
        "                    G_[u][v]['weight'] +=1\n",
        "                else:\n",
        "                    G_.add_edge(u, v, weight=1)\n",
        "            elif u != v:\n",
        "                if auzokideak[u] <= 100:\n",
        "                    kanpokoak[u] = G[u]\n",
        "                if auzokideak[v] <= 100:\n",
        "                    kanpokoak[v] = G[v]\n",
        "    # Print graph size\n",
        "    print('Autore kopurua grafoan:', G_.number_of_nodes())\n",
        "    print('Elkarlan kopurua grafoan:', G_.number_of_edges())\n",
        "    \n",
        "    return G_, kanpokoak"
      ]
    },
    {
      "cell_type": "markdown",
      "metadata": {
        "id": "Gcr5z4ZY4JE8"
      },
      "source": [
        "Orain gure sarrerako grafoaren aurre-prozesaketa bat egingo dugu eta hau bistaratuko dugu."
      ]
    },
    {
      "cell_type": "code",
      "execution_count": null,
      "metadata": {
        "id": "9umeYKuu4JE9",
        "outputId": "015d1ad7-c61d-4d55-aa6f-1a3180dfaf83"
      },
      "outputs": [
        {
          "name": "stdout",
          "output_type": "stream",
          "text": [
            "Autore kopurua grafoan: 531\n",
            "Elkarlan kopurua grafoan: 1124\n"
          ]
        },
        {
          "data": {
            "image/png": "[encoded data removed]",
            "text/plain": [
              "<Figure size 1300x900 with 1 Axes>"
            ]
          },
          "metadata": {},
          "output_type": "display_data"
        },
        {
          "data": {
            "image/png": "[encoded data removed]",
            "text/plain": [
              "<Figure size 640x480 with 1 Axes>"
            ]
          },
          "metadata": {},
          "output_type": "display_data"
        }
      ],
      "source": [
        "auzokideak = aurreprozesaketa(G_)\n",
        "G, kanpokoak = grafo_aurreprozesaketa(auzokideak, G_)\n",
        "bistaratu_grafoa(G)"
      ]
    },
    {
      "cell_type": "markdown",
      "metadata": {
        "id": "DQUIky0e4JE-"
      },
      "source": [
        "Orain gure problemak 1843 nodo izatetik 531 nodo izatera pasa da. Aurre-prozesaketa honen bidez nodo kopurua erdia baino gutxiagora murriztu dugu. Goian ikus dezakegu gure grafo berria zein den, gure hasierako grafoko erdiko nodoak dira, hain zuzen ere.   \n",
        "\n",
        "Hemendik aurrera egingo ditugun kalkulu guztiak grafo horrekin egingo dira.\n",
        "\n",
        "Jarraian definitzeko geratzen zaizkigun aldagai orokorrak ditugu. Aurre-prozesatutako grafoa `G` izango da eta elkarlan guztien batura adieraziko da `m` aldagaiaren bidez. Bestalde,`degree` eta `AK` aldagaiak modularitatea optimizatzeko aldagaiak dira. Hauek zehazki grafoan dauden nodoen gradua eta  $\\left[A_{vw}-\\frac{k_vk_w}{2m}\\right]$ eragiketaren emaitzak gordetzen ditu. Modu honetan informazio hau modularitatea kalkulatzerakoan ez da behin eta berriz kalkulatu behar, `AK` aldagaian egongo baita gordeta."
      ]
    },
    {
      "cell_type": "code",
      "execution_count": null,
      "metadata": {
        "id": "o2q9CThH4JE_"
      },
      "outputs": [],
      "source": [
        "m = G.size(weight='weight')\n",
        "AK,m,degree = kalkulatuHasierakoMAT(G)"
      ]
    },
    {
      "cell_type": "markdown",
      "metadata": {
        "id": "96cnGc-s4JFB"
      },
      "source": [
        "# Sortzailea\n",
        "Aurreprozesatutako grafoaren gainean sartutako kopuru bateko grafoa egiten du."
      ]
    },
    {
      "cell_type": "code",
      "execution_count": null,
      "metadata": {
        "id": "33mG5l0T4JFB"
      },
      "outputs": [],
      "source": [
        "def lagindu_autoreak(G, weight = 'weight'):\n",
        "    autoreak = {}\n",
        "    pisu_totala = 0\n",
        "    for node in G: #nodo bakoitzeko\n",
        "        pisua = 0\n",
        "        for nbr, eattr in G[node].items(): #nbr = auzokide zehatza; eattr=nbr-ren datuak, adib pisuak\n",
        "            wt = eattr[weight] #n eta nbr arteko pisuak\n",
        "            pisua += wt\n",
        "        autoreak[node] = pisua\n",
        "        pisu_totala += pisua\n",
        "    #prob\n",
        "    for a in autoreak:\n",
        "        autoreak[a] /= pisu_totala\n",
        "    list_autoreak = [(izena, prob) for izena,prob in autoreak.items()]\n",
        "    return list_autoreak\n",
        "        \n",
        "    \n",
        "laginketa_autoreak = lagindu_autoreak(G)\n",
        "\n",
        "def aukeratu(kopurua):\n",
        "    balioak = copy.deepcopy(laginketa_autoreak)\n",
        "    aukeratuak = []\n",
        "    \n",
        "    for i in range(kopurua):\n",
        "  \n",
        "        row = [b[1] for b in balioak]\n",
        "        aukera = rm.uniform(0, sum(row))\n",
        "        zenbat = 0\n",
        "        for j in range(len(balioak)):\n",
        "            zenbat += balioak[j][1]\n",
        "            if zenbat >= aukera:\n",
        "                aukeratuak.append(balioak[j][0])\n",
        "                balioak.pop(j)\n",
        "                break\n",
        "    return aukeratuak\n",
        "    \n",
        "def sortzailea(kopurua, G):\n",
        "    aukeratuak = aukeratu(kopurua)    \n",
        "    G_ = nx.Graph()\n",
        "    kanpokoak = []\n",
        "    for node in G:\n",
        "        if node in aukeratuak:\n",
        "            sartu = False\n",
        "            for nbr, eattr in G[node].items():\n",
        "                if nbr in aukeratuak:\n",
        "                    sartu = True\n",
        "                    G_.add_edge(node, nbr, weight=G[node][nbr]['weight'])\n",
        "            if not sartu:\n",
        "                kanpokoak.append(node)\n",
        "    return G_, kanpokoak"
      ]
    },
    {
      "cell_type": "code",
      "execution_count": null,
      "metadata": {
        "id": "lW_K689-4JFC",
        "outputId": "1fb1e201-0b8b-4995-d8f5-79e667e5456b"
      },
      "outputs": [
        {
          "name": "stdout",
          "output_type": "stream",
          "text": [
            "Graph with 297 nodes and 540 edges\n"
          ]
        },
        {
          "data": {
            "image/png": "[encoded data removed]",
            "text/plain": [
              "<Figure size 1300x900 with 1 Axes>"
            ]
          },
          "metadata": {},
          "output_type": "display_data"
        },
        {
          "data": {
            "image/png": "[encoded data removed]",
            "text/plain": [
              "<Figure size 640x480 with 1 Axes>"
            ]
          },
          "metadata": {},
          "output_type": "display_data"
        }
      ],
      "source": [
        "kopurua = 300\n",
        "grafoa, kanpokoak = sortzailea(kopurua, G)\n",
        "print(grafoa)\n",
        "bistaratu_grafoa(grafoa)"
      ]
    },
    {
      "cell_type": "markdown",
      "metadata": {
        "id": "Kh8KlUuj4JFE"
      },
      "source": [
        "Funtzio bat sortuko dugu kanpoko nodoak gure soluzioan sartzeko. Esan bezala nodo horiek erredundanteak dira eta ez dute modularitatean eraginik. Horregatik, nodo bakoitza ausaz partizio batean sartuko da."
      ]
    },
    {
      "cell_type": "code",
      "execution_count": null,
      "metadata": {
        "id": "L5xj8I3s4JFE"
      },
      "outputs": [],
      "source": [
        "def kanpokoak_sartu( partition, k, kanpokoak):\n",
        "    maxim, elem_max = -float('inf'), None\n",
        "    for elem in kanpokoak:\n",
        "        i = rm.randint(0,k)\n",
        "        partition[elem] = i\n",
        "        \n",
        "    return  partition"
      ]
    },
    {
      "cell_type": "markdown",
      "metadata": {
        "id": "gauE6F7p4JFF"
      },
      "source": [
        "Fitxategiak sortzeko funtzioa sortuko dugu:"
      ]
    },
    {
      "cell_type": "code",
      "execution_count": null,
      "metadata": {
        "id": "Glw7rZfx4JFH"
      },
      "outputs": [],
      "source": [
        "def createFile(path):\n",
        "    if not os.path.exists(path):\n",
        "        os.makedirs(os.path.dirname(path), exist_ok=True)"
      ]
    },
    {
      "cell_type": "markdown",
      "metadata": {
        "id": "ruMYkXHj4JFI"
      },
      "source": [
        "# Random Search\n",
        "\n",
        "Hasteko, *random search* inplementatuko dugu baseline edo oinarri-lerro moduan erabiltzeko. Horrela, inplementatzen ditugun beste algoritmoekin lortzen ditugun soluzioekin konpara ditzakegu. Badakigu gure algoritmoetan lortzen ditugun soluzioak *random search*-ek itzultzen digunaren berdinak edo hobeak izan behar direla."
      ]
    },
    {
      "cell_type": "code",
      "execution_count": null,
      "metadata": {
        "id": "69zhqYpI4JFJ"
      },
      "outputs": [],
      "source": [
        "def random_search(G, k, num_solutions):\n",
        "    size = len(G)\n",
        "    maxim = -float('inf')\n",
        "    best_solution = []\n",
        "    nodes = G.nodes\n",
        "    denbora = 0\n",
        "    for i in range(num_solutions):\n",
        "        sol = [rm.randint(0,k) for i in range(size)]\n",
        "        partition = dict(zip(nodes, sol))\n",
        "        start = time.time()\n",
        "        fitness,_,_ = modularitatea2OPT(G, partition, degree, m)\n",
        "        denbora += time.time()-start\n",
        "        if (fitness > maxim):\n",
        "            maxim = fitness\n",
        "            best_solution = sol\n",
        "\n",
        "    return maxim,best_solution,denbora\n"
      ]
    },
    {
      "cell_type": "code",
      "execution_count": null,
      "metadata": {
        "id": "SUMlCNG44JFJ"
      },
      "outputs": [],
      "source": [
        "k = 5\n",
        "itera = 200\n",
        "fitness, solution, denbora = random_search(G,k, itera)\n",
        "partition = dict(zip(G.nodes, solution))\n",
        "partition = kanpokoak_sartu(partition, k)\n",
        "#modularitatea kalkulatuko dugu\n",
        "print(\"Soluzioaren modularitatea: \", str(fitness))"
      ]
    },
    {
      "cell_type": "code",
      "execution_count": null,
      "metadata": {
        "id": "9ezjVtHb4JFL"
      },
      "outputs": [],
      "source": [
        "#partizioak_irudikatu(G_, k, partition)"
      ]
    },
    {
      "cell_type": "markdown",
      "metadata": {
        "id": "lCn4J6yp4JFL"
      },
      "source": [
        "*Random Search*-ek 200 soluzio desberdinekin probatuz lortzen duen modularitaterik onena 0.043301909438214305 da. Beraz, hemendik aurrera inplementatzen ditugun algoritmoek soluzio hau baino hobea edo berdina den soluzio bat eman behar digute ondo inplementatua baldin badaude.  \n",
        "\n",
        "Behin hau edukita has gaitezke eskatzen diren hiru algoritmo desberdinak inplementatzen."
      ]
    },
    {
      "cell_type": "markdown",
      "metadata": {
        "id": "rSv9yC5A4JFM"
      },
      "source": [
        "# Algoritmo eraikitzailea\n",
        "\n",
        "Algoritmo eraikitzaileak soluzio huts batetik hasten dira eta iteratiboki, elementuak gehitu ohi dira soluzioan. Soluzioan egoteko irizpide bat maximizatuko duen elementua aukeratzen da. Algoritmoa hau estokastikoa da, ez du beti soluzio berdina bueltatzen ausaz aukeraketa batzuk egiten direlako.\n",
        "\n",
        "Inplementatutako algoritmoak hurrengoa egiten du:\n",
        "1. `k` aldagai bat jasotzen du zeinak partizio kopurua adierazten duen. Aurre-prozesaketa egin denez nodo guztiek garrantzia berdina dute; beraz, *k* autore aukeratzen dira ausaz eta *k* autore bakoitzak partizio bat osatuko du.\n",
        "\n",
        "2. Partizio bakoitzean autore berri bat sartzen da iteratiboki.  Nodo bat hartzen baldin bada ze partizioan jartzearen erabakia ez da tribiala horrek eragin handia izango baitu modularitatean; beraz, kontu handiz egin behar den zerbait da. Lehenik eta behin partizioan sartzen diren nodo (autore) berriak partizioko beste autoreekin konektatuta egon behar dute. Honela, modularitatea maximizatuko da partizioan sartzen ditugun nodoak konektatuta daudelako, hau da, nodo hauek berain artean elkarlan maila bat dutelako. Hortaz, partizio bakoitzean dauden nodo bakoitzaren auzokideak aztertu egiten dira eta sartu egiten da modularitatea gehien maximizatzen duen autorea. Zehazki, hurrengo kalkulua maximizatzen duena:  $\\left[A_{vw}-\\frac{k_vk_w}{2m}\\right]$ \n",
        "\n",
        "3. Partizio bakoitzean dauden nodoen auzokide guztiak aztertu eta dagokion partizion sartu direnean autore batzuk sartu gabe gelditzen dira. Sartzeke geratzen diren autoreak partizioko nodoekin erlaziorik ez dute izango, hau da, ez daude konektatuta, ez dute elkarlanik. Nahiz eta elkarlanik ez izan nodo hauek ez dira ausaz partizio batean sartuko, nodo bakoitza gradu bat daukalako eta hau baita erabiltzen delako modularitatea kalkulatzean. Hortaz, sartzeke geratzen diren autore bakoitza modularitatea gehien handitzen duen partizioan sartzen da iteratiboki. Zehazki, hurrengo kalkulua maximizatzen duen partizioan:  $\\left[A_{vw}-\\frac{k_vk_w}{2m}\\right]$, $A_{vw} = 0$ izango da ertzik ez dagoelako.\n",
        "\n",
        "## Sasikodea\n",
        "\n",
        "**Sarrera:**\n",
        "* $k$ : egingo diren partizio kopurua\n",
        "* $G$ : grafo bat nodo bakoitza idazle bat izanik eta ertzak idazleen arteko elkarlana adieraziz\n",
        "\n",
        "**Irteera:** $C$ : modularitatea maximizatzen duen partizioa\n",
        "\n",
        "**Hasieraketa:**\n",
        "> $C = \\{ C_{1},...,C_{k}\\}$\n",
        ">\n",
        "**Algoritmoa:**\n",
        "> eguneratu = True \n",
        ">\n",
        "> **while** eguneratu:\n",
        ">>\n",
        ">> **for** i in range(k)\n",
        ">>>  v = Q maximizatzen duen nodoa\n",
        ">>>\n",
        ">>> **if** v == None:\n",
        ">>>\n",
        ">>>> eguneratu = False  \n",
        ">>>\n",
        ">>> **else:**\n",
        ">>>\n",
        ">>>> $C_{i} ← C_{i} ∪ {v}  $  \n",
        ">>>>\n",
        ">>>> $V ← V \\backslash \\{v \\}$\n",
        ">\n",
        "> **while** V $\\neq \\emptyset$:\n",
        ">>**for** i in range(k):\n",
        ">>\n",
        ">>> v = Q maximizatzen duen nodoa\n",
        ">>>\n",
        ">> $C_{i} ← C_{i} ∪ {v}  $  \n",
        ">>\n",
        ">> $V ← V \\backslash \\{v \\}$\n",
        ">>\n",
        "> **return** C\n",
        "\n",
        "\n",
        "## Kodea"
      ]
    },
    {
      "cell_type": "code",
      "execution_count": null,
      "metadata": {
        "id": "k74hyXAZ4JFO"
      },
      "outputs": [],
      "source": [
        "def aukeratu_onena(G, partizioa_elem, aztertuak, weight):\n",
        "    maxim, elem_max = -float('inf'), None\n",
        "    for elem in partizioa_elem:\n",
        "        kv = G.degree(elem, weight=weight)\n",
        "        for nbr, eattr in G[elem].items(): #nbr = auzokide zehatza; eattr=nbr-ren datuak, adib pisuak\n",
        "            if nbr not in aztertuak: #ez baldin bada aztertua izan\n",
        "                wt = eattr[weight] #n eta nbr arteko pisuak\n",
        "                kw = G.degree(nbr, weight=weight)\n",
        "                batu = wt - (kv * kw)/(2*m)\n",
        "                if batu > maxim:\n",
        "                    maxim = batu\n",
        "                    elem_max = nbr\n",
        "    return elem_max\n",
        "\n",
        "def partizio_partziala(G, k, partizioa,weight, aztertutakoak):\n",
        "    eguneratu = True\n",
        "    while eguneratu: \n",
        "        for i in range(k): #partizio bakoitzeko\n",
        "            partizioa_elem = [k for k,v in partizioa.items() if v==i] #lortu i. partizioko elementuak\n",
        "            elem_onena = aukeratu_onena(G, partizioa_elem, aztertutakoak, weight)\n",
        "            if elem_onena == None:\n",
        "                eguneratu = False\n",
        "            else:\n",
        "                eguneratu = True\n",
        "                aztertutakoak.append(elem_onena)\n",
        "                partizioa[elem_onena] = i\n",
        "    return partizioa, aztertutakoak\n",
        "\n",
        "def partizio_onenean_sartu(G, k, partizioa, weight, node):\n",
        "    maxim, partizio_onena, elem_max = -float('inf'), None, None\n",
        "    for i in range(k): #partizio bakoitzeko\n",
        "        batu = 0\n",
        "        partizioa_elem = [k for k,v in partizioa.items() if v==i] #lortu i. partizioko elementuak        \n",
        "        for elem in partizioa_elem:\n",
        "            kv = G.degree(elem, weight=weight)\n",
        "            kw = G.degree(node, weight=weight)\n",
        "            batu += - (kv * kw)/(2*m) #Avw = 0 izango da ez daudelako konketatuta\n",
        "        if batu > maxim:\n",
        "            maxim = batu\n",
        "            partizio_onena = i\n",
        "    partizioa[node] = partizio_onena #sartu \n",
        "    return partizioa\n",
        "    \n",
        "#partizio bakoitzean egongo diren idazleak ausaz aukeratuko dira\n",
        "def algoritmo_eraikitzailea(G, k, weight= 'weight'):\n",
        "    hasi_elem =  rm.sample([node for node in G], k) #aukeratu k ausaz #hasieraketa(G,k)\n",
        "    aztertutakoak =[] \n",
        "    partizioa = {}\n",
        "    kont = 0\n",
        "    eguneratu = True\n",
        "    for elem in hasi_elem: #sartu elementu bakoitza partizio batean\n",
        "        aztertutakoak.append(elem)\n",
        "        partizioa[elem] = kont\n",
        "        kont += 1\n",
        "    #sortutako lehenengo partizioa aukeratutako elementuekin. Partizioetan dauden elementuak konektata daude\n",
        "    lehenengo_partizioa, aztertutakoak = partizio_partziala(G, k, partizioa, weight, aztertutakoak)\n",
        "    #partizioen barruko elementuekin konektatu gabeko elementuak gehitu behar ditugu    \n",
        "    for node in G:\n",
        "        if node not in aztertutakoak: #ez baldin bada aztertu\n",
        "            partizioa = partizio_onenean_sartu(G, k, partizioa, weight, node)\n",
        "            aztertutakoak.append(node)\n",
        "    \n",
        "    return partizioa"
      ]
    },
    {
      "cell_type": "markdown",
      "metadata": {
        "id": "UhfNPrZE4JFP"
      },
      "source": [
        "500 nodo inguru edukita eta partizio kopurua 20-ean ezarriz ematen digun modularitatea hurrengoa izan da:"
      ]
    },
    {
      "cell_type": "code",
      "execution_count": null,
      "metadata": {
        "id": "yoL8vDCE4JFQ",
        "outputId": "6bf800b3-87d0-4414-b45f-cad1dd0a15d9"
      },
      "outputs": [
        {
          "name": "stdout",
          "output_type": "stream",
          "text": [
            "Soluzioaren modularitatea aurre-prozesatutako grafoan:  0.7623908612557998\n",
            "0.7851479053497314\n",
            "Soluzioaren modularitatea problemaren grafoaren gainean:  0.7479813690467743\n"
          ]
        }
      ],
      "source": [
        "k = 5\n",
        "start = time.time()\n",
        "partizioa = algoritmo_eraikitzailea(G,k, weight= 'weight')\n",
        "#modularitatea kalkulatuko dugu\n",
        "print(\"Soluzioaren modularitatea aurre-prozesatutako grafoan: \", modularitatea2OPT(G,partizioa, degree, m)[0])\n",
        "partizioa1 = kanpokoak_sartu(partizioa, k)\n",
        "print(time.time()-start)\n",
        "print(\"Soluzioaren modularitatea problemaren grafoaren gainean: \", modularitatea2OPT(G, partizioa1, degree, m)[0])"
      ]
    },
    {
      "cell_type": "markdown",
      "metadata": {
        "id": "vBTxAqiv4JFS"
      },
      "source": [
        "Ikus daitekenez lortu dugun modularitatea *Random Search* bidez lortutako baino handiagoa da. Seinale ona da hori. Gainera ikus daiteke aurretik aipatutakoa, aurre-prozesaketaren grafoan ez dauden nodoak erredundanteak dira hauek edozein partizioetan sartu ostean ez dutelako modularitatean eraginik. Bi kasuetan modularitate berdina lortzen da. Jarraian, lortutako soluzioak irudikatuko daude partizio bakoitza kolore batez margotuta dagoelarik. Lehenengo grafoa aurre-prozesatutako grafoa da eta bigarrena sarreran sartutako grafoa."
      ]
    },
    {
      "cell_type": "code",
      "execution_count": null,
      "metadata": {
        "id": "3fDhemW24JFT"
      },
      "outputs": [],
      "source": [
        "#partizioak_irudikatu(G , k , partizioa)"
      ]
    },
    {
      "cell_type": "code",
      "execution_count": null,
      "metadata": {
        "id": "HDLaQRcE4JFU"
      },
      "outputs": [],
      "source": [
        "#partizioak_irudikatu(G_, k , partizioa)"
      ]
    },
    {
      "cell_type": "markdown",
      "metadata": {
        "id": "EZVzV-Qv4JFV"
      },
      "source": [
        "# Soluzio bakarrean oinarritutako heuristikoak: ILS hibidridoa\n",
        "\n",
        "Soluzio bakarrean oinarritutako heuristiko moduan ILS hibrido bat egitea aukeratu dugu. ILS algoritmoak hasierako ausazko soluzio batetik hasten da, baina gure hibridoak ILS algoritmoa aplikatzen du soluzio estokastiko baten gainean. ILSk uneko optimo lokala hartuko du oinarritzat eta optimo lokal batean trabatuta geratzen denean, uneko soluzioa *perturbatu* egingo du eta bertatik bilatzen jarraituko du. Optimo lokal berri batera heltzen garenean, soluzio hori onartuko dugun erabaki behar da. [1] Hurrengo argazkian, ikus 2.irudia, ILS algoritmoaren ideia azaltzen da.\n",
        "\n",
        "![imagen.png](attachment:imagen.png)\n",
        "**2.irudia.** ILS algoritmoaren ideia.\n",
        "\n",
        "Algoritmoa azaltzeko bi prozedura berri zehaztu behar dira: *perturbazioa* eta *onartze irizpidea*.\n",
        "\n",
        "* **Perturbazioa:** Hasteko, optimo lokal batean trabatuta geratzen denean, hura nola perturbatu pentsatu behar da. Soluzio bateko inguruneko soluzioak antzekoak direnez aldaketa handiak sartu behar dira  optimo lokalatik alde egiteko. 2. irudian ikus daiteke perturbazioaren tamaina garrantzia handia duela. Izan ere, oso handia baldin bada optimo globaletik pasa gaitezke eta beste optimo lokal batean trabatuta gelditu. Aurrerago azaldu egingo da zein perturbazio mota eta gradu erabiliko diren.\n",
        "\n",
        "* **Onartze iripidea:** Uneko optimo lokala perturbatu ondoren bilaketa lokala aplikatzen da eta erabaki behar da zein perturbatuko den: Lortutako optimo berria edo berriro optimo zaharra. Aurrerago azalduko da problema honetarako erabili den onartze irizpidea.[1]\n",
        "\n",
        "## ILS-ren sasikodea\n",
        "**Sarrera:** $G$ :grafo bat nodo bakoitza idazle bat izanik eta ertzak idazleen arteko elkarlana adieraziz\n",
        "\n",
        "**Irteera:** $s_{best}$: modularitatea maximizatzen duen soluzioa\n",
        "\n",
        "**Algoritmoa:**\n",
        "> $ s^*$= Generate initial solution() \n",
        ">\n",
        "> $s_{best} = s^*$  \n",
        ">\n",
        "> 1: **repeat**  \n",
        ">\n",
        "> 2: &nbsp;&nbsp;&nbsp;&nbsp;&nbsp;&nbsp; $s^´$ =  perturbation$(s^*)$\n",
        ">\n",
        "> 3: &nbsp;&nbsp;&nbsp;&nbsp;&nbsp;&nbsp; $s^*´$ = local\\_search$(s^´)$\n",
        ">\n",
        "> 4: &nbsp;&nbsp;&nbsp;&nbsp;&nbsp;&nbsp; $s^*$ = simmulated\\_annealing$(s^*´, s^*)$\n",
        ">\n",
        "> 5: &nbsp;&nbsp;&nbsp;&nbsp;&nbsp;&nbsp; **if** $Q(s^*)$ > Q($s_{best}$) **then**\n",
        ">\n",
        "> 6: &nbsp;&nbsp;&nbsp;&nbsp;&nbsp;&nbsp;&nbsp;&nbsp;&nbsp;&nbsp;&nbsp;&nbsp;$s_{best} = s^* $  \n",
        ">\n",
        "> 7: **until** $!stop\\_criterion()$"
      ]
    },
    {
      "cell_type": "markdown",
      "metadata": {
        "id": "Ufy0iCgw4JFW"
      },
      "source": [
        "## Hasieraketa\n",
        "Gure hasierako partizioa hasieratzeko era desberdinak ikusi ditugu. Horietako bat *greedy constructive heuristic* (GCH) Sanchez et al proposatutakoa. Horren sasikodea 3. irudian ikus daiteke. GCH-k, lehenik, V erpin multzotik v nodo bat aukeratzen du ausaz. Ondoren, v nodoa jasotzen duen kluster bat gehitzen zaio eraikuntzarako *s* soluzioari. Jarraitzeko, hurrengo nodoa ausaz aukeratzen da eta GCH-k ebaluatzen du nolako modularitatea dagoen nodoa $C_{i}$ kluster bakoitzean sartzean. Orduan, emaitzarik onena duen modularitea soluzioen egungo modularitatea baino handiagoa bada, nodoa dagokion $C_{i}$  klusterrean sartuko da. Bestela, v nodoa duen multzo berri bat sartzen da s soluzioan. Azkenik, hautatutako nodoa V multzotik kentzen da. Prozesua errepikatzen da V multzoa hutsik egon arte.[2]\n",
        "\n",
        "\n",
        "![imagen-2.png](attachment:imagen-2.png)\n",
        "**3. irudia** GCH algoritmoaren sasikodea\n",
        "\n",
        "### Kodea"
      ]
    },
    {
      "cell_type": "code",
      "execution_count": null,
      "metadata": {
        "id": "bIByTtfY4JFX"
      },
      "outputs": [],
      "source": [
        "def hasieratu(G):\n",
        "    nodoak = list(G.nodes())\n",
        "    node = rm.choice(nodoak)\n",
        "    i = 1\n",
        "    nodoak.remove(node)\n",
        "    partizioa = {}\n",
        "    for n in nodoak:\n",
        "        partizioa[n] = 0\n",
        "\n",
        "    partizioa[node] = i\n",
        "    Q,_,_ = modularitatea2OPT(G, partizioa, degree, m)\n",
        "    while nodoak!= []:\n",
        "        hobetu = False\n",
        "        node = rm.choice(nodoak)\n",
        "        for j in range(i):\n",
        "            partizioa[node] = j\n",
        "            Q1,_,_ = modularitatea2OPT(G, partizioa, degree, m)\n",
        "            if Q1 > Q:\n",
        "                hobetu = True\n",
        "                break\n",
        "        if not hobetu:\n",
        "            i += 1\n",
        "            partizioa[node] = i\n",
        "        nodoak.remove(node)\n",
        "        Q,_,_ = modularitatea2OPT(G, partizioa, degree, m)\n",
        "    return partizioa"
      ]
    },
    {
      "cell_type": "code",
      "execution_count": null,
      "metadata": {
        "id": "VeO5kCO_4JFZ",
        "outputId": "81f45dad-d7a0-481c-bb11-fbf091285ad5"
      },
      "outputs": [
        {
          "name": "stdout",
          "output_type": "stream",
          "text": [
            "Partizio kopurua: 154\n",
            "Soluzioaren modularitatea aurre-prozesatutako grafoan:  0.17424186793324895\n",
            "Soluzioaren modularitatea problemaren grafoaren gainean:  0.17424186793324895\n"
          ]
        }
      ],
      "source": [
        "partizioaILS = hasieratu(G)\n",
        "#modularitatea kalkulatuko dugu\n",
        "kILS = len(np.unique(list(partizioaILS.values())))\n",
        "print(\"Partizio kopurua: \"+ str(kILS))\n",
        "print(\"Soluzioaren modularitatea aurre-prozesatutako grafoan: \", modularitatea2OPT(G,partizioaILS, degree, m)[0])\n",
        "partizioaILS1 = kanpokoak_sartu(partizioaILS, kILS)\n",
        "print(\"Soluzioaren modularitatea problemaren grafoaren gainean: \", modularitatea2OPT(G, partizioaILS1, degree, m)[0])"
      ]
    },
    {
      "cell_type": "markdown",
      "metadata": {
        "id": "odWTOy7B4JFZ"
      },
      "source": [
        "Jarraian, lortutako soluzioak irudikatuko daude partizio bakoitza kolore batez margotuta dagoelarik. Lehenengo grafoa aurre-prozesatutako grafoa da eta bigarrena sarreran sartutako grafoa."
      ]
    },
    {
      "cell_type": "code",
      "execution_count": null,
      "metadata": {
        "id": "jcxIvM644JFa"
      },
      "outputs": [],
      "source": [
        "#partizioak_irudikatu(G , kILS , partizioaILS)"
      ]
    },
    {
      "cell_type": "code",
      "execution_count": null,
      "metadata": {
        "id": "ePIaQH8z4JFa"
      },
      "outputs": [],
      "source": [
        "#partizioak_irudikatu(G_ , kILS , partizioaILS1)"
      ]
    },
    {
      "cell_type": "markdown",
      "metadata": {
        "id": "rveY619J4JFb"
      },
      "source": [
        "Funtzio honek itzultzen digun modularitatea algoritmo eraikitzailea itzultzen diguna baino txarragoa da. Hau zentzuzko da, izan ere, soluzioa eraikitzean nodoak ausaz hartzen direnez gerta daiteke bere auzokideak aztertuta ez egotea. Egoera horretan, auzokidearen auzokideak diren nodoak aztertzean komunitate desberdinetan sartuko ditu. Ondorioz, auzokidea, bere auzokide batzuekiko komunitate desberdin batean geratuko da. Horretaz gain, algoritmo honetan komunitate kopurua zehazten ez denez, askotan komunitate asko sortzen dira. Goian agertzen diren grafoetan ikus daiteke nola komunitate txiki asko dauden eta nola nodo asko ditugun bere auzokideekiko komunitate desberdinetan.\n",
        "\n",
        "Ez da funtzio hau erabiliko ILSen sarrera moduan, aipatu bezala soluzio estokastiko batetik hasiko da. Ingurune funtzioa *hamming* izanda (hurrengo puntuan azaltzen da) ingurunea ahalik eta txikien izateko komunitate kopurua txikia izatea komeni delako eta GCH funtzioak komunitate asko sortzen ditu. Horren ordez, algoritmo eraikitzaileak sortzen duen soluzioa erabiliko da hasierako soluzio moduan. Alde batetik, komunitate kopuru bat zehaztu ahal duzulako kopuru txiki bat ezartzeko aukera emanez. Beste alde batetik, soluzio nahiko onak itzultzen dituelako kasu askotan 0.3 baino altuagoak. Aurreko fasean aipatu bezala 0,3 baino altuagoko balioak sarearen komunitate estruktura ona denaren adierazgarri dira. Izan ere, bilaketa lokaletan soluzio on batetik hasteak zorizko soluzioetatik hastea baino soluzio hobeak itzultzen ditu normalean[1].\n",
        "\n",
        "Esan dugu algoritmo eraikitzaileak sortutako emaitzak GCH algoritmoarenak baino hobeak direla. Baina hori horrela dela probatzeko proba bat egin dugu. 100 aldiz exekutatu ondoren algoritmo bakoitza ikusi ditugu zenbat soluzio on lortu ditugun (0,3 baino handiagoak direnak) eta zenbat soluzio oker. Emaitzak hurrengoak izan dira: %71 soluzio on Eraikitzaileak eta %0 GCH-k. Beraz, eraikitzailearekin soluzio hobeak lortzen dira.\n",
        "\n",
        "### Proba"
      ]
    },
    {
      "cell_type": "code",
      "execution_count": null,
      "metadata": {
        "id": "yJHqlJ014JFc"
      },
      "outputs": [],
      "source": [
        "list_budget = []\n",
        "list_bestE= []\n",
        "list_worstE= []\n",
        "list_bestH = []\n",
        "list_worstH = []\n",
        "repetitions=100\n",
        "k = 10 \n",
        "\n",
        "for rep in range(repetitions):\n",
        "    partizioa1 = algoritmo_eraikitzailea(G,k, weight= 'weight')\n",
        "    sol1,_,_ = modularitatea2OPT(G,partizioa1, degree, m)\n",
        "    partizioa2 = hasieratu(G)\n",
        "    sol2,_,_ = modularitatea2OPT(G,partizioa2, degree, m)\n",
        "    if sol1 >= 0.3:\n",
        "        list_bestE.append(sol1)\n",
        "    else:\n",
        "        list_worstE.append(sol1)\n",
        "    if sol2 >= 0.3:\n",
        "        list_bestH.append(sol2)\n",
        "    else:\n",
        "        list_worstH.append(sol2)    \n",
        "    list_budget.append(rep)\n"
      ]
    },
    {
      "cell_type": "code",
      "execution_count": null,
      "metadata": {
        "id": "CCU12t4L4JFd"
      },
      "outputs": [],
      "source": [
        "total = len(list_bestH)+ len(list_worstH)\n",
        "print(\"Lortu ditugun soluzio on kopurua eraikitzaileak: \" + str(len(list_bestE))+ \", portzentaia: %\"+str(len(list_bestE)/total *100))\n",
        "print(\"Lortu ditugun soluzio txar kopurua eraikitzaileak: \" + str(len(list_worstE))+ \", portzentaia: %\"+ str(len(list_worstE)/total *100))\n",
        "print(\"Lortu ditugun soluzio on kopurua GCH: \" + str(len(list_bestH))+ \", portzentaia: %\"+str(len(list_bestH)/total *100))\n",
        "print(\"Lortu ditugun soluzio txar kopurua GCH: \" + str(len(list_worstH))+ \", portzentaia: %\"+ str(len(list_worstH)/total *100))\n",
        "\n"
      ]
    },
    {
      "cell_type": "markdown",
      "metadata": {
        "id": "hpx-riRA4JFe"
      },
      "source": [
        "## Local Search\n",
        "\n",
        "Ingurune funtzioa sortzeko *hamming* erabiliko dugu. Hamming ingurune funtzioak nodo baten komunitatea aldatzen du. Funtzio hau erabiltzea erabaki dugu honek, *swap* eta *insert* ingurune funtzioak ez bezala soluzio posible guztiak sortzen dituelako. Adibidez, k=6 bada k izanik dauden kluster kopurua eta gure soluzioak 6 zenbakia duen komunitatea ez badu hamming-ek komunitate hau duten kandidatoak baita sortuko ditu. *Swap* eta *insert* inguruneek, aldiz, ez dute 6. klusterrean dagoen soluziorik sortuko. Horregatik *hamming*-ek sortzen duen ingurunea handiagoa da.  \n",
        "\n",
        "Inguruneko kandidatoak aukeratzeko *best first* estrategia erabiltzea erabaki dugu. Honek modularitatea hobetzen duen inguruneko lehenengo kandidatoa itzultzen du. Estrategia hau erabiltzea erabaki dugu honen kostu konputazionala *greedy* baino baxuagoa delako. Izan ere, bakarrik kasu txarrenean aztertuko ditu inguruneko kandidato guztiak. *Greedyk* aldiz, beti aztertzen ditu inguruneko kandidato guztiak.\n",
        "\n",
        "### Sasikodea\n",
        "\n",
        "**Sarrera:** $f$ helburu-funtzioa, $s_0$ hasierako soluzioa eta $N$ ingurune funtzioa\n",
        " \n",
        "**Irteera:** $s^*$ soluzio optimoa\n",
        "\n",
        "**Algoritmoa:**\n",
        ">\n",
        "> 1: $s^* = s_0$\n",
        "> \n",
        "> 2: **repeat**\n",
        "> \n",
        "> 3: &nbsp;&nbsp;&nbsp;&nbsp;&nbsp;&nbsp; $H = \\{s^´ \\in N(s^*) | f(s^´) > f(s^*)\\}$\n",
        ">\n",
        "> 4: &nbsp;&nbsp;&nbsp;&nbsp;&nbsp;&nbsp; **if** $|H|>0$ **then**\n",
        ">\n",
        "> 5: &nbsp;&nbsp;&nbsp;&nbsp;&nbsp;&nbsp;&nbsp;&nbsp;&nbsp;&nbsp;&nbsp;&nbsp; Aukeratu $H$-n dagoen lehenengo soluzioa $s^´$\n",
        ">\n",
        "> 6: &nbsp;&nbsp;&nbsp;&nbsp;&nbsp;&nbsp;&nbsp;&nbsp;&nbsp;&nbsp;&nbsp;&nbsp; $s^* = s^´$\n",
        ">\n",
        "> 7: &nbsp;&nbsp;&nbsp;&nbsp;&nbsp;&nbsp; **end**\n",
        ">\n",
        "> 8: **until** $s^*$ aldatu da edo iterazio kopuru maximora ailegatu\n",
        "\n",
        "### Kodea"
      ]
    },
    {
      "cell_type": "code",
      "execution_count": null,
      "metadata": {
        "id": "HSigRk8W4JFf"
      },
      "outputs": [],
      "source": [
        "def aldatuKomunitatea(solution, i, j):\n",
        "    solution[i] = j\n",
        "    return solution\n",
        "\n",
        "def aldatuKomunitateaAldrebes(solution, i, j):\n",
        "    solution[i] = j\n",
        "    return solution\n",
        "\n",
        "def modularitatea2OPT_(G, partizioa, degree, m, nodo, c ,c_berria, a ,e ,weight='weight'):\n",
        "    modularitatea = 0\n",
        "    i = -1\n",
        "    for node in G: #nodo bakoitzeko\n",
        "        i += 1\n",
        "        if i == nodo:\n",
        "            a[c] -= degree[node]\n",
        "            a[c_berria] += degree[node]\n",
        "            for nbr, eattr in G[node].items(): #nbr = auzokide zehatza; eattr=nbr-ren datuak, adib pisuak\n",
        "                if partizioa[nbr] == c:\n",
        "                    e[c]  -= 2* eattr[weight]\n",
        "                if partizioa[nbr] == c_berria:\n",
        "                    e[c_berria]  +=2* eattr[weight]\n",
        "            break\n",
        "            \n",
        "    for j in set(partizioa.values()):\n",
        "        modularitatea += (e[j] / (2 * m)) - (a[j] / (2 * m)) ** 2\n",
        "    #berreskuratu\n",
        "    a[c] += degree[node]\n",
        "    a[c_berria] -= degree[node]\n",
        "    for nbr, eattr in G[node].items(): #nbr = auzokide zehatza; eattr=nbr-ren datuak, adib pisuak\n",
        "        if partizioa[nbr] == c:\n",
        "            e[c]  += 2*eattr[weight]\n",
        "        if partizioa[nbr] == c_berria:\n",
        "            e[c_berria]  -= 2*eattr[weight]\n",
        "    \n",
        "    return modularitatea,a,e  \n",
        "\n",
        "def a_e_berriak(G, partizioa, degree, m, nodo, c ,c_berria, a ,e ,weight='weight'):\n",
        "    i = -1\n",
        "    for node in G: #nodo bakoitzeko\n",
        "        i += 1\n",
        "        if i == nodo:\n",
        "            a[c] -= degree[node]\n",
        "            a[c_berria] += degree[node]\n",
        "            for nbr, eattr in G[node].items(): #nbr = auzokide zehatza; eattr=nbr-ren datuak, adib pisuak\n",
        "                if partizioa[nbr] == c:\n",
        "                    e[c]  -= 2* eattr[weight]\n",
        "                if partizioa[nbr] == c_berria:\n",
        "                    e[c_berria]  +=2* eattr[weight]\n",
        "            break\n",
        "    return a, e\n",
        "\n",
        "def local_search_hamming_ing(G, k, best_solution, best_fitness, max_evals):\n",
        "    size = len(best_solution)\n",
        "    aldatu = False  \n",
        "    for i in range(size):\n",
        "        for j in range(k):\n",
        "            if best_solution[i] != j: #komunitate desberdina\n",
        "                balioa = best_solution[i]\n",
        "                sol_lag = aldatuKomunitatea(best_solution, i, j)\n",
        "                partition_lag = dict(zip(G.nodes, sol_lag))\n",
        "                fit_lag,_,_ = modularitatea2OPT(G, partition_lag, degree, m)\n",
        "                max_evals -= 1\n",
        "                if fit_lag > best_fitness:\n",
        "                    aldatu = True\n",
        "                    return sol_lag, fit_lag, max_evals, aldatu\n",
        "                if max_evals <= 0:\n",
        "                    return best_solution, best_fitness, max_evals, aldatu\n",
        "                best_solution = aldatuKomunitateaAldrebes(best_solution, i, balioa) \n",
        "            \n",
        "    return best_solution, best_fitness, max_evals, aldatu\n",
        "\n",
        "def local_search_hamming_ing_eficient( G, k, best_solution, best_fitness, max_evals,a ,e, denbora):\n",
        "    size = len(best_solution)\n",
        "    aldatu = False  \n",
        "    for i in range(size):\n",
        "        for j in range(0, best_solution[i]):\n",
        "            balioa = best_solution[i]\n",
        "            sol_lag = aldatuKomunitatea(best_solution, i, j)\n",
        "            partition_lag = dict(zip(G.nodes, sol_lag))\n",
        "            start = time.time()\n",
        "            fit_lag,_,_ = modularitatea2OPT_(G, partition_lag, degree, m, i ,balioa , j, a ,e )\n",
        "            denbora += time.time()-start\n",
        "            max_evals -= 1\n",
        "            if fit_lag > best_fitness:\n",
        "                aldatu = True\n",
        "                a, e = a_e_berriak(G, partition_lag, degree, m, i ,balioa , j, a ,e )\n",
        "                return sol_lag, fit_lag, max_evals, aldatu,a ,e, denbora\n",
        "            best_solution = aldatuKomunitateaAldrebes(best_solution, i, balioa) \n",
        "            \n",
        "        for j in range(best_solution[i]+1,k):\n",
        "            balioa = best_solution[i]\n",
        "            sol_lag = aldatuKomunitatea(best_solution, i, j)\n",
        "            partition_lag = dict(zip(G.nodes, sol_lag))\n",
        "            start = time.time()\n",
        "            fit_lag,_,_ = modularitatea2OPT_(G, partition_lag, degree, m, i ,balioa , j, a ,e )\n",
        "            denbora += time.time()-start\n",
        "            max_evals -= 1\n",
        "            if fit_lag > best_fitness:\n",
        "                aldatu = True\n",
        "                a, e = a_e_berriak(G, partition_lag, degree, m, i ,balioa , j, a ,e )\n",
        "                return sol_lag, fit_lag, max_evals, aldatu, a, e, denbora\n",
        "           \n",
        "            best_solution = aldatuKomunitateaAldrebes(best_solution, i, balioa) \n",
        "         \n",
        "        if max_evals <= 0:\n",
        "            return best_solution, best_fitness, max_evals, aldatu, a, e, denbora\n",
        "            \n",
        "    return best_solution, best_fitness, max_evals, aldatu, a, e, denbora\n",
        "\n",
        "def local_search(G, k, best_solution, max_evals ):\n",
        "    best_partition = dict(zip(G.nodes, best_solution))\n",
        "    best_fitness, a ,e  = modularitatea2OPT(G, best_partition, degree, m)\n",
        "    aldatu = True\n",
        "    denbora = 0\n",
        "    while max_evals >= 0 and aldatu:\n",
        "        best_solution, best_fitness, max_evals, aldatu, a, e, denbora = local_search_hamming_ing_eficient(G, k, best_solution, best_fitness, max_evals, a ,e, denbora)\n",
        "        #best_solution, best_fitness, max_evals, aldatu = local_search_hamming_ing(G, k, best_solution, best_fitness, max_evals)\n",
        "    return best_solution, best_fitness, max_evals, denbora\n",
        "        "
      ]
    },
    {
      "cell_type": "code",
      "execution_count": null,
      "metadata": {
        "id": "Ql_GQhZ04JFh",
        "outputId": "6dc90893-38af-4d7d-c592-863b475c1121"
      },
      "outputs": [
        {
          "name": "stdout",
          "output_type": "stream",
          "text": [
            "2_OPT 0.009731081640624771\n",
            "2_OPT_ 0.009731081640624771\n"
          ]
        }
      ],
      "source": [
        "k = 5\n",
        "partizioa = algoritmo_eraikitzailea(G,k, weight= 'weight')\n",
        "initial_sol = from_dict_to_list(G, partizioa)\n",
        "fitness_opt,a,e = modularitatea2OPT(G, partizioa, degree, m)\n",
        "\n",
        "i = 6\n",
        "balioa = initial_sol[i]\n",
        "j = 2\n",
        "if j == balioa:\n",
        "    j = 3\n",
        "initial_sol[i] = j\n",
        "partition_lag = dict(zip(G.nodes, initial_sol))\n",
        "\n",
        "fitness_opt,_,_= modularitatea2OPT(G, partition_lag, degree, m)\n",
        "print(\"2_OPT \" + str(fitness_opt))\n",
        "\n",
        "fitnnes_opt_ = modularitatea2OPT_(G, partition_lag, degree, m, i ,balioa , j, a ,e )\n",
        "print(\"2_OPT_ \" + str(fitnnes_opt_[0]))"
      ]
    },
    {
      "cell_type": "markdown",
      "metadata": {
        "id": "1XMyiT284JFk"
      },
      "source": [
        "## Perturbatu\n",
        "\n",
        "ILS-ek optimo lokaletatik ihes egiten du eta eskualde berriak esploratzen ditu LSen bidez sortu diren soluzioei perturbazioak aplikatuz. Perturbazioaren gradua txikiegia bada LSak berriz optimoa lokalera ailegatuko da. Oso handia bada aldiz, ILS algoritmoa zorizko hasieraketa anizkoitzeko  algoritmoa bilakatuko da. Beraz, oso garrantzitsua da parametro hau zehaztea. Horretarako algoritmoak bi metodoen artean aukeratzen ditu probabilitate batekin.[1]\n",
        "\n",
        "### Lehenengo metodoa\n",
        "Metodo honek *boundary* nodoak bere auzokideen komunitate batera mugitzen ditu. *Boundary* nodo bat izango dugu baldin eta nodo horren auzokide guztiak komunitate berdinean ez badaude. Bestalde, perturbatzen dugun bakoitzean *boundary* nodo kopuru finko bat komunitatez aldatuko ditugu: ditugun nodo guztien $\\beta$ portzentaia. $\\beta$ parametro hau 0.3 izatea erabaki dugu Liu, C. et al [2] arabera balio honek zuzen funtzionatzen duelako. Hala ere, hurrengo fasean parametro honen balioaz arduratuko gara.\n",
        "\n",
        "Hurrengo argazkian (ikus 4.irudia), funtzioaren adibide bat daukagu. Zehazki, {3, 7, 9} multzoko nodoak auzokideko komunitatea esleitzen zaie.\n",
        "\n",
        "![imagen.png](attachment:imagen.png)\n",
        "**4.irudia**. Lehenengo funtzioaren adibide bat.\n",
        "\n",
        "\n",
        "### Bigarren metodoa\n",
        "Gure probleman komunitate kopurua zehaztuta ematen diguten zerbait da. Beraz, funtzio honek komunitate kopuru desberdinak aztertzen ditu. Funtzioak gure soluzioko $\\gamma$ komunitate kopurua hartzen ditu ausaz. Ondoren, $\\gamma$ komunitate barruan dauden nodo guztiak komunitate bihurtzen ditu non, komunitate bakoitza nodo bakar batez osatuta egongo den. $\\gamma$ parametroak perturbazioaren indarra adierazten digu. Erabaki dugu, Liu, C. et al [2] arabera, honen balioa 1-ekin hasieratzea eta handituz joango gara balioari 1 gehituz iterazio horretan lortzen den optimoa onartze irizpideak betetzen ez baditu. Bestela, $\\gamma$ 1ekin hasieratuko da berriz. $\\gamma$-k hartu dezakeen balio altuena 0.6 * |s| (soluzioan ditugun komunitate kopurua) izango da komunitate gehiegi ez sortzeko.  \n",
        "\n",
        "Hurrengo argazkian (ikus 5.irudia), funtzioaren adibide bat daukagu. Zehazki, {9, 10, 11} multzoko nodoak komunitate bat osatzen dute eta nodo bakoitza komunitate berri bat sortzen du.\n",
        "\n",
        "![imagen-2.png](attachment:imagen-2.png)\n",
        "**5.irudia**. Bigarren funtzioaren adibide bat.\n",
        "\n",
        "### Sasikodea\n",
        "**Sarrera:**\n",
        "* $G$ : grafo bat nodo bakoitza idazle bat izanik eta ertzak idazleen arteko elkarlana adieraziz\n",
        "* $s$ : momentu arte soluziorik onena, non adierazita dago nodo bakoitza ze partizioan dagoen\n",
        "\n",
        "**Irteera:** $s$: soluzioa perturbatuta\n",
        "\n",
        "**Algoritmoa:**\n",
        ">1: Ausaz k zenbaki bat aukeratu 1 eta 2 artean\n",
        ">\n",
        ">2: **switch**(k)\n",
        ">\n",
        ">3: &nbsp;&nbsp;&nbsp;&nbsp;&nbsp;&nbsp; **case 1:** s ← Mugitu(G(V, E), s)\n",
        ">\n",
        ">4: &nbsp;&nbsp;&nbsp;&nbsp;&nbsp;&nbsp; **case 2:** s ← Banatu(G(V, E), γ, s)\n",
        ">\n",
        ">5: **end switch**\n",
        ">\n",
        ">6: **return** s\n",
        "\n",
        "### Kodea"
      ]
    },
    {
      "cell_type": "code",
      "execution_count": null,
      "metadata": {
        "id": "xYOQulQT4JFl"
      },
      "outputs": [],
      "source": [
        "def swapPositions(solution, i, j):\n",
        "    lag = solution[i]\n",
        "    solution[i], solution[j] = solution[j], lag\n",
        "    return solution\n",
        "\n",
        "def mugitu(G, best_partition, best_solution, beta = 0.3):\n",
        "    k = int(len(G.nodes())*beta) #perturbatuko diren nodo kopurua\n",
        "    \n",
        "    while k >= 0:\n",
        "        for node in G:\n",
        "            boundary= False\n",
        "            auzokideak = list(G[node].keys())\n",
        "            for a in auzokideak:\n",
        "                if best_partition[a] != best_partition[node]:\n",
        "                    boundary = True\n",
        "                    best_solution = swapPositions(best_solution, best_partition[a], best_partition[node])\n",
        "                    k -= 1\n",
        "                    if k <= 0:\n",
        "                        return best_solution\n",
        "                    break\n",
        "    return best_solution\n"
      ]
    },
    {
      "cell_type": "code",
      "execution_count": null,
      "metadata": {
        "id": "58eCbnLp4JFm"
      },
      "outputs": [],
      "source": [
        "def banatu(G, best_partition, best_solution, gamma, gamma_max=0.6):\n",
        "    k_max =  max(list(best_partition.values()))\n",
        "    assert(gamma <= gamma_max*k_max)\n",
        "    \n",
        "    komunitateak = rm.sample(list(np.unique(best_solution)), gamma)\n",
        "    lag = copy.deepcopy(best_solution)\n",
        "    inkr = 1\n",
        "    \n",
        "    for sol in best_solution:\n",
        "        if sol in komunitateak:\n",
        "            lag[sol] = k_max + inkr\n",
        "            inkr +=1\n",
        "    return lag\n",
        "    "
      ]
    },
    {
      "cell_type": "code",
      "execution_count": null,
      "metadata": {
        "id": "lPAcRLfF4JFo"
      },
      "outputs": [],
      "source": [
        "def pertubatu(G, best_solution, best_partition,gamma, gamma_max, beta):\n",
        "    k = rm.randint(1,2)\n",
        "    if k == 1:\n",
        "        solution = mugitu(G, best_partition, best_solution,beta)\n",
        "    else:\n",
        "        solution = banatu(G, best_partition, best_solution, gamma, gamma_max)\n",
        "    return solution"
      ]
    },
    {
      "cell_type": "markdown",
      "metadata": {
        "id": "sQ2d3Na34JFp"
      },
      "source": [
        "## Onartzeko irizpidea: Simulated Anneling\n",
        "\n",
        "Onarpen-irizpideari dagokionez muturreko bi estrategia plantea daitezke: soluzioa beti onartzea eta modu honetan dibertsifikazioa suspertu edo soilik uneko baino hobea denean onartu. Estrategi hauek ez dira oso egokiak, horregaitik soluzioak probabilitate batekin onartuko ditugu. Zehazki, *simulated anneling*-en onarpen irizpidea erabiliko dugu[1]. Honen bidez hasiera batean dibertsifikazio altua izango dugu hasierako tenperatua altua baita, gehiago esploratuz. Ondoren, joango gara esplotatzen tenperatura jaitsi ahala.\n",
        "\n",
        "*Simulated anneling*-ek iterazioan sortutako $s^*´$ soluzioa onartuko du bere modularitatea momentuko $s^*$-ko baino hobea baldin bada. Bestela, probabilitate batekin onartuko da: $ exp(\\frac{modularity(s^*´) − modularity(s^*)}{T})$ non, T tenperatura izeneko parametro bat den. Liu, C. et al [2] arabera, $T_{init}$ = 0.025 x modularity$(s^*)$ izango da modu horretan s* baino %2.5 okerrago den soluzio bat onartuko da 1/e probabilitaterekin. Tenperatura iterazio bakoitzean txikituz joango da *cool* parametro baten bidez. Erabaki da, berriz ere Liu, C. et al [2]  arabera, parametro honen balioa 0.9 izatea eta era geometriko batean tenperatura hoztea modu horretan.\n",
        "\n",
        "### Sasikodea\n",
        "**Sarrera:** uneko soluziorik onena s* eta iterazio horretan lortutako soluziorik onena $s^*´$\n",
        " \n",
        "**Irteera:** hurrengo iterazioko s*\n",
        "\n",
        "**Algoritmoa:**\n",
        "> 1: **if** Q($s^∗′) ≥ Q(^∗)$ **then**\n",
        ">\n",
        "> 2: &nbsp;&nbsp;&nbsp;&nbsp;&nbsp;&nbsp; $s^∗ ← s^∗′$\n",
        ">\n",
        "> 3: **else**\n",
        ">\n",
        ">4: &nbsp;&nbsp;&nbsp;&nbsp;&nbsp;&nbsp; p ← rand(0, 1)\n",
        ">\n",
        ">5: &nbsp;&nbsp;&nbsp;&nbsp;&nbsp;&nbsp; **if** p ≤ exp (modularity$(s^∗′)$ − modularity$(s^∗$)/T **do**\n",
        ">\n",
        ">6: &nbsp;&nbsp;&nbsp;&nbsp;&nbsp;&nbsp;&nbsp;&nbsp;&nbsp;&nbsp;&nbsp;&nbsp; $s^∗ ← s^∗′$\n",
        ">\n",
        ">7: &nbsp;&nbsp;&nbsp;&nbsp;&nbsp;&nbsp; **end if**\n",
        ">\n",
        ">8: **end if**\n",
        ">\n",
        ">9: T ← 0.9 × T\n",
        "\n",
        "### Kodea"
      ]
    },
    {
      "cell_type": "code",
      "execution_count": null,
      "metadata": {
        "id": "rd6VO4VV4JFq"
      },
      "outputs": [],
      "source": [
        "def hasieratu_tenperatu(tenp_degree, best_fitness):\n",
        "    return tenp_degree * best_fitness"
      ]
    },
    {
      "cell_type": "code",
      "execution_count": null,
      "metadata": {
        "id": "c19CtgKj4JFq"
      },
      "outputs": [],
      "source": [
        "def simulated_anneling(G, best_solution, best_partition, best_fitness, sol_lag, fit_lag, tenp_degree, cool, T, gamma, gamma_max):    \n",
        "    gamma_ = 1\n",
        "    \n",
        "    if fit_lag > best_fitness:\n",
        "        best_solution = sol_lag\n",
        "        best_fitness = fit_lag\n",
        "\n",
        "    else:\n",
        "        tenp_aldaketa = fit_lag - best_fitness\n",
        "        zbk = rm.uniform(0, 1)\n",
        "        if T != 0:\n",
        "            prob = np.exp((tenp_aldaketa/T))\n",
        "        else:\n",
        "            prob = 0\n",
        "\n",
        "        if zbk < prob: #onartuko dugu\n",
        "            best_solution = sol_lag\n",
        "            best_fitness = fit_lag\n",
        "        else: \n",
        "            gamma_ = gamma + 1\n",
        "            k_max =  max(list(best_partition.values()))\n",
        "            if gamma_ > gamma_max *k_max:\n",
        "                gamma_ -= 1\n",
        "  \n",
        "    T *= cool\n",
        "    gamma = gamma_\n",
        "    \n",
        "    return T, gamma, best_solution, best_fitness\n"
      ]
    },
    {
      "cell_type": "markdown",
      "metadata": {
        "id": "cEAb8Sza4JFs"
      },
      "source": [
        "## Optimoaren eguneraketa\n",
        "Onartze irizpidearen bidez iterazio horretan lortutako optimoa onartzea erabakitzen da probabilitate batekin. Hortaz, gerta daiteke lortutako soluzioa uneko optimoa baino hobea ez izatea baina onartze irizpideak onartu izatea *simulated anneling* bidez soluzio txarrak onartu daitezkeelako. Soluzio hori, ona nahiz txarra, hurrengo iterazion erabiliko da uneko optimo bezala baina soluzio guztietatik onena bezala ez da onartuko. Ez da itzultzen den $s_{best}$ izango, bakarrik erabilia izango da hurrengo iterazioan perturbatzeko eta *simulated annelingean* uneko soluzio optimo bezala. Hau kontrolatzeko hurrengoa egiten da:\n",
        "\n",
        ">  &nbsp;&nbsp;&nbsp;&nbsp;&nbsp;&nbsp; **if** $Q(s^*)$ > Q($s_{best}$) **then**\n",
        ">\n",
        ">  &nbsp;&nbsp;&nbsp;&nbsp;&nbsp;&nbsp;&nbsp;&nbsp;&nbsp;&nbsp;&nbsp;&nbsp;$s_{best} = s^* $  "
      ]
    },
    {
      "cell_type": "markdown",
      "metadata": {
        "id": "CPNmLSAA4JFt"
      },
      "source": [
        "## Iterated Local Search\n",
        "\n",
        "Aurretik aipatuta sasikode inplementatuko dugu orain.\n",
        "\n",
        "\n",
        "\n",
        "### Kodea\n"
      ]
    },
    {
      "cell_type": "code",
      "execution_count": null,
      "metadata": {
        "id": "hINXQuW04JFu"
      },
      "outputs": [],
      "source": [
        "def ILS(G, best_solution, k, max_evals, tenp_degree=0.00025, cool=0.9, gamma_max = 0.6, beta=0.3, show = True):  \n",
        "    best_partition = dict(zip(G.nodes, best_solution))\n",
        "    best_fitness,_,_ = modularitatea2OPT(G, best_partition, degree, m)\n",
        "    if show:\n",
        "        print(\"Hasierako modularitate:\" + str(best_fitness))\n",
        "    best_fitness_ = best_fitness\n",
        "    best_solution_ = best_solution\n",
        "    T = hasieratu_tenperatu(tenp_degree, best_fitness)\n",
        "    gamma = 1\n",
        "    while max_evals >= 0:\n",
        "        solution = pertubatu(G, best_solution, best_partition, gamma, gamma_max, beta)\n",
        "        solution, fitness, max_evals, denbora = local_search(G, k, solution, max_evals)\n",
        "        T, gamma, best_solution, best_fitness = simulated_anneling(G, best_solution, best_partition, best_fitness, solution, fitness, tenp_degree, cool, T, gamma, gamma_max)\n",
        "        if best_fitness > best_fitness_:\n",
        "            best_fitness_ = best_fitness\n",
        "            best_solution_ = best_solution\n",
        "    if show:\n",
        "        print(best_fitness)\n",
        "    return (best_fitness_, best_solution_, max_evals, denbora)"
      ]
    },
    {
      "cell_type": "markdown",
      "metadata": {
        "id": "cpqOHEMS4JFv"
      },
      "source": [
        "Probatuko dugu gure algoritmoa 10000 ebaluzio kopuru maximo izanda. Eta optimizatutako kodea erabilita."
      ]
    },
    {
      "cell_type": "code",
      "execution_count": null,
      "metadata": {
        "id": "g0bc-4144JFw"
      },
      "outputs": [],
      "source": [
        "k = 5\n",
        "start = time.time()\n",
        "partizioa = algoritmo_eraikitzailea(G,k, weight= 'weight')\n",
        "initial_sol = from_dict_to_list(G, partizioa)"
      ]
    },
    {
      "cell_type": "code",
      "execution_count": null,
      "metadata": {
        "id": "_WvuXpmN4JFx",
        "outputId": "e1768e51-ebed-4fe5-8fd0-b5182b291453"
      },
      "outputs": [
        {
          "name": "stdout",
          "output_type": "stream",
          "text": [
            "Hasierako modularitate:0.7188087963868589\n",
            "0.719521526612606\n",
            "Amaierako modularitatea aurre-prozesatutako grafoan: 0.719521526612606\n",
            "Amaierako modularitatea problemaren grafoaren gainean:  0.7114198511720555\n"
          ]
        }
      ],
      "source": [
        "best_fitness, best_solution, evals, denbora = ILS(G,initial_sol, k, 10000)\n",
        "print(\"Amaierako modularitatea aurre-prozesatutako grafoan: \" + str(best_fitness))\n",
        "best_partition = dict(zip(G.nodes, best_solution))\n",
        "best_partition1 = kanpokoak_sartu(best_partition, k)\n",
        "print(\"Amaierako modularitatea problemaren grafoaren gainean: \", modularitatea2OPT(G, best_partition1, degree, m)[0])"
      ]
    },
    {
      "cell_type": "markdown",
      "metadata": {
        "id": "Q8v5t1V34JFy"
      },
      "source": [
        "Jarraian, lortutako soluzioak irudikatuko daude partizio bakoitza kolore batez margotuta dagoelarik. Lehenengo grafoa aurre-prozesatutako grafoa da eta bigarrena sarreran sartutako grafoa."
      ]
    },
    {
      "cell_type": "code",
      "execution_count": null,
      "metadata": {
        "id": "zdKgSKin4JFz"
      },
      "outputs": [],
      "source": [
        "#partizioak_irudikatu(G , k , best_partition)"
      ]
    },
    {
      "cell_type": "code",
      "execution_count": null,
      "metadata": {
        "id": "tuEq5n834JFz"
      },
      "outputs": [],
      "source": [
        "#partizioak_irudikatu(G_ , k , best_partition1)"
      ]
    },
    {
      "cell_type": "markdown",
      "metadata": {
        "id": "IkNcWadE4JF0"
      },
      "source": [
        "Probatuko dugu gure algoritmoa 100000 ebaluzio kopuru maximo izanda.  Emaitza hauek optimizatuta lortzen dira"
      ]
    },
    {
      "cell_type": "code",
      "execution_count": null,
      "metadata": {
        "id": "DP_KsXok4JF1"
      },
      "outputs": [],
      "source": [
        "k = 5\n",
        "partizioa = algoritmo_eraikitzailea(G,k, weight= 'weight')\n",
        "initial_sol = from_dict_to_list(G, partizioa)\n",
        "best_fitness, best_solution, evals = ILS(G,initial_sol, k, 1000000)\n",
        "print(\"Amaierako modularitatea aurre-prozesatutako grafoan: \" + str(best_fitness))\n",
        "best_partition = dict(zip(G.nodes, best_solution))\n",
        "best_partition1 = kanpokoak_sartu(best_partition, k)\n",
        "print(\"Amaierako modularitatea problemaren grafoaren gainean: \", modularitatea2OPT(G, best_partition1, degree, m)[0])"
      ]
    },
    {
      "cell_type": "markdown",
      "metadata": {
        "id": "WTnH6BZ34JF2"
      },
      "source": [
        "Jarraian, lortutako soluzioak irudikatuko daude partizio bakoitza kolore batez margotuta dagoelarik. Lehenengo grafoa aurre-prozesatutako grafoa da eta bigarrena sarreran sartutako grafoa."
      ]
    },
    {
      "cell_type": "code",
      "execution_count": null,
      "metadata": {
        "id": "nlOLi49o4JF2"
      },
      "outputs": [],
      "source": [
        "#partizioak_irudikatu(G, k , best_partition)"
      ]
    },
    {
      "cell_type": "code",
      "execution_count": null,
      "metadata": {
        "id": "7mXJyvLd4JF3"
      },
      "outputs": [],
      "source": [
        "#partizioak_irudikatu(G_ , k , best_partition1)"
      ]
    },
    {
      "cell_type": "markdown",
      "metadata": {
        "id": "EhNpXbYp4JF4"
      },
      "source": [
        "Lortzen ditugun emaitzak Random Search-ekin lortu direnak baino hobeak dira beraz, algoritmo onargarria da. Hasierako soluzioa hobetu egiten da ebaluazio maximo kopurua handitu ahala. ILS aukeratu dugu beste algoritmoen gainetik aukera asko eskaitzen dizkigulako. Alde batetik, soluzio perturbatzeak optimo lokaletan ez ataskatzeko aukera ematen digu. Beste alde batetik, *simulated anneling* erabiliz onartze irizpide moduan esplotazioa eta esplotazioa kontrolatzeko aukera ematen digu.  \n",
        "\n",
        "Egia da, ILS algortimoa *simulated anneling* ez bezala algoritmo jale bat dela ez baitu ingurunetik bat ausaz hartzen baizik eta irizpide bat jarraitzen du. Honek garestitzen digu algoritmoa baina *best first* irizpidearen bidez lortzen dugu merketzea. Hala ere, soluzio optimora hurbiltzen denean ebaluazioa asko behar ditu. Nahiz eta alde txarrak izan parametro gutxi behar ditu eta horietako askorentzat balio on bat zein den aurkitu dugu Liu,c et al[2] esker."
      ]
    },
    {
      "cell_type": "markdown",
      "metadata": {
        "id": "Eyf52tdg4JF4"
      },
      "source": [
        "\n",
        "## Erreferentziak\n",
        "1. Calvo, B., Cebeiro, J., Mori, U., \"Bilaketa heuristikoak. Teoria eta Adbideak R Lengoaian\", Euskal Herriko Unibertsitatea Argitalpen Zerbitzua (2017)\n",
        "2. Liu, C., Kang, Q., Kong, H., Li, W., & Kang, Y,  \"An iterated local search algorithm for community detection in complex networks\", International Journal of Modern Physics B, 34(04), 2050013. (2020)"
      ]
    },
    {
      "cell_type": "markdown",
      "metadata": {
        "id": "yPtD44xK4JF6"
      },
      "source": [
        "# EDA\n",
        "Soluzio hobetzeko probekin jarraiuz EDA motako algoritmo bat inplementatu dugu, gure kasuan UMDA aldaera erabili dugu. EDA motako algoritmoak populazioetan oinarritzen dira, populazioko indibiduo bakoitza soluzio (partizio) posible bat izanik. Populazioan indibiduoak aldatzen joango dira, probabilitate matrizea erabiliz. Probabilitate matrizeak n soluzio onenen gen bakoitzaren balioaren probabilitatea jasotzen du; ondoren, probabilitate horiekin, soluzio berriak lagintzen dira. 6. irudian ikus daiteke nola funtzionatzen duen.\n",
        "![EDA.png](attachment:EDA.png)\n",
        "**6.irudia** UMDA aldaeraren funtzionamendua.  \n",
        "Zehazki gure UMDA algoritmoak ondorengoa egingo du:\n",
        "1. Populazioa hasieratu ausazko soluzio batzuk sortuz\n",
        "2. Aukeratu (tournament selection erabiliz) n soluzio populaziotik\n",
        "3. Aukeratutako soluzioekin probabilitate matrizea sortu \n",
        "4. Probabilitate bektorea erabiliz soluzio berriak lagindu\n",
        "5. Soluzio berriak mutatu probabilitate batekin\n",
        "6. Soluzio berriak populaziora sartu, populazioko indibiduo txarrenak (modularitate baxuena dutenak) ezabatuz.\n",
        "7. Gelditze irizpide betetzen bada amaitu eta soluzio hoberena itzuli, bestela 2 pausura bueltatu.\n",
        "\n",
        "\n",
        "\n",
        "## Tournament Selection\n",
        "\n",
        "Tournament Selection erabilitako aukeratze irizpidea da. Aukeraketa mota honetan, helburu-funtzioak emandako balioaren arabera ordenatzen dira soluzioak. Ordenatu ondoren, aukeratze probabilitate bat ematen zaio elementu bakoitzari. Horrela, lehenengoa aukeratzeko Pt probabilitatea egongo da, bigarrena aukeratzeko $(1-Pt)* Pt$, hirugarrena aukeratzeko $(1-Pt)^2 * Pt$ etab. Hau n aldiz egingo da, kontuan izanik behin soluzio bat aukera denean, ezingo dela berriro ere aukeratu. Modu honetara n elementu ezberdin aukeratu nahi dira probabilitate bektorea sortzeko.  "
      ]
    },
    {
      "cell_type": "markdown",
      "metadata": {
        "id": "tvwge-j-4JF7"
      },
      "source": [
        "![imagen.png](attachment:imagen.png)\n"
      ]
    },
    {
      "cell_type": "markdown",
      "metadata": {
        "id": "Si9id8xx4JF7"
      },
      "source": [
        "**7. irudia** Tournament Selection iripidea. [2]\n",
        "\n",
        "## Probabilitate Bektoreak\n",
        "\n",
        "Probabilitate bektore bat egongo da kluster bakoitzeko. Hauetako dimentsio bakoitzak nodo zehatz bat kluster horretan egoteko probabilitatea jasotzen ditu. Probabilitate hau kalkulatzeko aukeratutako soluzioen nodo bakoitzean dauden balioak aztertzen dira; berdinak diren balioak kontatuz eta kopuru osoarekin zatituz, probabilitateak lortzen dira. \n",
        "\n",
        "\n",
        "\n",
        "## Mutatu\n",
        "\n",
        "Nahiz eta EDA algoritmoek orokorrean ez dituzteten mutazioak erabiltzen gure algoritmoan erabiltzen dira. Hauekin, bilaketa espazioa esploratzeko ahalmena handitzen da. Mutazioa, soluzio berri bat sortzen denean Pm probabilitatearekin emango da. Ematen denean, ausaz gen bat aukeratu eta bere balioari ausazko balio berri bat emango zaio. \n",
        "\n",
        "## Gelditze Irizpidea\n",
        "\n",
        "Gure algoritmoak amaitzeko bi irizpide erabiltzen ditu: Alde batetik, iterazio kopuru maximo bat dugu: `iterkop`. Kopuru horretara iritsiz gero algoritmoa gelditu egingo da. Beste aldetik, `g` iterazioetan zehar gure emaitza hoberena ez bada aldatu ere amaitu egingo da ejekuzioa.\n",
        "\n",
        "\n",
        "## Sasikodea\n",
        "***Sarrera***\n",
        "\n",
        "G: Sarrera Grafoa\n",
        "\n",
        "k: Kluster kopurua\n",
        "\n",
        "Poplen: Populazioaren Tamaina\n",
        "\n",
        "Pmut: Mutatzeko probabilitatea\n",
        "\n",
        "g: Soluzioa hoberena berdin mantendu daitekeen iterazio kopuru maximoa\n",
        "\n",
        "iterkop: Iterazio kopuru maximoa\n",
        "\n",
        "***Irteera***\n",
        "Azken iterazioko populazioaren soluzio hoberena\n",
        "\n",
        "***Algoritmoa***\n",
        "> 1: populazioa = hasieratuPopulazioa(G,k,Poplen)\n",
        ">\n",
        "> 2: **while** **not** gelditzeBaldintza(g,iterkop) **do**\n",
        ">\n",
        "> 3: &nbsp;&nbsp;&nbsp;&nbsp;&nbsp;&nbsp; populazioaAuk = aukeratuPopulazioan(populazioa)\n",
        ">\n",
        "> 4: &nbsp;&nbsp;&nbsp;&nbsp;&nbsp;&nbsp; probabilitateBektorea = sortuProbabilitateBektorea(populazioaAuk)\n",
        ">\n",
        "> 5: &nbsp;&nbsp;&nbsp;&nbsp;&nbsp;&nbsp; soluzioBerriak = lagindu(probabilitateBektorea)\n",
        ">\n",
        "> 6: &nbsp;&nbsp;&nbsp;&nbsp;&nbsp;&nbsp; soluzioBerriak = mutatu(soluzioBerriak,Pmut)\n",
        ">\n",
        "> 7: &nbsp;&nbsp;&nbsp;&nbsp;&nbsp;&nbsp; populazioa = berriakSartu(populazioa,soluzioBerriak)\n",
        ">\n",
        "> 8: ***end while***\n",
        ">\n",
        "> 9: ***return*** populaziokoHoberena(populazioa)\n",
        "\n",
        "## Erreferentziak\n",
        "\n",
        "1. M. G. Parsa, N. Mozayani, A. Esmaeili, \"An EDA-based community detection in complex networks,\" 7'th International Symposium on Telecommunications (IST'2014), 2014, pp. 476-480\n",
        "2. Ceberio, J., \"5. Evolutionary Computation\", e-gela gardenkiak\n",
        "\n",
        "## Kodea"
      ]
    },
    {
      "cell_type": "code",
      "execution_count": null,
      "metadata": {
        "id": "TjAQ8XQ84JF8"
      },
      "outputs": [],
      "source": [
        "import cProfile\n",
        "\n",
        "def EDA(G,k,poplen,Pprob,Pmut,offSpring,g,iterkop,maxEvals):\n",
        "    populazioa = [hasieratuP(G,k) for i in range(poplen)]\n",
        "    iterazio = 0\n",
        "    hoberena = -1\n",
        "    ezAldatu = 0\n",
        "    AUKERAK = poplen//5\n",
        "    TOURNAMENT = poplen//2\n",
        "    modularitatea = [modularitatea2OPT(G,x,degree,m)[0] for x in populazioa]\n",
        "    evals = len(populazioa)\n",
        "    populazioa = sorted(populazioa, key=lambda x: modularitatea[populazioa.index(x)], reverse=True)\n",
        "    modularitatea = sorted(modularitatea, reverse=True)\n",
        "    probVec = probabilitateVecHasiera(G,k,populazioa)\n",
        "    while iterazio < iterkop and ezAldatu < g and evals < maxEvals:\n",
        "        popOpt = tournament(populazioa,AUKERAK,TOURNAMENT) \n",
        "        probVec = probabilitateVec(G,k,popOpt,probVec,Pprob)\n",
        "        '''\n",
        "        if iterazio % 10 == 0:\n",
        "            print(\"ITERAZIOA: \" + str(iterazio))\n",
        "            print(\"EGINDAKO EVALS KOPURUA:\" + str(evals))\n",
        "            print(\"POPULAZIOAREN BALIO HOBERENA: \"+ str(modularitatea2OPT(G,populazioa[0],degree,m)[0])) \n",
        "        '''\n",
        "        lagPop, lagMod = lagindu(G,k,probVec,offSpring,int(poplen-AUKERAK))\n",
        "        populazioa[AUKERAK:poplen] = lagPop\n",
        "        modularitatea[AUKERAK:poplen] = lagMod\n",
        "        evals += offSpring\n",
        "        for i in range(AUKERAK,poplen):\n",
        "            mutatu = rm.random()\n",
        "            if mutatu >= Pmut:\n",
        "                populazioa[i] = mutazioa(G,k,populazioa[i])\n",
        "                modularitatea[i] = modularitatea2OPT(G,populazioa[i],degree,m)[0]\n",
        "                evals += 1\n",
        "        iterazio += 1\n",
        "        hoberena = copy.deepcopy(populazioa[0])\n",
        "        populazioa = sorted(populazioa, key=lambda x: modularitatea[populazioa.index(x)], reverse=True)\n",
        "        modularitatea = sorted(modularitatea, reverse=True)\n",
        "        if hoberena == populazioa[0]:\n",
        "            ezAldatu+=1\n",
        "        else:\n",
        "            ezAldatu = 0\n",
        "    return populazioa[0]\n",
        "\n",
        "def probabilitateVec(G,k,popu, probZahar,Pprob):\n",
        "    dicHuts = {}\n",
        "    for node in G:\n",
        "        dicHuts[node]=0.0\n",
        "    probMat = [copy.deepcopy(dicHuts) for j in range(k)]\n",
        "    for i in range(len(popu)):\n",
        "        for node in G:\n",
        "            probMat[popu[i][node]][node] += 1.0/len(popu)\n",
        "    for i in range(len(probZahar)):\n",
        "        for node in G:\n",
        "            probMat[i][node] = (1.0-Pprob)*probZahar[i][node] + Pprob*probMat[i][node]\n",
        "    return probMat\n",
        "\n",
        "def mutazioa(G,k,partizio):\n",
        "    aukeratutakoa = rm.choice([node for node in G])\n",
        "    aldatu = rm.randrange(k)\n",
        "    partizio[aukeratutakoa] = aldatu\n",
        "    return partizio\n",
        "    \n",
        "def hasieratuP(G, k):\n",
        "    partizioaAusaz = {}\n",
        "    for node in G:\n",
        "        partizioaAusaz[node]=rm.randrange(k)\n",
        "    return partizioaAusaz\n",
        "\n",
        "def tournament(popu,luzera,auklen):\n",
        "    aukerak = rm.sample(range(len(popu)),auklen)\n",
        "    aukerak = sorted(aukerak, reverse=False)\n",
        "    aukerak = aukerak[0:luzera]\n",
        "    emaitza = [popu[i] for i in aukerak]\n",
        "    return emaitza\n",
        "\n",
        "def probabilitateVecHasiera(G,k,popu):\n",
        "    dicHuts = {}\n",
        "    for node in G:\n",
        "        dicHuts[node]=0.0\n",
        "    probMat = [copy.deepcopy(dicHuts) for j in range(k)]\n",
        "    for i in range(len(popu)):\n",
        "        for node in G:\n",
        "            probMat[popu[i][node]][node] += 1.0/len(popu)\n",
        "    return probMat\n",
        "\n",
        "def lagindu(G,k,probVec,offSpring,emaitzLuz):\n",
        "    dicHuts = {}\n",
        "    for node in G:\n",
        "        dicHuts[node]=0.0\n",
        "    bek = [copy.deepcopy(dicHuts) for i in range(offSpring)]\n",
        "    for i in range(offSpring):\n",
        "        for node in G:\n",
        "            aukera = rm.random()\n",
        "            zenbat = 0\n",
        "            for j in range(k):\n",
        "                zenbat+=probVec[j][node]\n",
        "                if zenbat >= aukera:\n",
        "                    bek[i][node] = j\n",
        "                    break\n",
        "    modularitatea2 = [modularitatea2OPT(G,x,degree,m)[0] for x in bek]\n",
        "    bek = sorted(bek, key=lambda x: modularitatea2[bek.index(x)], reverse=True)\n",
        "    modularitatea2 = sorted(modularitatea2, reverse=True)\n",
        "    return bek[0:emaitzLuz] , modularitatea2[0:emaitzLuz]\n",
        "\n",
        "\n",
        "\n",
        "#aukera = EDA(G,200,1000,1000) 0.011657931788842184\n",
        "#cProfile.run(\"EDA(G,5,200,0.8,0.95,200,100,1000,1000000)\")"
      ]
    },
    {
      "cell_type": "markdown",
      "metadata": {
        "id": "Wr13CWo64JF-"
      },
      "source": [
        "## Ondorioak\n",
        "Nahiz eta gure algoritmoak oinarri-lerroa baina hobeto funtzionatu ez ditu guk esperotako emaitzak eman. Hala ere, hurrengo fasean jarraituko dugu honekin probak egiten bere errendimendua hobetzeko ideiearekin."
      ]
    },
    {
      "cell_type": "markdown",
      "metadata": {
        "id": "TPtiPIzi4JF-"
      },
      "source": [
        "# Esperimentazioa\n",
        "Lehenik eta behin konbergentzia kurbak aztertuko dira grafo originalaren gainean ikusteko ea gure algoritmoen portaera egokia den:\n"
      ]
    },
    {
      "cell_type": "code",
      "execution_count": null,
      "metadata": {
        "scrolled": false,
        "id": "4x0qGGFA4Id4",
        "outputId": "05792590-8421-440b-f7df-7fe1c90b63b5"
      },
      "outputs": [
        {
          "name": "stdout",
          "output_type": "stream",
          "text": [
            "[-0.02724295584960219, -0.027233699612904172, -0.025705803475284915, -0.024081642476006294, -0.022466120630979143, -0.008367329433783646, -0.0066870139318703885, -0.00665276585608773, -0.006564831607456573, -0.005901159436208786, -0.00499528240469624, -0.004201405837229688, 0.0053433169045416645, 0.0053581268832584815, 0.005367383119956506, 0.008533633153124685, 0.008648410488180103, 0.008652112982859301, 0.009345096570317468, 0.010916188479194136, 0.011805404284650267, 0.011835024242083911, 0.011838109654316593, 0.013406116150960583, 0.02097926047605443, 0.02332047127820607, 0.029423416674431633, 0.03091428786525883, 0.034703174086980246, 0.035812071243402625, 0.03794625088474195, 0.04386067759355122, 0.04615714991832913, 0.04843819518194367, 0.04913241293429492, 0.049208931157665184, 0.0514618991699624, 0.053769478978777915, 0.05539703393151249, 0.05610297625034788, 0.0561659186598944, 0.05684224102129613, 0.057516712135358264, 0.05756484456618796, 0.05857068895403908, 0.059272311695748744, 0.061535153027190495, 0.0632265760131414, 0.06324940806366317, 0.06790838053499815, 0.06798613292326147, 0.08165327494910614, 0.08485593284661984, 0.08491794963249655, 0.0849700930992287, 0.08505339922951086, 0.09439849579982831, 0.095943053163504, 0.09751414507238067, 0.09779923716267958, 0.0995647100422146, 0.10121355433935461, 0.10281303204077187, 0.10450754043895541, 0.10524680520990368, 0.10848772221910252, 0.11168174096236477, 0.11318958192047165, 0.11321457375955629, 0.1140692329480065, 0.1140729354426857, 0.11410687497724507, 0.11491957255933094, 0.11574584595524054, 0.11731508661677761, 0.12045912168187053, 0.120485039144625, 0.12442202515351466, 0.12522700920501884, 0.1260103953708943, 0.12601409786557352, 0.1275833385271106, 0.12992053829335976, 0.13068016678504366, 0.13307784063105318, 0.13309295915099328, 0.13309604456322596, 0.13466405105986995, 0.1385572242150557, 0.1392378661535832, 0.15872748960370348, 0.1658217779502866, 0.1658310341869846, 0.16670513147250066, 0.16747339911843603, 0.18126580888092717, 0.18514046956271688, 0.18591552511556414, 0.18835855452139394, 0.1884542023006068, 0.1906960628288664, 0.19578205635320317, 0.1988927689661833, 0.19899335340496838, 0.20207506314296136, 0.20684017379510025, 0.2092292084868583, 0.21082714348215922, 0.2262292128064354, 0.22858862754075981, 0.23015601695495727, 0.23098846117533223, 0.230992780752458, 0.23177925233056612, 0.2317801779542359, 0.23184589723479182, 0.2334771546822056, 0.23426671167254642, 0.23434322989591672, 0.23435773133341026, 0.2357989273872914, 0.23665235241084856, 0.2382181991189297, 0.23912716156267488, 0.23915246194298279, 0.23915431319032243, 0.2423421611091193, 0.24394472422276922, 0.24394564984643904, 0.24472656768252835, 0.24475618763996201, 0.24716805438224182, 0.24718039603117253, 0.2502198356215779, 0.25611667548066097, 0.25613271962427087, 0.25692258515583494, 0.2577210898416505, 0.2593029806933415, 0.2600653860560348, 0.2608694444838692, 0.2640332261872512, 0.26640714235906915, 0.26885325717713165, 0.26904825523023657, 0.2690559687608183, 0.2693237825426142, 0.27093652751663194, 0.27425766524388023, 0.27427617771727625, 0.2774677281307524, 0.27750660432488405, 0.2782736378059263, 0.2790931232949241, 0.2828647312081425, 0.28289249991823656, 0.28598068902191814, 0.2895097835336486, 0.28951965685279313, 0.29111296372974504, 0.2936510238323412, 0.2936630569400486, 0.2961156511237997, 0.2961279927727304, 0.2968941006301029, 0.2969237205875365, 0.29694038181359295, 0.29851887871182803, 0.3000257940462651, 0.3000794802191136, 0.30161910092321703, 0.3016700102250562, 0.30402387121736174, 0.304055342422135, 0.3064064265434312, 0.30641660840379903, 0.3087649156540858, 0.31126039706787106, 0.31287067371210264, 0.31521990658605925, 0.3160119319061862, 0.316012857529856, 0.3167789653872285, 0.31909425872662567, 0.3191127712000217, 0.3270685066419669, 0.3309940766255957, 0.3309968534966051, 0.33177406883801525, 0.33330412476419735, 0.33331554078945824, 0.33408134010560747, 0.33488632415711167, 0.3364450744170576, 0.3372244495470307, 0.3387705496168226, 0.34184362020056414, 0.34337861278631854, 0.34338324090466754, 0.3456886609249201, 0.34636590890999175, 0.34642021216528673, 0.3573126429702893, 0.35732498461922, 0.36100094475322564, 0.361759956162463, 0.36333752743702824, 0.36337270113648074, 0.3633831915380718, 0.3641712058222963, 0.3641804620589943, 0.36496724217832566, 0.36580709138805906, 0.36587620462207093, 0.3658922487656808, 0.36589348293057394, 0.3674596381798783, 0.36826184536037304, 0.3682624624428196, 0.36903073008875503, 0.37140279501323337, 0.37224511255275283, 0.37306459804175063, 0.3738671137634686, 0.3746514255530139, 0.379353285254383, 0.379353285254383, 0.379353285254383, 0.379353285254383, 0.379353285254383, 0.379353285254383, 0.379353285254383, 0.379353285254383, 0.379353285254383, 0.379353285254383, 0.379353285254383, 0.379353285254383, 0.379353285254383, 0.379353285254383, 0.379353285254383, 0.379353285254383, 0.379353285254383, 0.379353285254383, 0.379353285254383, 0.379353285254383, 0.379353285254383]\n",
            "0.3753576764130725\n",
            "0.379353285254383\n",
            "0.379353285254383\n"
          ]
        },
        {
          "data": {
            "image/png": "[encoded data removed]",
            "text/plain": [
              "<Figure size 640x480 with 1 Axes>"
            ]
          },
          "metadata": {},
          "output_type": "display_data"
        }
      ],
      "source": [
        "#aukera = EDA(G,200,1000,1000) 0.011657931788842184\n",
        "#cProfile.run(\"EDA(G,5,200,0.8,0.95,200,100,1000,1000000)\")\n",
        "bek_emaitza_ils.clear()\n",
        "evals_ils.clear()\n",
        "grafoa, kanpokoak = sortzailea(300,G)\n",
        "partizioa = algoritmo_eraikitzailea(grafoa,k)\n",
        "initial_sol = from_dict_to_list(grafoa,partizioa)\n",
        "emaitza = EDA(grafoa,5,500,0.8,0.95,600,100,float('inf'),500000)\n",
        "fit = ILS(grafoa,initial_sol,5,500000,show= False)[0]\n",
        "print(bek_emaitza_ils)\n",
        "print(max(bek_emaitza))\n",
        "print(max(bek_emaitza_ils))\n",
        "print(fit)\n",
        "\n",
        "\n",
        "ax = plt.gca()\n",
        "dataframe1 = pd.DataFrame({'evalsEDA':bek_evals,'EmaitzaEDA':bek_emaitza,})\n",
        "dataframe2 = pd.DataFrame({'evalsILS':evals_ils,'EmaitzaILS':bek_emaitza_ils})\n",
        "dataframe1.plot(kind='line',x='evalsEDA',y='EmaitzaEDA',ax=ax)\n",
        "dataframe2.plot(kind='line',x='evalsILS',y='EmaitzaILS',ax=ax)\n",
        "plt.show()\n"
      ]
    },
    {
      "cell_type": "markdown",
      "source": [
        "Ikus daitekenez portaera zuzena dute biek, konbergitu egiten dute.\n",
        "\n",
        "## ILS nola funtzionatu max_evals handitu ahala"
      ],
      "metadata": {
        "id": "-J0LUA_B6Q5l"
      }
    },
    {
      "cell_type": "code",
      "execution_count": null,
      "metadata": {
        "id": "nOC-eYb44JF_"
      },
      "outputs": [],
      "source": [
        "list_rs = []\n",
        "list_ils = []\n",
        "list_rs_denb = []\n",
        "list_ils_denb = []\n",
        "list_budget = []\n",
        "repetitions = 10\n",
        "k = 5\n",
        "for e in range(1,6):\n",
        "    budget = 10**e\n",
        "    list_budget.append(budget)\n",
        "    avg_ils, avg_ils_denb, avg_rs, avg_rs_denb = 0, 0, 0, 0\n",
        "    for r in range(repetitions):\n",
        "        start_rs = time.time()\n",
        "        fit_rs, _, _ = random_search(G,k, budget)\n",
        "        rs_denb = time.time()-start_rs\n",
        "        \n",
        "        start_ils= time.time()\n",
        "        partizioa = algoritmo_eraikitzailea(G,k, weight= 'weight')\n",
        "        initial_sol = from_dict_to_list(G, partizioa)\n",
        "        fit_ils, _ , evals,_ = ILS(G,initial_sol, k, budget, show = False)\n",
        "        ils_denb = time.time()-start_ils\n",
        "        \n",
        "        avg_ils += fit_ils\n",
        "        avg_rs += fit_rs\n",
        "        avg_ils_denb += ils_denb\n",
        "        avg_rs_denb += rs_denb\n",
        "        \n",
        "    list_ils.append(avg_ils/repetitions)\n",
        "    list_rs.append(avg_rs/repetitions)\n",
        "    list_ils_denb.append(avg_ils_denb/repetitions)\n",
        "    list_rs_denb.append(avg_rs_denb/repetitions)\n",
        "\n",
        "\n",
        "datuak = pd.DataFrame({'evals':list_budget,'Random Search':list_rs, 'Random Search time':list_rs_denb, 'ILS': list_ils, 'ILS time': list_ils_denb})\n",
        "print(datuak)\n",
        "directory = \"./datuak_ils.csv\"\n",
        "if not os.path.exists(directory): # ez bada existitzen\n",
        "    createFile(directory)\n",
        "    datuak.to_csv('datuak.csv',sep=';',na_rep='Unkown', mode ='a') \n",
        "else:\n",
        "    datuak.to_csv('datuak.csv',sep=';',na_rep='Unkown', mode ='a', header = False)"
      ]
    },
    {
      "cell_type": "markdown",
      "metadata": {
        "id": "pD3CinMX4JGA"
      },
      "source": [
        "Konparatuko da ILS eta RS algoritmoetan zenbat tardatzen duen bakoitzak helburu funtzioa ebaluatzeko. Izan ere, bien ebaluazioak ez dira konparagarriak."
      ]
    },
    {
      "cell_type": "code",
      "execution_count": null,
      "metadata": {
        "id": "4aosas2z4EpO",
        "outputId": "899c0c5d-9cdc-4d5b-832f-a3bc7b289b81"
      },
      "outputs": [
        {
          "name": "stdout",
          "output_type": "stream",
          "text": [
            "33.80752754211426\n",
            "0.00010895729064941406\n"
          ]
        }
      ],
      "source": [
        "fit_rs, _, denbora1 = random_search(G,k, 10000)\n",
        "\n",
        "partizioa = algoritmo_eraikitzailea(G,k, weight= 'weight')\n",
        "fit_ils, _ , evals, denbora2 = ILS(G,initial_sol, k, 10000, show = False)\n",
        "print(denbora1)\n",
        "print(denbora2)"
      ]
    },
    {
      "cell_type": "markdown",
      "metadata": {
        "id": "E8zE9REj4JGC"
      },
      "source": [
        "Ikusiko da zenbat tardatzen duen ILSk 500000 ebaluaziekin."
      ]
    },
    {
      "cell_type": "code",
      "execution_count": null,
      "metadata": {
        "id": "mAUJ-m1S4JGD"
      },
      "outputs": [],
      "source": [
        "start_ils= time.time()\n",
        "partizioa = algoritmo_eraikitzailea(G,k, weight= 'weight')\n",
        "initial_sol = from_dict_to_list(G, partizioa)\n",
        "fit_ils, _ , evals,_ = ILS(G,initial_sol, k, 500000, show = False)\n",
        "ils_denb = time.time()-start_ils"
      ]
    },
    {
      "cell_type": "code",
      "execution_count": null,
      "metadata": {
        "id": "1EK4-z4t4JGF",
        "outputId": "9c91f2a0-b9f2-466b-9050-31029046027c"
      },
      "outputs": [
        {
          "name": "stdout",
          "output_type": "stream",
          "text": [
            "54.51162672042847\n"
          ]
        }
      ],
      "source": [
        "print(ils_denb)"
      ]
    },
    {
      "cell_type": "markdown",
      "metadata": {
        "id": "nvtnO-R74JGG"
      },
      "source": [
        "## Parameter tunning\n",
        "Bakoitzeko 5 errepikapen, 3 instantzia:50,100,200  eta 2 parametro. 500000 ebaluziao kopuru.\n",
        "### ILS"
      ]
    },
    {
      "cell_type": "code",
      "execution_count": null,
      "metadata": {
        "id": "tLGB0dKY4JGH",
        "outputId": "bb0b82a5-8e6a-4d4b-fea5-71fa7ef23b81"
      },
      "outputs": [
        {
          "name": "stdout",
          "output_type": "stream",
          "text": [
            "200-ko tamainarekin probatzen...\n"
          ]
        },
        {
          "name": "stderr",
          "output_type": "stream",
          "text": [
            "/tmp/ipykernel_4951/17982213.py:12: RuntimeWarning: overflow encountered in exp\n",
            "  prob = np.exp((tenp_aldaketa/T))\n"
          ]
        },
        {
          "name": "stdout",
          "output_type": "stream",
          "text": [
            "   Tamaina  Gamma  Beta  Erakitzailea       ILS   ILS time\n",
            "0      200    0.8   0.3      0.071922  0.215216  23.588919\n",
            "1      200    0.8   0.4      0.057418  0.209630  26.803507\n",
            "2      200    0.8   0.5      0.029401  0.194308  28.597606\n",
            "3      200    0.8   0.6      0.082614  0.207752  29.642599\n",
            "4      200    0.8   0.7      0.025378  0.229837  32.330727\n"
          ]
        }
      ],
      "source": [
        "list_tamaina = []\n",
        "list_ils = []\n",
        "list_ils_denb = []\n",
        "list_gamma = []\n",
        "list_beta = []\n",
        "list_eraiki = []\n",
        "\n",
        "list_gamma_max = [ 0.8]\n",
        "list_beta_kop = [0.3, 0.4, 0.5, 0.6, 0.7]\n",
        "list_instantziak = [200]\n",
        "repetitions = 5\n",
        "k = 5\n",
        "budget = 500000\n",
        "\n",
        "for tamaina in list_instantziak:\n",
        "    print(str(tamaina)+ \"-ko tamainarekin probatzen...\")\n",
        "    for gamma in list_gamma_max:\n",
        "        for beta in list_beta_kop:\n",
        "            grafoa, kanpokoak = sortzailea(tamaina, G)\n",
        "            avg_ils, avg_ils_denb, avg_eraiki = 0, 0, 0\n",
        "            for r in range(repetitions):\n",
        "                start_ils= time.time()\n",
        "                partizioa = algoritmo_eraikitzailea(grafoa,k, weight= 'weight')\n",
        "                fit_eraiki,_,_ = modularitatea2OPT(grafoa,partizioa, degree, m)\n",
        "                initial_sol = from_dict_to_list(grafoa, partizioa)\n",
        "                fit_ils, sol_ils , evals,_ = ILS(grafoa,initial_sol, k, budget, gamma, beta, show = False)\n",
        "                #kanpokoak sartu\n",
        "                best_partition = dict(zip(grafoa.nodes, sol_ils))\n",
        "                fit_ils,_,_ = modularitatea2OPT(grafoa, kanpokoak_sartu(best_partition, k,kanpokoak), degree, m)\n",
        "                ils_denb = time.time()-start_ils\n",
        "\n",
        "                avg_ils += fit_ils\n",
        "                avg_ils_denb += ils_denb\n",
        "                avg_eraiki += fit_eraiki\n",
        "\n",
        "            list_ils.append(avg_ils/repetitions)\n",
        "            list_ils_denb.append(avg_ils_denb/repetitions)\n",
        "            list_eraiki.append(avg_eraiki/repetitions)\n",
        "            list_tamaina.append(tamaina)\n",
        "            list_gamma.append(gamma)\n",
        "            list_beta.append(beta)\n",
        "    datuak = pd.DataFrame({'Tamaina':list_tamaina,'Gamma':list_gamma, 'Beta':list_beta, 'Erakitzailea':list_eraiki, 'ILS': list_ils, 'ILS time': list_ils_denb})\n",
        "    print(datuak)\n",
        "    directory = \"./datuak_ils_parameters_tunning.csv\"\n",
        "    if not os.path.exists(directory): # ez bada existitzen\n",
        "        createFile(directory)\n",
        "        datuak.to_csv(directory,sep=';',na_rep='Unkown', mode ='a') \n",
        "    else:\n",
        "        datuak.to_csv(directory,sep=';',na_rep='Unkown', mode ='a', header = False)\n"
      ]
    },
    {
      "cell_type": "code",
      "execution_count": null,
      "metadata": {
        "id": "5Ou1iVY94JGJ",
        "outputId": "c3994816-fcd7-4a71-83bf-96491991d056"
      },
      "outputs": [
        {
          "name": "stderr",
          "output_type": "stream",
          "text": [
            "/tmp/ipykernel_4951/1113624376.py:2: FutureWarning: In a future version of pandas all arguments of DataFrame.pivot will be keyword-only.\n",
            "  datuak = data.pivot(\"Gamma\", \"Beta\", \"ILS\")\n"
          ]
        },
        {
          "data": {
            "image/png": "[encoded data removed]",
            "text/plain": [
              "<Figure size 640x480 with 2 Axes>"
            ]
          },
          "metadata": {},
          "output_type": "display_data"
        }
      ],
      "source": [
        "data = pd.read_csv(\"./data/datuak_ils_parameters_tunning_50.csv\")\n",
        "datuak = data.pivot(\"Gamma\", \"Beta\", \"ILS\")\n",
        "datuak.sort_index(axis=0, ascending=False, inplace=True)\n",
        "ax = sns.heatmap(datuak, cmap=\"PiYG\")"
      ]
    },
    {
      "cell_type": "code",
      "execution_count": null,
      "metadata": {
        "id": "ih1IrrQy4JGK",
        "outputId": "38526535-0d41-49f1-9159-7dc65e4a73ce"
      },
      "outputs": [
        {
          "name": "stderr",
          "output_type": "stream",
          "text": [
            "/tmp/ipykernel_4951/1766814610.py:2: FutureWarning: In a future version of pandas all arguments of DataFrame.pivot will be keyword-only.\n",
            "  datuak = data.pivot(\"Gamma\", \"Beta\", \"ILS\")\n"
          ]
        },
        {
          "data": {
            "image/png": "[encoded data removed]",
            "text/plain": [
              "<Figure size 640x480 with 2 Axes>"
            ]
          },
          "metadata": {},
          "output_type": "display_data"
        }
      ],
      "source": [
        "data = pd.read_csv(\"./data/datuak_ils_parameters_tunning_100.csv\")\n",
        "datuak = data.pivot(\"Gamma\", \"Beta\", \"ILS\")\n",
        "datuak.sort_index(axis=0, ascending=False, inplace=True)\n",
        "ax = sns.heatmap(datuak, cmap=\"PiYG\")"
      ]
    },
    {
      "cell_type": "code",
      "execution_count": null,
      "metadata": {
        "id": "sqa2NCgw4JGV",
        "outputId": "52a0ec0f-11cb-4871-8dec-9f716918ecef"
      },
      "outputs": [
        {
          "name": "stderr",
          "output_type": "stream",
          "text": [
            "/tmp/ipykernel_4951/519884250.py:2: FutureWarning: In a future version of pandas all arguments of DataFrame.pivot will be keyword-only.\n",
            "  datuak = data.pivot(\"Gamma\", \"Beta\", \"ILS\")\n"
          ]
        },
        {
          "data": {
            "image/png": "[encoded data removed]",
            "text/plain": [
              "<Figure size 640x480 with 2 Axes>"
            ]
          },
          "metadata": {},
          "output_type": "display_data"
        }
      ],
      "source": [
        "data = pd.read_csv(\"./data/datuak_ils_parameters_tunning_200.csv\")\n",
        "datuak = data.pivot(\"Gamma\", \"Beta\", \"ILS\")\n",
        "datuak.sort_index(axis=0, ascending=False, inplace=True)\n",
        "ax = sns.heatmap(datuak, cmap=\"PiYG\")"
      ]
    },
    {
      "cell_type": "markdown",
      "source": [
        "### EDA"
      ],
      "metadata": {
        "id": "thkLoA4M4gin"
      }
    },
    {
      "cell_type": "code",
      "execution_count": null,
      "metadata": {
        "id": "xsPy_EzF4IeH",
        "outputId": "f26d1d91-b5fb-4343-fddb-076f077d295b"
      },
      "outputs": [
        {
          "name": "stdout",
          "output_type": "stream",
          "text": [
            "50-ko tamainarekin probatzen...\n",
            "100-ko tamainarekin probatzen...\n",
            "200-ko tamainarekin probatzen...\n",
            "50-ko tamainarekin probatzen...\n",
            "100-ko tamainarekin probatzen...\n",
            "200-ko tamainarekin probatzen...\n",
            "50-ko tamainarekin probatzen...\n",
            "100-ko tamainarekin probatzen...\n",
            "200-ko tamainarekin probatzen...\n",
            "50-ko tamainarekin probatzen...\n",
            "100-ko tamainarekin probatzen...\n",
            "200-ko tamainarekin probatzen...\n",
            "50-ko tamainarekin probatzen...\n",
            "100-ko tamainarekin probatzen...\n",
            "200-ko tamainarekin probatzen...\n",
            "50-ko tamainarekin probatzen...\n",
            "100-ko tamainarekin probatzen...\n",
            "200-ko tamainarekin probatzen...\n",
            "50-ko tamainarekin probatzen...\n",
            "100-ko tamainarekin probatzen...\n",
            "200-ko tamainarekin probatzen...\n",
            "50-ko tamainarekin probatzen...\n",
            "100-ko tamainarekin probatzen...\n",
            "200-ko tamainarekin probatzen...\n",
            "50-ko tamainarekin probatzen...\n",
            "100-ko tamainarekin probatzen...\n",
            "200-ko tamainarekin probatzen...\n"
          ]
        }
      ],
      "source": [
        "list_tamaina = []\n",
        "list_eda = []\n",
        "list_eda_denb = []\n",
        "list_offSpring = []\n",
        "list_populazioa = []\n",
        "list_eraiki = []\n",
        "\n",
        "list_offSpring_max = [0,100,200]\n",
        "list_populazio_kop = [200,400,500]\n",
        "list_instantziak = [50, 100, 200]\n",
        "repetitions = 5\n",
        "k = 5\n",
        "budget = 500000\n",
        "\n",
        "\n",
        "    \n",
        "for pop in list_populazio_kop:\n",
        "    for offS in list_offSpring_max:\n",
        "        for tamaina in list_instantziak:\n",
        "            print(str(tamaina)+ \"-ko tamainarekin probatzen...\")\n",
        "            grafoa, kanpokoak = sortzailea(tamaina, G)\n",
        "            avg_eda, avg_eda_denb, avg_eraiki = 0, 0, 0\n",
        "            for r in range(repetitions):\n",
        "                start_ils= time.time()\n",
        "                sol_eda = EDA(grafoa,5,pop,0.8,0.95,pop + offS,100,float('inf'),budget)\n",
        "                #kanpokoak sartu\n",
        "                fit_eda,_,_ = modularitatea2OPT(grafoa, kanpokoak_sartu(sol_eda, k,kanpokoak), degree, m)\n",
        "                eda_denb = time.time()-start_ils\n",
        "\n",
        "                avg_eda += fit_eda\n",
        "                avg_eda_denb += eda_denb\n",
        "\n",
        "            list_eda.append(avg_eda/repetitions)\n",
        "            list_eda_denb.append(avg_eda_denb/repetitions)\n",
        "            list_tamaina.append(tamaina)\n",
        "            list_offSpring.append(offS)\n",
        "            list_populazioa.append(pop)\n"
      ]
    },
    {
      "cell_type": "code",
      "execution_count": null,
      "metadata": {
        "id": "KMuU21rN4IeI",
        "outputId": "9080636d-7c48-4d9e-e742-ed7bdc591f2c"
      },
      "outputs": [
        {
          "name": "stdout",
          "output_type": "stream",
          "text": [
            "    Tamaina  offSpring  Populazioa       EDA   EDA time\n",
            "0        50          0         200  0.017943   1.918591\n",
            "1       100          0         200  0.070785   8.536229\n",
            "2       200          0         200  0.219761  59.708744\n",
            "3        50        100         200  0.022539   3.136498\n",
            "4       100        100         200  0.094833  12.505963\n",
            "5       200        100         200  0.200848  59.540553\n",
            "6        50        200         200  0.021746   4.570018\n",
            "7       100        200         200  0.061685  11.971150\n",
            "8       200        200         200  0.215408  87.350908\n",
            "9        50          0         400  0.020701   4.139061\n",
            "10      100          0         400  0.080024  15.696675\n",
            "11      200          0         400  0.197435  70.105692\n",
            "12       50        100         400  0.027700   4.981125\n",
            "13      100        100         400  0.059377  15.683723\n",
            "14      200        100         400  0.195931  85.274193\n",
            "15       50        200         400  0.017576   5.130884\n",
            "16      100        200         400  0.059892  16.876403\n",
            "17      200        200         400  0.198051  77.540392\n",
            "18       50          0         500  0.015326   5.160118\n",
            "19      100          0         500  0.075133  16.332789\n",
            "20      200          0         500  0.205345  79.520579\n",
            "21       50        100         500  0.044170   6.885757\n",
            "22      100        100         500  0.084189  22.657033\n",
            "23      200        100         500  0.219547  86.937410\n",
            "24       50        200         500  0.023807   7.093641\n",
            "25      100        200         500  0.058536  27.772700\n",
            "26      200        200         500  0.215029  75.318030\n"
          ]
        }
      ],
      "source": [
        "datuak = pd.DataFrame({'Tamaina':list_tamaina,'offSpring':list_offSpring, 'Populazioa':list_populazioa, 'EDA': list_eda, 'EDA time': list_eda_denb})\n",
        "print(datuak)\n",
        "directory = \"./datuak_eda_parameters_tunning.csv\"\n",
        "if not os.path.exists(directory): # ez bada existitzen\n",
        "    createFile(directory)\n",
        "    datuak.to_csv(directory,sep=';',na_rep='Unkown', mode ='a') \n",
        "else:\n",
        "    datuak.to_csv(directory,sep=';',na_rep='Unkown', mode ='a', header = False)"
      ]
    },
    {
      "cell_type": "code",
      "execution_count": null,
      "metadata": {
        "id": "mx3XD3Rh4IeP"
      },
      "outputs": [],
      "source": [
        "import itertools as IT\n",
        "import pandas as pd\n",
        "import seaborn as sns\n",
        "\n",
        "\n",
        "dataset = pd.read_csv(\"./data/datuak_eda_parameters_tunning.csv\")\n",
        "dataset50 = dataset.where(dataset['Tamaina']==50)\n",
        "dataset50 = dataset50.dropna()\n",
        "dataset100 = dataset.where(dataset['Tamaina']==100)\n",
        "dataset100 = dataset100.dropna()\n",
        "dataset200 = dataset.where(dataset['Tamaina']==200)\n",
        "dataset200 = dataset200.dropna()\n",
        "\n"
      ]
    },
    {
      "cell_type": "code",
      "execution_count": null,
      "metadata": {
        "id": "9AVM0MLP4IeT",
        "outputId": "39bedcf6-41bb-4f9a-de78-5a6dfd69666d"
      },
      "outputs": [
        {
          "data": {
            "image/png": "[encoded data removed]",
            "text/plain": [
              "<Figure size 432x288 with 2 Axes>"
            ]
          },
          "metadata": {
            "needs_background": "light"
          },
          "output_type": "display_data"
        }
      ],
      "source": [
        "datuak = dataset50.pivot(\"Populazioa\", \"offSpring\", \"EDA\")\n",
        "datuak.sort_index(axis=0, ascending=False, inplace=True)\n",
        "ax = sns.heatmap(datuak, cmap=\"PiYG\")"
      ]
    },
    {
      "cell_type": "code",
      "execution_count": null,
      "metadata": {
        "id": "vklipqDQ4IeW",
        "outputId": "39bee9ae-40aa-47a0-a0ad-ef8d1d48981f"
      },
      "outputs": [
        {
          "data": {
            "image/png": "[encoded data removed]",
            "text/plain": [
              "<Figure size 432x288 with 2 Axes>"
            ]
          },
          "metadata": {
            "needs_background": "light"
          },
          "output_type": "display_data"
        }
      ],
      "source": [
        "datuak = dataset100.pivot(\"Populazioa\", \"offSpring\", \"EDA\")\n",
        "datuak.sort_index(axis=0, ascending=False, inplace=True)\n",
        "ax = sns.heatmap(datuak, cmap=\"PiYG\")"
      ]
    },
    {
      "cell_type": "code",
      "execution_count": null,
      "metadata": {
        "id": "S6pzHp_M4IeX",
        "outputId": "22d9167f-b8ed-4867-9a07-c2d9d550a9f7"
      },
      "outputs": [
        {
          "data": {
            "image/png": "[encoded data removed]",
            "text/plain": [
              "<Figure size 432x288 with 2 Axes>"
            ]
          },
          "metadata": {
            "needs_background": "light"
          },
          "output_type": "display_data"
        }
      ],
      "source": [
        "datuak = dataset200.pivot(\"Populazioa\", \"offSpring\", \"EDA\")\n",
        "datuak.sort_index(axis=0, ascending=False, inplace=True)\n",
        "ax = sns.heatmap(datuak, cmap=\"PiYG\")"
      ]
    },
    {
      "cell_type": "markdown",
      "metadata": {
        "id": "gzX8-T8A4JGY"
      },
      "source": [
        "### ILS arrunta eta hibridoa konparatu"
      ]
    },
    {
      "cell_type": "code",
      "execution_count": null,
      "metadata": {
        "id": "bLEyth5q4JGY",
        "outputId": "f1282e4d-1331-440b-d601-f57ccb42a3e6"
      },
      "outputs": [
        {
          "name": "stdout",
          "output_type": "stream",
          "text": [
            "5 kluster eta 50-rekin probatzen...\n"
          ]
        },
        {
          "name": "stderr",
          "output_type": "stream",
          "text": [
            "/tmp/ipykernel_4951/17982213.py:12: RuntimeWarning: overflow encountered in exp\n",
            "  prob = np.exp((tenp_aldaketa/T))\n"
          ]
        },
        {
          "name": "stdout",
          "output_type": "stream",
          "text": [
            "    Tamaina  k  Eraikitzailea       ILS   ILS time  ILS originala  \\\n",
            "0        50  5       0.016714  0.035467   9.524642       0.036328   \n",
            "1        50  5       0.029791  0.035905   9.206747       0.035603   \n",
            "2        50  5       0.009836  0.035248   9.760947       0.036012   \n",
            "3        50  5       0.004463  0.035117  13.603209       0.036706   \n",
            "4        50  5       0.034475  0.036695  14.414323       0.034757   \n",
            "5        50  5       0.004499  0.036514  11.141644       0.035478   \n",
            "6        50  5       0.006801  0.034085  14.107998       0.035584   \n",
            "7        50  5       0.003637  0.035033  13.809108       0.034751   \n",
            "8        50  5       0.005251  0.035133   9.457347       0.034793   \n",
            "9        50  5       0.002719  0.035710  14.004720       0.036618   \n",
            "10       50  5       0.022084  0.035770  14.514186       0.034021   \n",
            "11       50  5       0.008380  0.034414   8.907329       0.034451   \n",
            "12       50  5       0.034450  0.036829  14.918487       0.035358   \n",
            "13       50  5       0.019106  0.035784  13.954170       0.035305   \n",
            "14       50  5       0.017486  0.035495  13.614430       0.035166   \n",
            "15       50  5       0.027367  0.035224  14.029198       0.034344   \n",
            "16       50  5       0.009120  0.035805  13.895678       0.033618   \n",
            "17       50  5       0.019093  0.035228  14.102353       0.035172   \n",
            "18       50  5       0.009074  0.035176  13.965683       0.036240   \n",
            "19       50  5       0.004469  0.035086  15.619379       0.036806   \n",
            "20       50  5       0.009079  0.035906  14.915419       0.035800   \n",
            "21       50  5       0.030650  0.035859  14.364825       0.035544   \n",
            "22       50  5       0.008310  0.036806  12.048191       0.037054   \n",
            "23       50  5       0.016767  0.036319  10.838849       0.036541   \n",
            "24       50  5       0.017634  0.036014  14.447181       0.034640   \n",
            "25       50  5       0.013110  0.035487  13.497704       0.036541   \n",
            "26       50  5       0.027322  0.036800  20.133184       0.034478   \n",
            "27       50  5       0.028274  0.036673  14.094677       0.034680   \n",
            "28       50  5       0.016755  0.035897  13.648072       0.035235   \n",
            "29       50  5       0.009801  0.035863  13.340080       0.035189   \n",
            "30       50  5       0.019103  0.035069  13.594123       0.036324   \n",
            "31       50  5       0.015975  0.035634  14.998806       0.035644   \n",
            "32       50  5       0.030524  0.036690  14.961381       0.035929   \n",
            "33       50  5       0.015216  0.036395  15.553205       0.036690   \n",
            "34       50  5       0.032902  0.036800  10.852374       0.035322   \n",
            "35       50  5       0.002938  0.036275  11.142835       0.036395   \n",
            "36       50  5       0.007610  0.036806  15.692457       0.035935   \n",
            "37       50  5       0.012277  0.035382  15.829523       0.035855   \n",
            "38       50  5       0.025736  0.034989  10.333618       0.036216   \n",
            "39       50  5       0.032777  0.036043  18.483868       0.021812   \n",
            "40       50  5       0.006083  0.036776  14.545603       0.035648   \n",
            "41       50  5       0.005281  0.036071   8.663875       0.033843   \n",
            "42       50  5       0.005220  0.034692  17.250391       0.035298   \n",
            "43       50  5       0.004482  0.034748  19.141619       0.034617   \n",
            "44       50  5       0.007651  0.036682  14.111533       0.033863   \n",
            "45       50  5       0.022969  0.034937   8.891565       0.035978   \n",
            "46       50  5       0.017047  0.036014   9.800109       0.035270   \n",
            "47       50  5       0.024311  0.035139  14.152498       0.036001   \n",
            "48       50  5       0.033684  0.036682   8.776041       0.034656   \n",
            "49       50  5       0.007533  0.034637   8.809248       0.035883   \n",
            "\n",
            "    ILS time originala  \n",
            "0             8.873747  \n",
            "1             8.626426  \n",
            "2             8.637986  \n",
            "3            12.389977  \n",
            "4             8.880435  \n",
            "5             9.150336  \n",
            "6            12.715524  \n",
            "7             9.590360  \n",
            "8            10.171490  \n",
            "9            14.697435  \n",
            "10           14.012343  \n",
            "11           12.954816  \n",
            "12            8.851784  \n",
            "13            9.723318  \n",
            "14           14.135018  \n",
            "15           14.059139  \n",
            "16           13.579469  \n",
            "17            7.935762  \n",
            "18           13.828322  \n",
            "19            8.981904  \n",
            "20           14.306229  \n",
            "21            8.834765  \n",
            "22           16.693255  \n",
            "23           14.001155  \n",
            "24           15.857501  \n",
            "25           13.762006  \n",
            "26           14.515873  \n",
            "27           14.680433  \n",
            "28           13.492266  \n",
            "29           13.856010  \n",
            "30           13.625660  \n",
            "31           13.952651  \n",
            "32            9.725467  \n",
            "33           15.148430  \n",
            "34           20.828495  \n",
            "35           10.634118  \n",
            "36           14.598814  \n",
            "37           16.254335  \n",
            "38           16.558280  \n",
            "39           16.157232  \n",
            "40            8.939626  \n",
            "41           19.843911  \n",
            "42           13.511556  \n",
            "43           10.353319  \n",
            "44           14.135232  \n",
            "45           14.441217  \n",
            "46           14.699702  \n",
            "47           14.339864  \n",
            "48           14.375366  \n",
            "49            8.565032  \n",
            "5 kluster eta 100-rekin probatzen...\n"
          ]
        },
        {
          "name": "stderr",
          "output_type": "stream",
          "text": [
            "/tmp/ipykernel_4951/17982213.py:12: RuntimeWarning: overflow encountered in exp\n",
            "  prob = np.exp((tenp_aldaketa/T))\n"
          ]
        },
        {
          "name": "stdout",
          "output_type": "stream",
          "text": [
            "    Tamaina  k  Eraikitzailea       ILS   ILS time  ILS originala  \\\n",
            "0       100  5       0.035239  0.066988  11.049409       0.065437   \n",
            "1       100  5       0.008191  0.068424  11.165251       0.068641   \n",
            "2       100  5       0.012871  0.066414  11.593079       0.066899   \n",
            "3       100  5       0.012959  0.067146  11.966073       0.065446   \n",
            "4       100  5      -0.000058  0.067623  12.106605       0.068399   \n",
            "5       100  5       0.034378  0.068528  12.576873       0.067423   \n",
            "6       100  5      -0.004735  0.068126  12.051876       0.064094   \n",
            "7       100  5       0.002914  0.067118  12.569633       0.066336   \n",
            "8       100  5       0.021916  0.068370  12.837183       0.067837   \n",
            "9       100  5       0.008746  0.068349  12.363616       0.066428   \n",
            "10      100  5      -0.005787  0.066528  12.773997       0.067101   \n",
            "11      100  5      -0.005291  0.068047  13.170053       0.064457   \n",
            "12      100  5      -0.003890  0.068317  13.371071       0.064452   \n",
            "13      100  5       0.037715  0.069112  12.583976       0.068427   \n",
            "14      100  5       0.005455  0.067756  12.489122       0.063663   \n",
            "15      100  5       0.032952  0.067577  12.814966       0.065143   \n",
            "16      100  5      -0.003620  0.067345  14.966328       0.066567   \n",
            "17      100  5       0.009368  0.067168  13.042955       0.068025   \n",
            "18      100  5       0.010025  0.068815  13.151459       0.067890   \n",
            "19      100  5       0.029830  0.066641  13.039210       0.068286   \n",
            "20      100  5       0.007946  0.068044  13.074755       0.065678   \n",
            "21      100  5       0.017404  0.067330  12.855932       0.068232   \n",
            "22      100  5       0.015578  0.066634  12.543611       0.064731   \n",
            "23      100  5       0.025941  0.066428  12.217407       0.065608   \n",
            "24      100  5       0.014717  0.068299  12.516991       0.066604   \n",
            "25      100  5       0.002279  0.067859  12.496640       0.067307   \n",
            "26      100  5       0.002942  0.068672  12.965027       0.068210   \n",
            "27      100  5       0.005276  0.066972  13.303739       0.068032   \n",
            "28      100  5       0.003743  0.068866  12.740831       0.064750   \n",
            "29      100  5       0.016336  0.069091  12.866305       0.067637   \n",
            "30      100  5       0.007811  0.067867  12.808756       0.065261   \n",
            "31      100  5      -0.000263  0.067231  12.528562       0.067336   \n",
            "32      100  5       0.004656  0.068286  12.484267       0.066225   \n",
            "33      100  5       0.002973  0.068520  12.458803       0.066246   \n",
            "34      100  5       0.025075  0.067668  12.435520       0.064846   \n",
            "35      100  5       0.003585  0.069039  12.238823       0.067306   \n",
            "36      100  5       0.009218  0.067207  13.539994       0.069054   \n",
            "37      100  5       0.015469  0.065403  15.843155       0.065317   \n",
            "38      100  5       0.014508  0.068721  13.228485       0.067751   \n",
            "39      100  5       0.000599  0.065677  16.659525       0.064531   \n",
            "40      100  5      -0.002929  0.068519  12.896890       0.063136   \n",
            "41      100  5       0.026660  0.067394  12.687391       0.067043   \n",
            "42      100  5       0.013849  0.067326  12.328150       0.067316   \n",
            "43      100  5       0.006178  0.067552  12.467890       0.067888   \n",
            "44      100  5       0.009234  0.068856  12.334256       0.067374   \n",
            "45      100  5       0.020879  0.068381  12.498162       0.063255   \n",
            "46      100  5       0.006178  0.067025  13.387336       0.066279   \n",
            "47      100  5       0.005228  0.067890  12.117096       0.062868   \n",
            "48      100  5       0.034459  0.069119  12.464670       0.065033   \n",
            "49      100  5       0.004601  0.068920  12.097375       0.067320   \n",
            "\n",
            "    ILS time originala  \n",
            "0            10.893120  \n",
            "1            10.806653  \n",
            "2            11.980165  \n",
            "3            11.505796  \n",
            "4            11.983630  \n",
            "5            12.368701  \n",
            "6            12.275538  \n",
            "7            12.243313  \n",
            "8            12.477540  \n",
            "9            12.397074  \n",
            "10           12.481136  \n",
            "11           12.311894  \n",
            "12           12.886437  \n",
            "13           13.049296  \n",
            "14           12.461034  \n",
            "15           12.595266  \n",
            "16           13.134565  \n",
            "17           12.909062  \n",
            "18           12.599416  \n",
            "19           12.553712  \n",
            "20           12.728973  \n",
            "21           12.570405  \n",
            "22           12.110188  \n",
            "23           12.353954  \n",
            "24           12.507926  \n",
            "25           12.745783  \n",
            "26           12.616414  \n",
            "27           13.336172  \n",
            "28           14.168520  \n",
            "29           12.540874  \n",
            "30           13.350195  \n",
            "31           12.371696  \n",
            "32           12.683154  \n",
            "33           12.787932  \n",
            "34           12.331219  \n",
            "35           12.403771  \n",
            "36           13.528665  \n",
            "37           12.912571  \n",
            "38           13.393137  \n",
            "39           14.022271  \n",
            "40           13.236896  \n",
            "41           12.639150  \n",
            "42           13.330082  \n",
            "43           13.323806  \n",
            "44           12.663061  \n",
            "45           12.416370  \n",
            "46           12.665897  \n",
            "47           13.134291  \n",
            "48           12.634286  \n",
            "49           12.059152  \n",
            "5 kluster eta 200-rekin probatzen...\n"
          ]
        },
        {
          "name": "stderr",
          "output_type": "stream",
          "text": [
            "/tmp/ipykernel_4951/17982213.py:12: RuntimeWarning: overflow encountered in exp\n",
            "  prob = np.exp((tenp_aldaketa/T))\n"
          ]
        },
        {
          "name": "stdout",
          "output_type": "stream",
          "text": [
            "    Tamaina  k  Eraikitzailea       ILS   ILS time  ILS originala  \\\n",
            "0       200  5       0.152375  0.225380  20.652079       0.214391   \n",
            "1       200  5       0.069012  0.223154  20.550166       0.211744   \n",
            "2       200  5       0.025942  0.210438  20.616071       0.211574   \n",
            "3       200  5       0.128691  0.222841  20.591091       0.213119   \n",
            "4       200  5       0.131147  0.227285  21.275819       0.199193   \n",
            "5       200  5       0.097762  0.220114  21.591918       0.222037   \n",
            "6       200  5       0.101620  0.228074  21.162154       0.216583   \n",
            "7       200  5       0.024969  0.213065  20.745746       0.206237   \n",
            "8       200  5       0.088768  0.220223  21.790244       0.214459   \n",
            "9       200  5       0.142215  0.227650  20.841559       0.215361   \n",
            "10      200  5      -0.017907  0.205223  22.113429       0.220889   \n",
            "11      200  5       0.074097  0.221735  22.253387       0.215593   \n",
            "12      200  5      -0.017140  0.217762  21.824779       0.214565   \n",
            "13      200  5      -0.026473  0.217493  20.168561       0.214984   \n",
            "14      200  5       0.093414  0.218120  19.401463       0.219022   \n",
            "15      200  5       0.157520  0.225749  19.433571       0.213411   \n",
            "16      200  5      -0.004463  0.217107  19.156984       0.218456   \n",
            "17      200  5       0.105780  0.218202  21.263437       0.215755   \n",
            "18      200  5       0.058856  0.213289  22.269484       0.217969   \n",
            "19      200  5       0.098451  0.224776  21.017060       0.212135   \n",
            "20      200  5       0.120907  0.224679  22.203090       0.221405   \n",
            "21      200  5       0.127446  0.224749  20.897207       0.215997   \n",
            "22      200  5       0.102437  0.222806  20.600611       0.208672   \n",
            "23      200  5       0.047442  0.219095  20.640455       0.218128   \n",
            "24      200  5       0.097675  0.218900  20.010342       0.216889   \n",
            "25      200  5       0.119894  0.228047  20.040083       0.215515   \n",
            "26      200  5       0.087142  0.220994  19.463975       0.216488   \n",
            "27      200  5       0.144184  0.225633  19.648218       0.208223   \n",
            "28      200  5       0.069190  0.221137  19.409616       0.211134   \n",
            "29      200  5       0.022227  0.214345  19.304746       0.200981   \n",
            "30      200  5       0.125150  0.225313  19.565561       0.211197   \n",
            "31      200  5       0.103226  0.223091  19.885113       0.216762   \n",
            "32      200  5       0.053655  0.215541  22.118284       0.209516   \n",
            "33      200  5       0.082925  0.213426  19.530167       0.217168   \n",
            "34      200  5      -0.004507  0.215156  19.430782       0.220241   \n",
            "35      200  5       0.032443  0.211643  27.175259       0.206824   \n",
            "36      200  5      -0.008365  0.216426  20.166930       0.215842   \n",
            "37      200  5       0.081041  0.222586  19.585431       0.213290   \n",
            "38      200  5       0.011186  0.208848  19.831895       0.217734   \n",
            "39      200  5      -0.020336  0.219976  19.738369       0.216689   \n",
            "40      200  5       0.067483  0.226939  19.875835       0.214710   \n",
            "41      200  5       0.051695  0.225686  19.779003       0.209147   \n",
            "42      200  5       0.082760  0.227178  19.844296       0.214190   \n",
            "43      200  5       0.064874  0.219563  19.983472       0.207218   \n",
            "44      200  5       0.150432  0.229242  19.916413       0.212437   \n",
            "45      200  5       0.115195  0.221658  19.864638       0.211008   \n",
            "46      200  5       0.086904  0.219738  19.627313       0.217525   \n",
            "47      200  5       0.112841  0.224703  19.688622       0.210048   \n",
            "48      200  5       0.055965  0.220252  19.428505       0.215475   \n",
            "49      200  5       0.069674  0.222358  19.538682       0.210130   \n",
            "\n",
            "    ILS time originala  \n",
            "0            18.999116  \n",
            "1            20.286150  \n",
            "2            20.602545  \n",
            "3            20.552327  \n",
            "4            20.349595  \n",
            "5            20.605518  \n",
            "6            21.888774  \n",
            "7            20.952553  \n",
            "8            20.388586  \n",
            "9            24.531245  \n",
            "10           20.434269  \n",
            "11           22.405264  \n",
            "12           20.908830  \n",
            "13           21.489378  \n",
            "14           19.219014  \n",
            "15           19.040676  \n",
            "16           19.053016  \n",
            "17           20.331271  \n",
            "18           21.055959  \n",
            "19           22.076269  \n",
            "20           20.428046  \n",
            "21           22.341992  \n",
            "22           20.272735  \n",
            "23           20.422059  \n",
            "24           22.098160  \n",
            "25           19.531783  \n",
            "26           19.372515  \n",
            "27           19.403433  \n",
            "28           19.494391  \n",
            "29           19.383157  \n",
            "30           19.490679  \n",
            "31           19.527832  \n",
            "32           19.956718  \n",
            "33           21.416370  \n",
            "34           19.684418  \n",
            "35           23.805119  \n",
            "36           21.252792  \n",
            "37           19.853831  \n",
            "38           19.573040  \n",
            "39           19.780223  \n",
            "40           19.946232  \n",
            "41           19.710634  \n",
            "42           19.769850  \n",
            "43           19.489871  \n",
            "44           19.995289  \n",
            "45           19.812083  \n",
            "46           19.701202  \n",
            "47           19.614680  \n",
            "48           19.561808  \n",
            "49           19.614743  \n"
          ]
        }
      ],
      "source": [
        "list_ils_orig = []\n",
        "list_ils = []\n",
        "list_ils_orig_denb = []\n",
        "list_ils_denb = []\n",
        "list_eraiki = []\n",
        "list_k = []\n",
        "list_t = []\n",
        "k_list = [5]\n",
        "list_instantziak = [50, 100, 200]\n",
        "repetitions = 50\n",
        "budget = 500000\n",
        "\n",
        "for tamaina in list_instantziak:\n",
        "    for k in k_list:\n",
        "        print(str(k)+\" kluster eta \"+str(tamaina)+\"-rekin probatzen...\")\n",
        "        avg_ils, avg_ils_denb, avg_ils_orig, avg_ils_orig_denb, avg_eraiki = 0, 0, 0, 0, 0\n",
        "        grafoa, kanpokoak = sortzailea(tamaina, G)\n",
        "        for r in range(repetitions):\n",
        "            start_ils_orig = time.time()\n",
        "            size = len(grafoa)\n",
        "            initial_sol = [rm.randint(0,k) for i in range(size)]\n",
        "            fit_ils_orig, sol_ils_orig , evals,_ = ILS(grafoa, initial_sol, k, budget, show = False)\n",
        "            best_partition = dict(zip(grafoa.nodes, sol_ils_orig))\n",
        "            fit_ils_orig,_,_ = modularitatea2OPT(grafoa, kanpokoak_sartu(best_partition, k, kanpokoak), degree, m)\n",
        "            ils_orig_denb = time.time()-start_ils_orig\n",
        "\n",
        "            start_ils= time.time()\n",
        "            partizioa = algoritmo_eraikitzailea(grafoa,k, weight= 'weight')\n",
        "            fit_eraiki, _,_ = modularitatea2OPT(grafoa,partizioa, degree, m)\n",
        "            initial_sol = from_dict_to_list(grafoa, partizioa)\n",
        "            fit_ils, sol_ils , evals,_ = ILS(grafoa,initial_sol, k, budget, show = False)\n",
        "            best_partition = dict(zip(grafoa.nodes, sol_ils))\n",
        "            fit_ils,_,_ = modularitatea2OPT(grafoa, kanpokoak_sartu(best_partition, k, kanpokoak), degree, m)\n",
        "            ils_denb = time.time()-start_ils\n",
        "\n",
        "            list_ils.append(fit_ils)\n",
        "            list_ils_orig.append(fit_ils_orig)\n",
        "            list_ils_denb.append(ils_denb)\n",
        "            list_ils_orig_denb.append(ils_orig_denb)\n",
        "            list_eraiki.append(fit_eraiki)\n",
        "            list_k.append(k)\n",
        "            list_t.append(tamaina)\n",
        "        \n",
        "    datuak = pd.DataFrame({'Tamaina':list_t, 'k': list_k, 'Eraikitzailea':list_eraiki, 'ILS': list_ils, 'ILS time': list_ils_denb, 'ILS originala': list_ils_orig, 'ILS time originala': list_ils_orig_denb})\n",
        "    print(datuak)\n",
        "    directory = \"./data/datuak_ils_originala_hibridoa.csv\"\n",
        "    if not os.path.exists(directory): # ez bada existitzen\n",
        "        createFile(directory)\n",
        "        datuak.to_csv(directory,sep=';',na_rep='Unkown', mode ='a') \n",
        "    else:\n",
        "        datuak.to_csv(directory,sep=';',na_rep='Unkown', mode ='a', header = False)\n",
        "    list_ils_orig = []\n",
        "    list_ils = []\n",
        "    list_ils_orig_denb = []\n",
        "    list_ils_denb = []\n",
        "    list_eraiki = []\n",
        "    list_k = []\n",
        "    list_t = []"
      ]
    },
    {
      "cell_type": "markdown",
      "metadata": {
        "id": "xqmSN0JV4JGc"
      },
      "source": [
        "### Bi algoritmoak konparatzea\n",
        "Zehazki EDA eta ILS konparatuko dira, baita lortuko da ILS arruntaren emaitzak."
      ]
    },
    {
      "cell_type": "code",
      "execution_count": null,
      "metadata": {
        "id": "1WvKVwUL4JGe",
        "outputId": "a828cca7-850b-4a04-c01c-554545ef105c"
      },
      "outputs": [
        {
          "name": "stdout",
          "output_type": "stream",
          "text": [
            "200-rekin probatzen...\n",
            "0. exekuzioa\n"
          ]
        },
        {
          "name": "stderr",
          "output_type": "stream",
          "text": [
            "/tmp/ipykernel_4755/17982213.py:12: RuntimeWarning: overflow encountered in exp\n",
            "  prob = np.exp((tenp_aldaketa/T))\n"
          ]
        },
        {
          "name": "stdout",
          "output_type": "stream",
          "text": [
            "1. exekuzioa\n",
            "2. exekuzioa\n",
            "3. exekuzioa\n",
            "4. exekuzioa\n",
            "5. exekuzioa\n",
            "6. exekuzioa\n",
            "7. exekuzioa\n",
            "8. exekuzioa\n",
            "9. exekuzioa\n",
            "10. exekuzioa\n",
            "11. exekuzioa\n",
            "12. exekuzioa\n",
            "13. exekuzioa\n",
            "14. exekuzioa\n",
            "15. exekuzioa\n",
            "16. exekuzioa\n",
            "17. exekuzioa\n",
            "18. exekuzioa\n",
            "19. exekuzioa\n",
            "20. exekuzioa\n",
            "21. exekuzioa\n",
            "22. exekuzioa\n",
            "23. exekuzioa\n",
            "24. exekuzioa\n",
            "25. exekuzioa\n",
            "26. exekuzioa\n",
            "27. exekuzioa\n",
            "28. exekuzioa\n",
            "29. exekuzioa\n",
            "30. exekuzioa\n",
            "31. exekuzioa\n",
            "32. exekuzioa\n",
            "33. exekuzioa\n",
            "34. exekuzioa\n",
            "35. exekuzioa\n",
            "36. exekuzioa\n",
            "37. exekuzioa\n",
            "38. exekuzioa\n",
            "39. exekuzioa\n",
            "40. exekuzioa\n",
            "41. exekuzioa\n",
            "42. exekuzioa\n",
            "43. exekuzioa\n",
            "44. exekuzioa\n",
            "45. exekuzioa\n",
            "46. exekuzioa\n",
            "47. exekuzioa\n",
            "48. exekuzioa\n",
            "49. exekuzioa\n",
            "    Tamaina  Eraikitzailea       ILS   ILS time  ILS arrunta  \\\n",
            "0       200       0.133834  0.199979  19.219084     0.186653   \n",
            "1       200       0.009625  0.200820  20.310923     0.199369   \n",
            "2       200       0.043203  0.209089  20.577863     0.199302   \n",
            "3       200      -0.005749  0.208848  20.325559     0.201249   \n",
            "4       200       0.067151  0.217936  20.456966     0.211542   \n",
            "5       200       0.016845  0.185068  19.907948     0.187428   \n",
            "6       200       0.011112  0.209297  21.088305     0.209152   \n",
            "7       200       0.035540  0.198062  20.130744     0.194220   \n",
            "8       200       0.021598  0.196845  20.087310     0.192346   \n",
            "9       200       0.035264  0.207879  20.003349     0.212636   \n",
            "10      200       0.072595  0.217232  20.442883     0.205543   \n",
            "11      200       0.131669  0.226015  20.348127     0.213801   \n",
            "12      200       0.014170  0.213414  20.487812     0.211265   \n",
            "13      200       0.027116  0.205453  19.932535     0.187395   \n",
            "14      200      -0.002783  0.205094  20.296990     0.197412   \n",
            "15      200       0.042077  0.188497  19.864753     0.194945   \n",
            "16      200       0.073891  0.176107  19.597348     0.176726   \n",
            "17      200       0.073151  0.213277  20.148269     0.219097   \n",
            "18      200       0.112183  0.226108  20.685942     0.217683   \n",
            "19      200      -0.017845  0.210137  21.128570     0.206456   \n",
            "20      200       0.000105  0.200991  20.230650     0.193917   \n",
            "21      200       0.047789  0.188953  19.919727     0.184744   \n",
            "22      200       0.080352  0.199808  20.966194     0.190234   \n",
            "23      200       0.003566  0.213306  19.893207     0.210880   \n",
            "24      200      -0.022717  0.194774  19.959789     0.195063   \n",
            "25      200       0.138305  0.211696  21.076736     0.207510   \n",
            "26      200       0.102639  0.218102  20.442595     0.232556   \n",
            "27      200      -0.004639  0.201145  19.980620     0.201543   \n",
            "28      200       0.017672  0.213476  20.138212     0.207844   \n",
            "29      200       0.012562  0.205803  21.275978     0.202900   \n",
            "30      200       0.209019  0.235713  20.833251     0.225937   \n",
            "31      200      -0.003386  0.214612  20.633165     0.209455   \n",
            "32      200       0.026153  0.199055  20.159620     0.195905   \n",
            "33      200      -0.017462  0.198422  20.284874     0.207297   \n",
            "34      200       0.025620  0.226105  20.307005     0.221836   \n",
            "35      200       0.025409  0.211404  20.819163     0.228067   \n",
            "36      200       0.059895  0.205733  20.743271     0.192424   \n",
            "37      200       0.114605  0.211555  20.569355     0.199294   \n",
            "38      200       0.102504  0.200840  20.468081     0.202988   \n",
            "39      200       0.036509  0.229113  20.563812     0.224635   \n",
            "40      200       0.011642  0.207361  20.805771     0.201243   \n",
            "41      200       0.062330  0.224667  20.377479     0.224006   \n",
            "42      200       0.141905  0.219124  20.559203     0.213991   \n",
            "43      200      -0.028061  0.220657  20.771286     0.219962   \n",
            "44      200      -0.021001  0.193582  20.228598     0.192010   \n",
            "45      200       0.140828  0.189137  20.964456     0.191531   \n",
            "46      200       0.008050  0.202995  21.157138     0.196140   \n",
            "47      200       0.083546  0.197722  20.469383     0.188963   \n",
            "48      200       0.051027  0.219130  20.571663     0.220976   \n",
            "49      200      -0.014735  0.220795  20.273384     0.217549   \n",
            "\n",
            "    ILS arrunta time       EDA    EDA time  \n",
            "0          19.642764  0.189897  246.592273  \n",
            "1          20.372661  0.202573  133.026026  \n",
            "2          20.604768  0.211167  197.685927  \n",
            "3          20.250370  0.208610  111.514218  \n",
            "4          20.466830  0.229855  199.828830  \n",
            "5          19.953181  0.193520  222.604714  \n",
            "6          20.756226  0.215380  229.092474  \n",
            "7          20.504292  0.197028  133.178944  \n",
            "8          19.940756  0.195047  161.406184  \n",
            "9          20.023422  0.215792  185.040395  \n",
            "10         20.315556  0.205783  148.349821  \n",
            "11         20.169212  0.219481  180.117984  \n",
            "12         20.487216  0.210366  165.661731  \n",
            "13         19.749380  0.204475  169.985342  \n",
            "14         20.298423  0.209286  115.720655  \n",
            "15         19.865451  0.195627  142.395707  \n",
            "16         20.160445  0.175924  217.165775  \n",
            "17         20.099261  0.215133  106.673207  \n",
            "18         20.384910  0.218196  126.592031  \n",
            "19         20.653605  0.206075  237.421870  \n",
            "20         20.301186  0.210631  226.572936  \n",
            "21         19.851527  0.195297  186.278098  \n",
            "22         20.712963  0.197698  189.126551  \n",
            "23         19.842926  0.221079  223.590480  \n",
            "24         20.083467  0.194956  121.223573  \n",
            "25         20.652562  0.205062  117.568791  \n",
            "26         20.296238  0.231116  112.376810  \n",
            "27         19.795238  0.206001  200.730945  \n",
            "28         19.842780  0.215840  108.961833  \n",
            "29         20.916253  0.212139  213.965281  \n",
            "30         20.474985  0.224812  156.287312  \n",
            "31         20.792719  0.215464  178.316900  \n",
            "32         20.196806  0.198322  176.045047  \n",
            "33         20.339511  0.210183  212.880549  \n",
            "34         20.128511  0.227603  157.445927  \n",
            "35         20.442615  0.232174  135.994272  \n",
            "36         21.470036  0.196455  178.423318  \n",
            "37         20.614348  0.208285  164.324786  \n",
            "38         20.369148  0.198766  182.433206  \n",
            "39         20.552105  0.222077  141.420160  \n",
            "40         21.067107  0.210386  164.303602  \n",
            "41         20.376621  0.224688  166.517673  \n",
            "42         20.311389  0.217582  110.109924  \n",
            "43         20.867038  0.222509  189.607081  \n",
            "44         20.257330  0.198677  177.811977  \n",
            "45         20.233145  0.197821  109.117931  \n",
            "46         20.908357  0.199587  225.055236  \n",
            "47         20.286107  0.197291  169.637404  \n",
            "48         20.184699  0.223240  159.978801  \n",
            "49         20.596857  0.222619  160.201728  \n",
            "300-rekin probatzen...\n",
            "0. exekuzioa\n",
            "1. exekuzioa\n",
            "2. exekuzioa\n",
            "3. exekuzioa\n",
            "4. exekuzioa\n",
            "5. exekuzioa\n",
            "6. exekuzioa\n",
            "7. exekuzioa\n",
            "8. exekuzioa\n"
          ]
        },
        {
          "name": "stderr",
          "output_type": "stream",
          "text": [
            "/tmp/ipykernel_4755/17982213.py:12: RuntimeWarning: overflow encountered in exp\n",
            "  prob = np.exp((tenp_aldaketa/T))\n"
          ]
        },
        {
          "name": "stdout",
          "output_type": "stream",
          "text": [
            "9. exekuzioa\n",
            "10. exekuzioa\n",
            "11. exekuzioa\n",
            "12. exekuzioa\n",
            "13. exekuzioa\n",
            "14. exekuzioa\n",
            "15. exekuzioa\n",
            "16. exekuzioa\n",
            "17. exekuzioa\n",
            "18. exekuzioa\n",
            "19. exekuzioa\n",
            "20. exekuzioa\n",
            "21. exekuzioa\n",
            "22. exekuzioa\n",
            "23. exekuzioa\n",
            "24. exekuzioa\n",
            "25. exekuzioa\n",
            "26. exekuzioa\n",
            "27. exekuzioa\n",
            "28. exekuzioa\n",
            "29. exekuzioa\n",
            "30. exekuzioa\n",
            "31. exekuzioa\n",
            "32. exekuzioa\n",
            "33. exekuzioa\n",
            "34. exekuzioa\n",
            "35. exekuzioa\n",
            "36. exekuzioa\n",
            "37. exekuzioa\n",
            "38. exekuzioa\n",
            "39. exekuzioa\n",
            "40. exekuzioa\n",
            "41. exekuzioa\n",
            "42. exekuzioa\n",
            "43. exekuzioa\n",
            "44. exekuzioa\n",
            "45. exekuzioa\n",
            "46. exekuzioa\n",
            "47. exekuzioa\n",
            "48. exekuzioa\n",
            "49. exekuzioa\n",
            "    Tamaina  Eraikitzailea       ILS   ILS time  ILS arrunta  \\\n",
            "0       300       0.355820  0.395432  27.292788     0.370799   \n",
            "1       300       0.332420  0.406269  27.437226     0.393980   \n",
            "2       300       0.181979  0.367038  25.410861     0.354995   \n",
            "3       300       0.052722  0.361032  25.532106     0.349449   \n",
            "4       300       0.089870  0.373124  25.810811     0.372250   \n",
            "5       300       0.291447  0.360700  26.535079     0.364590   \n",
            "6       300       0.243154  0.378664  26.345523     0.363894   \n",
            "7       300       0.048460  0.375731  26.031874     0.363128   \n",
            "8       300      -0.029629  0.379596  25.740462     0.380289   \n",
            "9       300       0.005231  0.350447  26.165364     0.359791   \n",
            "10      300       0.162018  0.377545  26.446086     0.364564   \n",
            "11      300       0.014762  0.369556  25.754205     0.362062   \n",
            "12      300       0.315745  0.367725  26.781558     0.373136   \n",
            "13      300       0.041342  0.370311  26.512123     0.373994   \n",
            "14      300       0.015777  0.357940  26.207168     0.339038   \n",
            "15      300       0.399285  0.408232  27.993944     0.350199   \n",
            "16      300       0.146872  0.360198  26.172718     0.338924   \n",
            "17      300       0.214880  0.364768  26.285948     0.345689   \n",
            "18      300       0.298182  0.393482  27.460914     0.359327   \n",
            "19      300       0.054211  0.390033  26.919894     0.358631   \n",
            "20      300       0.347294  0.399602  27.267905     0.376155   \n",
            "21      300       0.285877  0.328817  27.554240     0.350708   \n",
            "22      300       0.306753  0.341324  26.973966     0.349087   \n",
            "23      300       0.347335  0.378484  28.066483     0.371849   \n",
            "24      300       0.015652  0.355201  26.311071     0.353154   \n",
            "25      300       0.267443  0.308651  27.253162     0.335407   \n",
            "26      300       0.023142  0.383462  26.669929     0.375887   \n",
            "27      300       0.005569  0.366100  25.556869     0.370970   \n",
            "28      300       0.340777  0.385553  26.593833     0.349765   \n",
            "29      300      -0.001853  0.363577  26.069361     0.338206   \n",
            "30      300       0.274742  0.319613  27.260593     0.349753   \n",
            "31      300       0.091257  0.364584  25.871673     0.346802   \n",
            "32      300      -0.032466  0.356849  26.083897     0.344157   \n",
            "33      300       0.351549  0.402889  27.288247     0.373568   \n",
            "34      300       0.267545  0.369327  27.465516     0.349218   \n",
            "35      300       0.325741  0.390012  27.210693     0.353421   \n",
            "36      300       0.272442  0.379961  28.352852     0.360495   \n",
            "37      300       0.310508  0.400523  27.470807     0.364475   \n",
            "38      300      -0.014507  0.352004  26.270718     0.362144   \n",
            "39      300       0.372964  0.399448  27.707984     0.368371   \n",
            "40      300      -0.017091  0.362769  26.221042     0.346588   \n",
            "41      300       0.058486  0.372573  26.695614     0.364829   \n",
            "42      300       0.187675  0.382050  27.290259     0.362119   \n",
            "43      300       0.245441  0.397288  27.404178     0.376182   \n",
            "44      300       0.252492  0.395900  27.238899     0.371103   \n",
            "45      300       0.145137  0.378936  26.687696     0.377101   \n",
            "46      300       0.283905  0.372443  27.360837     0.368025   \n",
            "47      300      -0.024751  0.366893  26.027831     0.380325   \n",
            "48      300       0.154003  0.382829  26.753745     0.366281   \n",
            "49      300      -0.019814  0.377584  26.159778     0.365291   \n",
            "\n",
            "    ILS arrunta time       EDA    EDA time  \n",
            "0          26.067017  0.380717  378.066548  \n",
            "1          26.014444  0.400775  502.425527  \n",
            "2          24.662846  0.360263  267.094201  \n",
            "3          25.341697  0.370693  365.773908  \n",
            "4          25.456122  0.373194  383.063919  \n",
            "5          25.348706  0.356003  491.435309  \n",
            "6          25.675138  0.374021  287.857843  \n",
            "7          26.014697  0.371078  454.971580  \n",
            "8          25.783949  0.380071  380.362154  \n",
            "9          25.641589  0.363826  319.530679  \n",
            "10         26.246844  0.373460  329.001925  \n",
            "11         25.205425  0.362989  309.745818  \n",
            "12         25.266551  0.366780  397.291032  \n",
            "13         26.125122  0.380020  383.798793  \n",
            "14         26.327482  0.359598  330.436356  \n",
            "15         26.316430  0.382040  509.174962  \n",
            "16         25.854033  0.349287  311.730735  \n",
            "17         25.899598  0.363196  325.794109  \n",
            "18         26.757275  0.379710  251.831398  \n",
            "19         26.513379  0.382507  571.458196  \n",
            "20         26.059615  0.366622  499.208556  \n",
            "21         25.870808  0.352131  414.441807  \n",
            "22         25.554192  0.345609  504.537916  \n",
            "23         26.524125  0.364158  364.234687  \n",
            "24         26.160017  0.353452  379.457574  \n",
            "25         25.740917  0.339910  504.700722  \n",
            "26         27.021773  0.375183  380.518633  \n",
            "27         25.560509  0.380136  262.529179  \n",
            "28         25.337587  0.355193  273.237429  \n",
            "29         25.951940  0.352589  645.970443  \n",
            "30         25.856468  0.367266  353.944227  \n",
            "31         25.673208  0.363526  418.029818  \n",
            "32         26.285383  0.351875  467.899830  \n",
            "33         26.006735  0.385389  344.567501  \n",
            "34         26.271719  0.353163  590.695706  \n",
            "35         26.211149  0.354546  403.297665  \n",
            "36         26.863067  0.365033  323.917096  \n",
            "37         26.372208  0.379472  377.562392  \n",
            "38         26.252884  0.360837  217.930843  \n",
            "39         27.117095  0.368804  426.889546  \n",
            "40         26.611144  0.359023  414.283804  \n",
            "41         26.481182  0.377247  356.747741  \n",
            "42         26.371885  0.369167  387.863709  \n",
            "43         26.244352  0.377093  835.541374  \n",
            "44         26.312171  0.375472  533.550981  \n",
            "45         26.164109  0.374509  392.154098  \n",
            "46         26.466115  0.362209  593.067065  \n",
            "47         25.933748  0.390401  657.108698  \n",
            "48         26.413442  0.367795  350.286901  \n",
            "49         26.003218  0.376755  373.586067  \n"
          ]
        }
      ],
      "source": [
        "list_eda = []\n",
        "list_ils = []\n",
        "list_orig = []\n",
        "list_eda_denb = []\n",
        "list_ils_denb = []\n",
        "list_orig_denb = []\n",
        "list_eraiki = []\n",
        "list_k = []\n",
        "list_t = []\n",
        "list_instantziak = [50,100,200,300]\n",
        "repetitions = 200#300\n",
        "budget = 500000\n",
        "\n",
        "for tamaina in list_instantziak:\n",
        "    print(str(tamaina)+\"-rekin probatzen...\")\n",
        "    for r in range(repetitions):\n",
        "        print(str(r) +\". exekuzioa\")\n",
        "        grafoa, kanpokoak = sortzailea(tamaina, G)\n",
        "        start_eda= time.time()\n",
        "        sol_eda = EDA(grafoa, 5, 500, 0.8, 0.95, 600,100, float('inf'),budget)\n",
        "        fit_eda, _, _ = modularitatea2OPT(grafoa, kanpokoak_sartu(sol_eda, k, kanpokoak), degree, m)\n",
        "        eda_time = time.time()-start_eda\n",
        "        \n",
        "        start_ils= time.time()\n",
        "        partizioa = algoritmo_eraikitzailea(grafoa,k, weight= 'weight')\n",
        "        fit_eraiki, _,_ = modularitatea2OPT(grafoa,partizioa, degree, m)\n",
        "        initial_sol = from_dict_to_list(grafoa, partizioa)\n",
        "        fit_ils, sol_ils , evals,_ = ILS(grafoa,initial_sol, k, budget, show = False)\n",
        "        best_partition = dict(zip(grafoa.nodes, sol_ils))\n",
        "        fit_ils,_,_ = modularitatea2OPT(grafoa, kanpokoak_sartu(best_partition, k, kanpokoak), degree, m)\n",
        "        ils_denb = time.time()-start_ils\n",
        "        \n",
        "        start_ils_orig = time.time()\n",
        "        size = len(grafoa)\n",
        "        initial_sol = [rm.randint(0,k) for i in range(size)]\n",
        "        fit_ils_orig, sol_ils_orig , evals,_ = ILS(grafoa, initial_sol, k, budget, show = False)\n",
        "        best_partition = dict(zip(grafoa.nodes, sol_ils_orig))\n",
        "        fit_ils_orig,_,_ = modularitatea2OPT(grafoa, kanpokoak_sartu(best_partition, k, kanpokoak), degree, m)\n",
        "        ils_orig_denb = time.time()-start_ils_orig\n",
        "\n",
        "        list_ils.append(fit_ils)\n",
        "        list_eda.append(fit_eda)\n",
        "        list_ils_denb.append(ils_denb)\n",
        "        list_eda_denb.append(eda_time)\n",
        "        list_eraiki.append(fit_eraiki)\n",
        "        list_t.append(tamaina)\n",
        "        list_orig.append(fit_ils_orig)\n",
        "        list_orig_denb.append(ils_orig_denb)\n",
        "        \n",
        "    datuak = pd.DataFrame({'Tamaina':list_t,'Eraikitzailea':list_eraiki, 'ILS': list_ils, 'ILS time': list_ils_denb, 'ILS arrunta': list_orig, 'ILS arrunta time': list_orig_denb, 'EDA': list_eda, 'EDA time': list_eda_denb})\n",
        "    print(datuak)\n",
        "    directory = \"./data/edaVSils_\"+str(tamaina)+\".csv\"\n",
        "    if not os.path.exists(directory): # ez bada existitzen\n",
        "        createFile(directory)\n",
        "        datuak.to_csv(directory,sep=';',na_rep='Unkown', mode ='a') \n",
        "    else:\n",
        "        datuak.to_csv(directory,sep=';',na_rep='Unkown', mode ='a', header = False)\n",
        "    list_eda = []\n",
        "    list_ils = []\n",
        "    list_orig = []\n",
        "    list_eda_denb = []\n",
        "    list_ils_denb = []\n",
        "    list_orig_denb = []\n",
        "    list_eraiki = []\n",
        "    list_k = []\n",
        "    list_t = []"
      ]
    },
    {
      "cell_type": "code",
      "execution_count": null,
      "metadata": {
        "id": "ePTEkqPl4JGh",
        "outputId": "d9120c2b-5659-4750-b1f9-d4ccc5476915"
      },
      "outputs": [
        {
          "name": "stdout",
          "output_type": "stream",
          "text": [
            "    Tamaina  Eraikitzailea       ILS   ILS time  ILS arrunta  \\\n",
            "0       300       0.079406  0.371627  33.099638     0.373582   \n",
            "1       300       0.103345  0.386142  27.439779     0.375463   \n",
            "2       300       0.024471  0.357585  27.759552     0.360547   \n",
            "3       300      -0.006039  0.364095  27.425652     0.359183   \n",
            "4       300      -0.003638  0.362508  26.937267     0.366389   \n",
            "..      ...            ...       ...        ...          ...   \n",
            "88      300       0.218537  0.349990  27.157967     0.334668   \n",
            "89      300       0.263559  0.345608  31.554842     0.374212   \n",
            "90      300       0.199329  0.377555  34.024931     0.372316   \n",
            "91      300       0.256405  0.384483  27.640563     0.366795   \n",
            "92      300      -0.025781  0.357311  36.520023     0.356445   \n",
            "\n",
            "    ILS arrunta time       EDA    EDA time  \n",
            "0          30.010298  0.375403  646.230646  \n",
            "1          27.356561  0.382968  527.127055  \n",
            "2          27.661147  0.371675  367.902440  \n",
            "3          27.777086  0.371606  405.696308  \n",
            "4          27.124596  0.376279  354.878977  \n",
            "..               ...       ...         ...  \n",
            "88         26.017262  0.350443  353.800564  \n",
            "89         28.775381  0.382921  516.794295  \n",
            "90         34.675286  0.384884  669.106715  \n",
            "91         28.257849  0.363824  462.252956  \n",
            "92         34.589742  0.367416  691.679527  \n",
            "\n",
            "[93 rows x 8 columns]\n"
          ]
        }
      ],
      "source": [
        "datuak = pd.DataFrame({'Tamaina':list_t,'Eraikitzailea':list_eraiki, 'ILS': list_ils, 'ILS time': list_ils_denb, 'ILS arrunta': list_orig, 'ILS arrunta time': list_orig_denb, 'EDA': list_eda, 'EDA time': list_eda_denb})\n",
        "print(datuak)\n",
        "directory = \"./data/edaVSils_\"+str(tamaina)+\".csv\"\n",
        "if not os.path.exists(directory): # ez bada existitzen\n",
        "    createFile(directory)\n",
        "    datuak.to_csv(directory,sep=';',na_rep='Unkown', mode ='a') \n",
        "else:\n",
        "    datuak.to_csv(directory,sep=';',na_rep='Unkown', mode ='a', header = False)"
      ]
    },
    {
      "cell_type": "markdown",
      "source": [
        "Ikusiko da grafo originalearen gainean nolako emaitzak lortzen diren."
      ],
      "metadata": {
        "id": "34mhkZ2s5WfD"
      }
    },
    {
      "cell_type": "code",
      "execution_count": null,
      "metadata": {
        "id": "YihnKOFC4JGm",
        "outputId": "2c3c8e99-4820-426f-c06e-e4b6f4143727"
      },
      "outputs": [
        {
          "name": "stdout",
          "output_type": "stream",
          "text": [
            "531\n",
            "ITERAZIOA: 0\n",
            "EGINDAKO EVALS KOPURUA:500\n",
            "POPULAZIOAREN BALIO HOBERENA: 0.03691325486924334\n",
            "ITERAZIOA: 10\n",
            "EGINDAKO EVALS KOPURUA:6707\n",
            "POPULAZIOAREN BALIO HOBERENA: 0.05741057395455434\n",
            "ITERAZIOA: 20\n",
            "EGINDAKO EVALS KOPURUA:12904\n",
            "POPULAZIOAREN BALIO HOBERENA: 0.0722279576607392\n",
            "ITERAZIOA: 30\n",
            "EGINDAKO EVALS KOPURUA:19101\n",
            "POPULAZIOAREN BALIO HOBERENA: 0.15097693407523097\n",
            "ITERAZIOA: 40\n",
            "EGINDAKO EVALS KOPURUA:25303\n",
            "POPULAZIOAREN BALIO HOBERENA: 0.2603446158630916\n",
            "ITERAZIOA: 50\n",
            "EGINDAKO EVALS KOPURUA:31487\n",
            "POPULAZIOAREN BALIO HOBERENA: 0.38325849151727615\n",
            "ITERAZIOA: 60\n",
            "EGINDAKO EVALS KOPURUA:37671\n",
            "POPULAZIOAREN BALIO HOBERENA: 0.48496015807183956\n",
            "ITERAZIOA: 70\n",
            "EGINDAKO EVALS KOPURUA:43871\n",
            "POPULAZIOAREN BALIO HOBERENA: 0.5768678005762315\n",
            "ITERAZIOA: 80\n",
            "EGINDAKO EVALS KOPURUA:50071\n",
            "POPULAZIOAREN BALIO HOBERENA: 0.6307585362557535\n",
            "ITERAZIOA: 90\n",
            "EGINDAKO EVALS KOPURUA:56276\n",
            "POPULAZIOAREN BALIO HOBERENA: 0.6697550614644971\n",
            "ITERAZIOA: 100\n",
            "EGINDAKO EVALS KOPURUA:62485\n",
            "POPULAZIOAREN BALIO HOBERENA: 0.6818162464232359\n",
            "ITERAZIOA: 110\n",
            "EGINDAKO EVALS KOPURUA:68676\n",
            "POPULAZIOAREN BALIO HOBERENA: 0.6877979351187173\n",
            "ITERAZIOA: 120\n",
            "EGINDAKO EVALS KOPURUA:74882\n",
            "POPULAZIOAREN BALIO HOBERENA: 0.6893468120595188\n",
            "ITERAZIOA: 130\n",
            "EGINDAKO EVALS KOPURUA:81074\n",
            "POPULAZIOAREN BALIO HOBERENA: 0.6933115667785026\n",
            "ITERAZIOA: 140\n",
            "EGINDAKO EVALS KOPURUA:87244\n",
            "POPULAZIOAREN BALIO HOBERENA: 0.6933115667785026\n",
            "ITERAZIOA: 150\n",
            "EGINDAKO EVALS KOPURUA:93450\n",
            "POPULAZIOAREN BALIO HOBERENA: 0.6933115667785026\n",
            "ITERAZIOA: 160\n",
            "EGINDAKO EVALS KOPURUA:99641\n",
            "POPULAZIOAREN BALIO HOBERENA: 0.6933365586175873\n",
            "ITERAZIOA: 170\n",
            "EGINDAKO EVALS KOPURUA:105843\n",
            "POPULAZIOAREN BALIO HOBERENA: 0.6941637576371666\n",
            "ITERAZIOA: 180\n",
            "EGINDAKO EVALS KOPURUA:112057\n",
            "POPULAZIOAREN BALIO HOBERENA: 0.6949638050290985\n",
            "ITERAZIOA: 190\n",
            "EGINDAKO EVALS KOPURUA:118250\n",
            "POPULAZIOAREN BALIO HOBERENA: 0.6949835516673877\n",
            "ITERAZIOA: 200\n",
            "EGINDAKO EVALS KOPURUA:124443\n",
            "POPULAZIOAREN BALIO HOBERENA: 0.6981917633069201\n",
            "ITERAZIOA: 210\n",
            "EGINDAKO EVALS KOPURUA:130641\n",
            "POPULAZIOAREN BALIO HOBERENA: 0.6982392786553033\n",
            "ITERAZIOA: 220\n",
            "EGINDAKO EVALS KOPURUA:136851\n",
            "POPULAZIOAREN BALIO HOBERENA: 0.6989751494727956\n",
            "ITERAZIOA: 230\n",
            "EGINDAKO EVALS KOPURUA:143055\n",
            "POPULAZIOAREN BALIO HOBERENA: 0.6989751494727956\n",
            "ITERAZIOA: 240\n",
            "EGINDAKO EVALS KOPURUA:149251\n",
            "POPULAZIOAREN BALIO HOBERENA: 0.6989751494727956\n",
            "ITERAZIOA: 250\n",
            "EGINDAKO EVALS KOPURUA:155450\n",
            "POPULAZIOAREN BALIO HOBERENA: 0.6990269843983046\n",
            "ITERAZIOA: 260\n",
            "EGINDAKO EVALS KOPURUA:161657\n",
            "POPULAZIOAREN BALIO HOBERENA: 0.6990837559833858\n",
            "ITERAZIOA: 270\n",
            "EGINDAKO EVALS KOPURUA:167845\n",
            "POPULAZIOAREN BALIO HOBERENA: 0.6990837559833858\n",
            "ITERAZIOA: 280\n",
            "EGINDAKO EVALS KOPURUA:174058\n",
            "POPULAZIOAREN BALIO HOBERENA: 0.699180020845045\n",
            "ITERAZIOA: 290\n",
            "EGINDAKO EVALS KOPURUA:180252\n",
            "POPULAZIOAREN BALIO HOBERENA: 0.699180020845045\n",
            "ITERAZIOA: 300\n",
            "EGINDAKO EVALS KOPURUA:186448\n",
            "POPULAZIOAREN BALIO HOBERENA: 0.699180020845045\n",
            "ITERAZIOA: 310\n",
            "EGINDAKO EVALS KOPURUA:192636\n",
            "POPULAZIOAREN BALIO HOBERENA: 0.6999482884909805\n",
            "ITERAZIOA: 320\n",
            "EGINDAKO EVALS KOPURUA:198823\n",
            "POPULAZIOAREN BALIO HOBERENA: 0.6999482884909805\n",
            "ITERAZIOA: 330\n",
            "EGINDAKO EVALS KOPURUA:204989\n",
            "POPULAZIOAREN BALIO HOBERENA: 0.6999482884909805\n",
            "ITERAZIOA: 340\n",
            "EGINDAKO EVALS KOPURUA:211190\n",
            "POPULAZIOAREN BALIO HOBERENA: 0.6999482884909805\n",
            "ITERAZIOA: 350\n",
            "EGINDAKO EVALS KOPURUA:217405\n",
            "POPULAZIOAREN BALIO HOBERENA: 0.7015594907588818\n",
            "ITERAZIOA: 360\n",
            "EGINDAKO EVALS KOPURUA:223603\n",
            "POPULAZIOAREN BALIO HOBERENA: 0.7015594907588818\n",
            "ITERAZIOA: 370\n",
            "EGINDAKO EVALS KOPURUA:229804\n",
            "POPULAZIOAREN BALIO HOBERENA: 0.7015594907588818\n",
            "ITERAZIOA: 380\n",
            "EGINDAKO EVALS KOPURUA:235997\n",
            "POPULAZIOAREN BALIO HOBERENA: 0.701560724923775\n",
            "ITERAZIOA: 390\n",
            "EGINDAKO EVALS KOPURUA:242218\n",
            "POPULAZIOAREN BALIO HOBERENA: 0.701560724923775\n",
            "ITERAZIOA: 400\n",
            "EGINDAKO EVALS KOPURUA:248423\n",
            "POPULAZIOAREN BALIO HOBERENA: 0.701560724923775\n",
            "ITERAZIOA: 410\n",
            "EGINDAKO EVALS KOPURUA:254646\n",
            "POPULAZIOAREN BALIO HOBERENA: 0.701560724923775\n",
            "ITERAZIOA: 420\n",
            "EGINDAKO EVALS KOPURUA:260851\n",
            "POPULAZIOAREN BALIO HOBERENA: 0.701560724923775\n",
            "ITERAZIOA: 430\n",
            "EGINDAKO EVALS KOPURUA:267061\n",
            "POPULAZIOAREN BALIO HOBERENA: 0.701560724923775\n",
            "ITERAZIOA: 440\n",
            "EGINDAKO EVALS KOPURUA:273271\n",
            "POPULAZIOAREN BALIO HOBERENA: 0.701560724923775\n",
            "ITERAZIOA: 450\n",
            "EGINDAKO EVALS KOPURUA:279476\n",
            "POPULAZIOAREN BALIO HOBERENA: 0.701560724923775\n",
            "ITERAZIOA: 460\n",
            "EGINDAKO EVALS KOPURUA:285712\n",
            "POPULAZIOAREN BALIO HOBERENA: 0.701560724923775\n",
            "ITERAZIOA: 470\n",
            "EGINDAKO EVALS KOPURUA:291921\n",
            "POPULAZIOAREN BALIO HOBERENA: 0.701560724923775\n"
          ]
        }
      ],
      "source": [
        "size = len(G)\n",
        "print(size)\n",
        "k = 5\n",
        "initial_sol = [rm.randint(0,k) for i in range(size)]\n",
        "fit_ils, sol_ils , evals,_ = ILS(G,initial_sol, k, budget, show = False)\n",
        "best_partition = dict(zip(G.nodes, sol_ils))\n",
        "#fit_ils,_,_ = modularitatea2OPT(grafoa, kanpokoak_sartu(best_partition, k, kanpokoak), degree, m)\n",
        "ils_denb = time.time()-start_ils\n",
        "\n",
        "\n",
        "start_eda= time.time()\n",
        "sol_eda = EDA(G, 5, 500, 0.8, 0.95, 600,100, float('inf'),budget)\n",
        "fit_eda, _, _ = modularitatea2OPT(G, kanpokoak_sartu(sol_eda, k, kanpokoak), degree, m)\n",
        "eda_time = time.time()-start_eda\n",
        "\n",
        "start_ils= time.time()\n",
        "partizioa = algoritmo_eraikitzailea(G,k, weight= 'weight')\n",
        "fit_eraiki, _,_ = modularitatea2OPT(G,partizioa, degree, m)\n",
        "initial_sol = from_dict_to_list(G, partizioa)\n",
        "fit_ils, sol_ils , evals,_ = ILS(G,initial_sol, k, budget, show = False)\n",
        "best_partition = dict(zip(G.nodes, sol_ils))\n",
        "fit_ils,_,_ = modularitatea2OPT(G, kanpokoak_sartu(best_partition, k, kanpokoak), degree, m)\n",
        "ils_denb = time.time()-start_ils"
      ]
    },
    {
      "cell_type": "code",
      "execution_count": null,
      "metadata": {
        "id": "5TodTyEX4JGn",
        "outputId": "3d7dd3cd-b35c-4bbd-b4c5-de928fae421c"
      },
      "outputs": [
        {
          "name": "stdout",
          "output_type": "stream",
          "text": [
            "0.701560724923775\n",
            "0.6214242386282505\n",
            "531\n",
            "0.6034662138104286\n"
          ]
        }
      ],
      "source": [
        "print(fit_eda)\n",
        "start_ils= time.time()\n",
        "partizioa = algoritmo_eraikitzailea(G,k, weight= 'weight')\n",
        "fit_eraiki, _,_ = modularitatea2OPT(G,partizioa, degree, m)\n",
        "initial_sol = from_dict_to_list(G, partizioa)\n",
        "fit_ils, sol_ils , evals,_ = ILS(G,initial_sol, k, budget, show = False)\n",
        "best_partition = dict(zip(G.nodes, sol_ils))\n",
        "fit_ils,_,_ = modularitatea2OPT(G, kanpokoak_sartu(best_partition, k, kanpokoak), degree, m)\n",
        "ils_denb = time.time()-start_ils\n",
        "print(fit_ils)\n",
        "size = len(G)\n",
        "print(size)\n",
        "k = 5\n",
        "initial_sol = [rm.randint(0,k) for i in range(size)]\n",
        "fit_ils1, sol_ils , evals,_ = ILS(G,initial_sol, k, budget, show = False)\n",
        "best_partition = dict(zip(G.nodes, sol_ils))\n",
        "fit_ils1,_,_ = modularitatea2OPT(G, kanpokoak_sartu(best_partition, k, kanpokoak), degree, m)\n",
        "ils_denb = time.time()-start_ils\n",
        "print(fit_ils1)"
      ]
    }
  ],
  "metadata": {
    "kernelspec": {
      "display_name": "Python 3 (ipykernel)",
      "language": "python",
      "name": "python3"
    },
    "language_info": {
      "codemirror_mode": {
        "name": "ipython",
        "version": 3
      },
      "file_extension": ".py",
      "mimetype": "text/x-python",
      "name": "python",
      "nbconvert_exporter": "python",
      "pygments_lexer": "ipython3",
      "version": "3.10.6"
    },
    "colab": {
      "provenance": []
    }
  },
  "nbformat": 4,
  "nbformat_minor": 0
}